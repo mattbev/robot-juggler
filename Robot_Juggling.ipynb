{
 "cells": [
  {
   "cell_type": "markdown",
   "metadata": {
    "colab_type": "text",
    "id": "view-in-github"
   },
   "source": [
    "<a href=\"https://colab.research.google.com/github/mattbev/robot-juggler/blob/main/Robot_Juggling.ipynb\" target=\"_parent\"><img src=\"https://colab.research.google.com/assets/colab-badge.svg\" alt=\"Open In Colab\"/></a>"
   ]
  },
  {
   "cell_type": "markdown",
   "metadata": {
    "id": "EgiF12Hf1Dhs"
   },
   "source": [
    "**I recommend you run the first code cell of this notebook immediately, to start provisioning drake on the cloud machine, then you can leave this window open as you [read the textbook](manipulation.csail.mit.edu/robot.html).**\n",
    "\n",
    "# Notebook setup\n",
    "\n",
    "The following cell will:\n",
    "- on Colab (only), install Drake to `/opt/drake`, install Drake's prerequisites via `apt`, and add pydrake to `sys.path`.  This will take approximately two minutes on the first time it runs (to provision the machine), but should only need to reinstall once every 12 hours.  If you navigate between notebooks using Colab's \"File->Open\" menu, then you can avoid provisioning a separate machine for each notebook.\n",
    "- launch a server for our 3D visualizer (MeshCat) that will be used for the remainder of this notebook.\n",
    "\n",
    "You will need to rerun this cell if you restart the kernel, but it should be fast because the machine will already have drake installed."
   ]
  },
  {
   "cell_type": "code",
   "execution_count": 1,
   "metadata": {
    "colab": {
     "base_uri": "https://localhost:8080/"
    },
    "id": "eeMrMI0-1Dhu",
    "outputId": "80ba1308-b814-4d0c-b36a-061c4f38cb0e"
   },
   "outputs": [],
   "source": [
    "import importlib\n",
    "import sys\n",
    "from urllib.request import urlretrieve\n",
    "\n",
    "if 'google.colab' in sys.modules and importlib.util.find_spec('pydrake') is None:\n",
    "  version='20200918'\n",
    "  build='nightly'\n",
    "  urlretrieve(f\"https://drake-packages.csail.mit.edu/drake/{build}/drake-{version}/setup_drake_colab.py\",\n",
    "              \"setup_drake_colab.py\")\n",
    "  from setup_drake_colab import setup_drake\n",
    "  setup_drake(version=version, build=build)\n",
    "  !pip install pyngrok==4.2.2\n",
    "\n",
    "# Install pyngrok.\n",
    "server_args = []\n",
    "if 'google.colab' in sys.modules:\n",
    "  server_args = ['--ngrok_http_tunnel']\n",
    "\n",
    "# Start a single meshcat server instance to use for the remainder of this notebook.\n",
    "from meshcat.servers.zmqserver import start_zmq_server_as_subprocess\n",
    "proc, zmq_url, web_url = start_zmq_server_as_subprocess(server_args=server_args)\n",
    "\n",
    "# Determine if this notebook is currently running as a notebook or a unit test.\n",
    "from IPython import get_ipython\n",
    "running_as_notebook = get_ipython() and hasattr(get_ipython(), 'kernel')\n",
    "\n",
    "# Imports\n",
    "import numpy as np\n",
    "import pydot\n",
    "from ipywidgets import Dropdown, Layout\n",
    "from IPython.display import display, HTML, SVG\n",
    "\n",
    "from pydrake.all import (\n",
    "    AddMultibodyPlantSceneGraph, ConnectMeshcatVisualizer, DiagramBuilder, \n",
    "    FindResourceOrThrow, GenerateHtml, InverseDynamicsController, \n",
    "    MultibodyPlant, Parser, Simulator)\n",
    "from pydrake.multibody.jupyter_widgets import MakeJointSlidersThatPublishOnCallback\n"
   ]
  },
  {
   "cell_type": "markdown",
   "metadata": {
    "id": "wJWL-ldv5REK"
   },
   "source": [
    "# KUKA iiwa arm\n"
   ]
  },
  {
   "cell_type": "code",
   "execution_count": 2,
   "metadata": {
    "colab": {
     "base_uri": "https://localhost:8080/",
     "height": 297,
     "referenced_widgets": [
      "beec2b614e2d4455b5cbab39e7c40a86",
      "42f57304ac414f8f97f581946441ca07",
      "70491e6644bf47b7804271cc54de2094",
      "84fdefe571044dd9be613389bec109d0",
      "469c98d12bbb4d7e86ec755f7be5dac2",
      "12e8d743ffcf4f44a4f976983fe6de5a",
      "33abca8e141744779731a9ddf99c0a50",
      "61fd458d42674ae7827e6342d159393d",
      "b6cc5d73058543a9ad957999b74a2fb8",
      "7af7cd7485564731a3d1b4d92f367cd4",
      "6cf2f2c2f3c346169914dbf93a7a97f6",
      "ce2045dff04545fdba931e0f6a304da6",
      "6558525754fc482a9e977d80f84418c4",
      "05c95631d38b41f298b0803fb3b65077",
      "836ff441c8fe493183c630e07beca9b0",
      "c7a5f9db397641199c9580d74b13eeac",
      "4f0598c97843413baadcc98ffc24e156",
      "751a9175d0d34174b8ad3194662e9125",
      "54560eb6c0f94cceb762fbee4f25cc61",
      "4f42949306534c46b4df20dc9ac2bf1c",
      "1f6fad3a989d41f396325e1c431a204d"
     ]
    },
    "id": "9GSF52A8ExQa",
    "outputId": "642ab259-b727-4219-93d2-79706700b38d"
   },
   "outputs": [
    {
     "name": "stdout",
     "output_type": "stream",
     "text": [
      "Connecting to meshcat-server at zmq_url=tcp://127.0.0.1:6000...\n",
      "You can open the visualizer by visiting the following URL:\n",
      "http://127.0.0.1:7000/static/\n",
      "Connected to meshcat-server.\n"
     ]
    },
    {
     "data": {
      "application/vnd.jupyter.widget-view+json": {
       "model_id": "af183a1d3dec4daabf97fc39031b14ff",
       "version_major": 2,
       "version_minor": 0
      },
      "text/plain": [
       "FloatSlider(value=0.0, description='iiwa_joint_1', layout=Layout(width=\"'200'\"), max=2.96706, min=-2.96706, st…"
      ]
     },
     "metadata": {},
     "output_type": "display_data"
    },
    {
     "data": {
      "application/vnd.jupyter.widget-view+json": {
       "model_id": "22fb8d0942684135ac2cbc87f817d41c",
       "version_major": 2,
       "version_minor": 0
      },
      "text/plain": [
       "FloatSlider(value=0.0, description='iiwa_joint_2', layout=Layout(width=\"'200'\"), max=2.0944, min=-2.0944, step…"
      ]
     },
     "metadata": {},
     "output_type": "display_data"
    },
    {
     "data": {
      "application/vnd.jupyter.widget-view+json": {
       "model_id": "c9c18288446d4cfdb7f46cd38a0c79f7",
       "version_major": 2,
       "version_minor": 0
      },
      "text/plain": [
       "FloatSlider(value=0.0, description='iiwa_joint_3', layout=Layout(width=\"'200'\"), max=2.96706, min=-2.96706, st…"
      ]
     },
     "metadata": {},
     "output_type": "display_data"
    },
    {
     "data": {
      "application/vnd.jupyter.widget-view+json": {
       "model_id": "cc490504f692402383867cb89a5e9148",
       "version_major": 2,
       "version_minor": 0
      },
      "text/plain": [
       "FloatSlider(value=0.0, description='iiwa_joint_4', layout=Layout(width=\"'200'\"), max=2.0944, min=-2.0944, step…"
      ]
     },
     "metadata": {},
     "output_type": "display_data"
    },
    {
     "data": {
      "application/vnd.jupyter.widget-view+json": {
       "model_id": "c89a94b43d124c6ab019c1464763e4e0",
       "version_major": 2,
       "version_minor": 0
      },
      "text/plain": [
       "FloatSlider(value=0.0, description='iiwa_joint_5', layout=Layout(width=\"'200'\"), max=2.96706, min=-2.96706, st…"
      ]
     },
     "metadata": {},
     "output_type": "display_data"
    },
    {
     "data": {
      "application/vnd.jupyter.widget-view+json": {
       "model_id": "13a0e9b631424cb3a3e06e7b046f27f0",
       "version_major": 2,
       "version_minor": 0
      },
      "text/plain": [
       "FloatSlider(value=0.0, description='iiwa_joint_6', layout=Layout(width=\"'200'\"), max=2.0944, min=-2.0944, step…"
      ]
     },
     "metadata": {},
     "output_type": "display_data"
    },
    {
     "data": {
      "application/vnd.jupyter.widget-view+json": {
       "model_id": "36f3f79777ae4f3fafcf2771a868e1ab",
       "version_major": 2,
       "version_minor": 0
      },
      "text/plain": [
       "FloatSlider(value=0.0, description='iiwa_joint_7', layout=Layout(width=\"'200'\"), max=3.05433, min=-3.05433, st…"
      ]
     },
     "metadata": {},
     "output_type": "display_data"
    }
   ],
   "source": [
    "builder = DiagramBuilder()\n",
    "\n",
    "plant, scene_graph = AddMultibodyPlantSceneGraph(builder, time_step=1e-4)\n",
    "Parser(plant, scene_graph).AddModelFromFile(FindResourceOrThrow(\"drake/manipulation/models/iiwa_description/iiwa7/iiwa7_no_collision.sdf\"))\n",
    "plant.Finalize()\n",
    "\n",
    "meshcat = ConnectMeshcatVisualizer(builder, scene_graph, zmq_url=zmq_url)\n",
    "diagram = builder.Build()\n",
    "context = diagram.CreateDefaultContext()\n",
    "\n",
    "meshcat.load()\n",
    "MakeJointSlidersThatPublishOnCallback(plant, meshcat, context);"
   ]
  },
  {
   "cell_type": "markdown",
   "metadata": {
    "id": "nPy2VgSH1Dh5"
   },
   "source": [
    "# Simulation with block diagrams\n",
    "\n",
    "In this chapter, and throughout the notes, we will be building up our simulations and controllers using drake's block diagram modeling language (we call it the \"systems framework\").  [This tutorial](https://mybinder.org/v2/gh/RobotLocomotion/drake/nightly-release?filepath=tutorials/dynamical_systems.ipynb)  provides a brief introduction.  \n"
   ]
  },
  {
   "cell_type": "markdown",
   "metadata": {
    "id": "Dl9NDxDR1Dh6"
   },
   "source": [
    "# Simulating the (passive) iiwa\n",
    "\n",
    "Let's load our robot of choice (the Kuka iiwa) into the physics engine, which we call [MultibodyPlant](https://drake.mit.edu/doxygen_cxx/classdrake_1_1multibody_1_1_multibody_plant.html).\n"
   ]
  },
  {
   "cell_type": "code",
   "execution_count": 3,
   "metadata": {
    "id": "DyfpxsGR1Dh6"
   },
   "outputs": [],
   "source": [
    "plant = MultibodyPlant(time_step=1e-4)\n",
    "Parser(plant).AddModelFromFile(\n",
    "        FindResourceOrThrow(\"drake/manipulation/models/iiwa_description/sdf/iiwa14_no_collision.sdf\"))\n",
    "plant.WeldFrames(plant.world_frame(), plant.GetFrameByName(\"iiwa_link_0\"))\n",
    "plant.Finalize()"
   ]
  },
  {
   "cell_type": "markdown",
   "metadata": {
    "id": "H3G-pTB5bit8"
   },
   "source": [
    "In Drake, we are very careful to separate the *state* of a system from the system itself.  For example, let's think of a dynamical system as given by the difference equation: $$x[n+1] = f(n, x[n], u[n]),$$ where $n$ is the \"time\", $x$ is the state, and $u$ is any inputs to the system.  The `System` describes $f()$, but we use a structure called the [`Context`](https://drake.mit.edu/doxygen_cxx/classdrake_1_1systems_1_1_context.html) to hold the runtime values: $n, x, u$.  We use a structure, because some systems have even more runtime values, that describe system parameters, random noise inputs, etc, and it is cleaner to pass a structure around than have each system accept a different list of possible inputs.  As a rule `System` is constant over the duration of a simulation, and you should be able to obtain repeatable, deterministic simulations given any value `Context`.\n",
    "\n",
    "Let's see what the `Context` looks like for the physics engine now that we've loaded the iiwa into it."
   ]
  },
  {
   "cell_type": "code",
   "execution_count": 4,
   "metadata": {
    "colab": {
     "base_uri": "https://localhost:8080/"
    },
    "id": "P8HoF2KPdXNL",
    "outputId": "5d0371aa-ed78-4a40-c7fa-9ebb05241c08"
   },
   "outputs": [
    {
     "name": "stdout",
     "output_type": "stream",
     "text": [
      "::_ Context\n",
      "------------\n",
      "Time: 0\n",
      "States:\n",
      "  1 discrete state groups with\n",
      "     14 states\n",
      "       0 0 0 0 0 0 0 0 0 0 0 0 0 0\n",
      "\n",
      "Parameters:\n",
      "  24 numeric parameter groups with\n",
      "     10 parameters\n",
      "       nan nan nan nan nan nan nan nan nan nan\n",
      "     10 parameters\n",
      "            5   -0.1      0   0.07 0.0149 0.0269  0.016      0  0.007      0\n",
      "     10 parameters\n",
      "             5.76          0      -0.03       0.12  0.0210292  0.0201812 0.00303542          0          0     0.0036\n",
      "     10 parameters\n",
      "             6.35     0.0003      0.059      0.042  0.0100481 0.00655149 0.00521337  -1.77e-05  -1.26e-05  -0.002478\n",
      "     10 parameters\n",
      "              3.5          0       0.03       0.13  0.0249429     0.0237 0.00307143          0          0    -0.0039\n",
      "     10 parameters\n",
      "              3.5          0      0.067      0.034  0.0105021 0.00584171 0.00620329          0          0  -0.002278\n",
      "     10 parameters\n",
      "              3.5     0.0001      0.021      0.076 0.00907414 0.00826172 0.00172387   -2.1e-06   -7.6e-06  -0.001596\n",
      "     10 parameters\n",
      "              1.8          0     0.0006     0.0004 0.00272274 0.00261127 0.00200036          0          0   -2.4e-07\n",
      "     10 parameters\n",
      "               1.2           0           0        0.02  0.00123333  0.00123333 0.000833333           0           0           0\n",
      "     12 parameters\n",
      "        1  0  0  0  1  0  0  0  1 -0 -0 -0\n",
      "     12 parameters\n",
      "            1      0      0      0      1      0      0      0      1      0      0 0.1575\n",
      "     12 parameters\n",
      "       1 0 0 0 1 0 0 0 1 0 0 0\n",
      "     12 parameters\n",
      "                 -1  1.22465e-16            0  6.16298e-32  4.44089e-16            1  1.22465e-16            1 -4.44089e-16            0            0       0.2025\n",
      "     12 parameters\n",
      "                 1           0           0           0           1           0           0           0           1 7.70372e-34 2.77556e-17 2.77556e-17\n",
      "     12 parameters\n",
      "                 -1  1.22465e-16            0  6.16298e-32  4.44089e-16            1  1.22465e-16            1 -4.44089e-16            0       0.2045            0\n",
      "     12 parameters\n",
      "                  1  -1.2326e-32 -2.46519e-32   1.2326e-32            1 -1.51929e-64  2.46519e-32 -1.51929e-64            1            0            0 -5.55112e-17\n",
      "     12 parameters\n",
      "                  1            0            0            0 -4.44089e-16            1            0           -1 -4.44089e-16  -1.2326e-32            0       0.2155\n",
      "     12 parameters\n",
      "                  1  1.27639e-32 -1.27639e-32 -1.27639e-32            1  8.14591e-65  1.27639e-32  8.14591e-65            1 -2.75063e-33            0 -2.77556e-17\n",
      "     12 parameters\n",
      "                 -1            0 -1.22465e-16 -1.22465e-16 -4.44089e-16            1 -6.16298e-32            1  4.44089e-16  1.37389e-32       0.1845 -5.55112e-17\n",
      "     12 parameters\n",
      "                  1 -7.39557e-32  -1.2326e-32  7.39557e-32            1 -4.55787e-64   1.2326e-32 -4.55787e-64            1 -1.15556e-32 -5.81757e-17            0\n",
      "     12 parameters\n",
      "                  1            0            0            0 -4.44089e-16            1            0           -1 -4.44089e-16  -1.2326e-32            0       0.2155\n",
      "     12 parameters\n",
      "                  1 -8.21073e-48 -3.48631e-32  8.21073e-48            1 -1.43126e-79  3.48631e-32 -1.43126e-79            1  2.46519e-32            0 -2.77556e-17\n",
      "     12 parameters\n",
      "                 -1            0 -1.22465e-16 -1.22465e-16 -4.44089e-16            1 -6.16298e-32            1  4.44089e-16  3.69779e-32        0.081            0\n",
      "     12 parameters\n",
      "                  1 -2.46519e-32  3.69779e-32  2.46519e-32            1  4.55787e-64 -3.69779e-32  4.55787e-64            1  2.15704e-32  2.08167e-17  4.16334e-17\n",
      "\n"
     ]
    }
   ],
   "source": [
    "context = plant.CreateDefaultContext()\n",
    "print(context)"
   ]
  },
  {
   "cell_type": "markdown",
   "metadata": {
    "id": "vr80vD3Be7uZ"
   },
   "source": [
    "The system has 14 state variables -- these are the 7 joint positions and 7 joint velocities for the iiwa.  Those states are discrete, because we passed a non-zero `time_step` to the constructor of the `MultibodyPlant`, which means the physics engine will be use a time-stepping simulation scheme (this will be the most performant when we start simulating contact).  Go ahead and try changing `time_step` to zero, and see what happens.\n",
    "\n",
    "You'll notice the context has lots of parameters (currently these include the mass, the center of mass, and the inertia of each body).  You won't need those any time soon, but it does enable some super cool advanced features.\n",
    "\n",
    "Because the `Context` for a `MultibodyPlant` can get quite complicated, `MultibodyPlant` offers some methods that help you get/set the values.  Let's set some non-zero initial positions."
   ]
  },
  {
   "cell_type": "code",
   "execution_count": 5,
   "metadata": {
    "colab": {
     "base_uri": "https://localhost:8080/"
    },
    "id": "73whw6YZf9PP",
    "outputId": "ad5b8b7e-8a8c-4c67-e2b0-645cf794fc13"
   },
   "outputs": [
    {
     "name": "stdout",
     "output_type": "stream",
     "text": [
      "::_ Context\n",
      "------------\n",
      "Time: 0\n",
      "States:\n",
      "  1 discrete state groups with\n",
      "     14 states\n",
      "       -1.57   0.1     0  -1.2     0   1.6     0     0     0     0     0     0     0     0\n",
      "\n",
      "Parameters:\n",
      "  24 numeric parameter groups with\n",
      "     10 parameters\n",
      "       nan nan nan nan nan nan nan nan nan nan\n",
      "     10 parameters\n",
      "            5   -0.1      0   0.07 0.0149 0.0269  0.016      0  0.007      0\n",
      "     10 parameters\n",
      "             5.76          0      -0.03       0.12  0.0210292  0.0201812 0.00303542          0          0     0.0036\n",
      "     10 parameters\n",
      "             6.35     0.0003      0.059      0.042  0.0100481 0.00655149 0.00521337  -1.77e-05  -1.26e-05  -0.002478\n",
      "     10 parameters\n",
      "              3.5          0       0.03       0.13  0.0249429     0.0237 0.00307143          0          0    -0.0039\n",
      "     10 parameters\n",
      "              3.5          0      0.067      0.034  0.0105021 0.00584171 0.00620329          0          0  -0.002278\n",
      "     10 parameters\n",
      "              3.5     0.0001      0.021      0.076 0.00907414 0.00826172 0.00172387   -2.1e-06   -7.6e-06  -0.001596\n",
      "     10 parameters\n",
      "              1.8          0     0.0006     0.0004 0.00272274 0.00261127 0.00200036          0          0   -2.4e-07\n",
      "     10 parameters\n",
      "               1.2           0           0        0.02  0.00123333  0.00123333 0.000833333           0           0           0\n",
      "     12 parameters\n",
      "        1  0  0  0  1  0  0  0  1 -0 -0 -0\n",
      "     12 parameters\n",
      "            1      0      0      0      1      0      0      0      1      0      0 0.1575\n",
      "     12 parameters\n",
      "       1 0 0 0 1 0 0 0 1 0 0 0\n",
      "     12 parameters\n",
      "                 -1  1.22465e-16            0  6.16298e-32  4.44089e-16            1  1.22465e-16            1 -4.44089e-16            0            0       0.2025\n",
      "     12 parameters\n",
      "                 1           0           0           0           1           0           0           0           1 7.70372e-34 2.77556e-17 2.77556e-17\n",
      "     12 parameters\n",
      "                 -1  1.22465e-16            0  6.16298e-32  4.44089e-16            1  1.22465e-16            1 -4.44089e-16            0       0.2045            0\n",
      "     12 parameters\n",
      "                  1  -1.2326e-32 -2.46519e-32   1.2326e-32            1 -1.51929e-64  2.46519e-32 -1.51929e-64            1            0            0 -5.55112e-17\n",
      "     12 parameters\n",
      "                  1            0            0            0 -4.44089e-16            1            0           -1 -4.44089e-16  -1.2326e-32            0       0.2155\n",
      "     12 parameters\n",
      "                  1  1.27639e-32 -1.27639e-32 -1.27639e-32            1  8.14591e-65  1.27639e-32  8.14591e-65            1 -2.75063e-33            0 -2.77556e-17\n",
      "     12 parameters\n",
      "                 -1            0 -1.22465e-16 -1.22465e-16 -4.44089e-16            1 -6.16298e-32            1  4.44089e-16  1.37389e-32       0.1845 -5.55112e-17\n",
      "     12 parameters\n",
      "                  1 -7.39557e-32  -1.2326e-32  7.39557e-32            1 -4.55787e-64   1.2326e-32 -4.55787e-64            1 -1.15556e-32 -5.81757e-17            0\n",
      "     12 parameters\n",
      "                  1            0            0            0 -4.44089e-16            1            0           -1 -4.44089e-16  -1.2326e-32            0       0.2155\n",
      "     12 parameters\n",
      "                  1 -8.21073e-48 -3.48631e-32  8.21073e-48            1 -1.43126e-79  3.48631e-32 -1.43126e-79            1  2.46519e-32            0 -2.77556e-17\n",
      "     12 parameters\n",
      "                 -1            0 -1.22465e-16 -1.22465e-16 -4.44089e-16            1 -6.16298e-32            1  4.44089e-16  3.69779e-32        0.081            0\n",
      "     12 parameters\n",
      "                  1 -2.46519e-32  3.69779e-32  2.46519e-32            1  4.55787e-64 -3.69779e-32  4.55787e-64            1  2.15704e-32  2.08167e-17  4.16334e-17\n",
      "\n"
     ]
    }
   ],
   "source": [
    "# Set all of the joint positions at once in a single vector.\n",
    "plant.SetPositions(context, [-1.57, 0.1, 0, 0, 0, 1.6, 0])\n",
    "# You can also set them by referencing particular joints.\n",
    "plant.GetJointByName(\"iiwa_joint_4\").set_angle(context, -1.2)\n",
    "print(context)"
   ]
  },
  {
   "cell_type": "markdown",
   "metadata": {
    "id": "LpQlGh1Ai27g"
   },
   "source": [
    "The iiwa model also defined 7 actuators.  Before we can run a simulation, we need to provide some values for those inputs to the `MultibodyPlant` `actuation_input_port`.  For this warm-up, we'll just set them to zero."
   ]
  },
  {
   "cell_type": "code",
   "execution_count": 6,
   "metadata": {
    "id": "dJx-KrGUjR8x"
   },
   "outputs": [],
   "source": [
    "plant.get_actuation_input_port().FixValue(context, np.zeros(7));"
   ]
  },
  {
   "cell_type": "markdown",
   "metadata": {
    "id": "zqb66IBcierZ"
   },
   "source": [
    "Now we can set up and run a simulation."
   ]
  },
  {
   "cell_type": "code",
   "execution_count": 7,
   "metadata": {
    "colab": {
     "base_uri": "https://localhost:8080/"
    },
    "id": "6DYEtGbtimit",
    "outputId": "0e3c6354-0f4e-41bf-9c41-96422da6346c"
   },
   "outputs": [
    {
     "name": "stdout",
     "output_type": "stream",
     "text": [
      "::_ Context\n",
      "------------\n",
      "Time: 5\n",
      "States:\n",
      "  1 discrete state groups with\n",
      "     14 states\n",
      "          -1.53093     2.09596  -0.0164211   -0.689524     2.92046    0.808647   -0.267658   -0.105249 -0.00676799    0.221191     4.05478   -0.934069     3.10075     7.11648\n",
      "\n",
      "Parameters:\n",
      "  24 numeric parameter groups with\n",
      "     10 parameters\n",
      "       nan nan nan nan nan nan nan nan nan nan\n",
      "     10 parameters\n",
      "            5   -0.1      0   0.07 0.0149 0.0269  0.016      0  0.007      0\n",
      "     10 parameters\n",
      "             5.76          0      -0.03       0.12  0.0210292  0.0201812 0.00303542          0          0     0.0036\n",
      "     10 parameters\n",
      "             6.35     0.0003      0.059      0.042  0.0100481 0.00655149 0.00521337  -1.77e-05  -1.26e-05  -0.002478\n",
      "     10 parameters\n",
      "              3.5          0       0.03       0.13  0.0249429     0.0237 0.00307143          0          0    -0.0039\n",
      "     10 parameters\n",
      "              3.5          0      0.067      0.034  0.0105021 0.00584171 0.00620329          0          0  -0.002278\n",
      "     10 parameters\n",
      "              3.5     0.0001      0.021      0.076 0.00907414 0.00826172 0.00172387   -2.1e-06   -7.6e-06  -0.001596\n",
      "     10 parameters\n",
      "              1.8          0     0.0006     0.0004 0.00272274 0.00261127 0.00200036          0          0   -2.4e-07\n",
      "     10 parameters\n",
      "               1.2           0           0        0.02  0.00123333  0.00123333 0.000833333           0           0           0\n",
      "     12 parameters\n",
      "        1  0  0  0  1  0  0  0  1 -0 -0 -0\n",
      "     12 parameters\n",
      "            1      0      0      0      1      0      0      0      1      0      0 0.1575\n",
      "     12 parameters\n",
      "       1 0 0 0 1 0 0 0 1 0 0 0\n",
      "     12 parameters\n",
      "                 -1  1.22465e-16            0  6.16298e-32  4.44089e-16            1  1.22465e-16            1 -4.44089e-16            0            0       0.2025\n",
      "     12 parameters\n",
      "                 1           0           0           0           1           0           0           0           1 7.70372e-34 2.77556e-17 2.77556e-17\n",
      "     12 parameters\n",
      "                 -1  1.22465e-16            0  6.16298e-32  4.44089e-16            1  1.22465e-16            1 -4.44089e-16            0       0.2045            0\n",
      "     12 parameters\n",
      "                  1  -1.2326e-32 -2.46519e-32   1.2326e-32            1 -1.51929e-64  2.46519e-32 -1.51929e-64            1            0            0 -5.55112e-17\n",
      "     12 parameters\n",
      "                  1            0            0            0 -4.44089e-16            1            0           -1 -4.44089e-16  -1.2326e-32            0       0.2155\n",
      "     12 parameters\n",
      "                  1  1.27639e-32 -1.27639e-32 -1.27639e-32            1  8.14591e-65  1.27639e-32  8.14591e-65            1 -2.75063e-33            0 -2.77556e-17\n",
      "     12 parameters\n",
      "                 -1            0 -1.22465e-16 -1.22465e-16 -4.44089e-16            1 -6.16298e-32            1  4.44089e-16  1.37389e-32       0.1845 -5.55112e-17\n",
      "     12 parameters\n",
      "                  1 -7.39557e-32  -1.2326e-32  7.39557e-32            1 -4.55787e-64   1.2326e-32 -4.55787e-64            1 -1.15556e-32 -5.81757e-17            0\n",
      "     12 parameters\n",
      "                  1            0            0            0 -4.44089e-16            1            0           -1 -4.44089e-16  -1.2326e-32            0       0.2155\n",
      "     12 parameters\n",
      "                  1 -8.21073e-48 -3.48631e-32  8.21073e-48            1 -1.43126e-79  3.48631e-32 -1.43126e-79            1  2.46519e-32            0 -2.77556e-17\n",
      "     12 parameters\n",
      "                 -1            0 -1.22465e-16 -1.22465e-16 -4.44089e-16            1 -6.16298e-32            1  4.44089e-16  3.69779e-32        0.081            0\n",
      "     12 parameters\n",
      "                  1 -2.46519e-32  3.69779e-32  2.46519e-32            1  4.55787e-64 -3.69779e-32  4.55787e-64            1  2.15704e-32  2.08167e-17  4.16334e-17\n",
      "\n"
     ]
    }
   ],
   "source": [
    "simulator = Simulator(plant, context)\n",
    "simulator.AdvanceTo(5.0)\n",
    "print(context)"
   ]
  },
  {
   "cell_type": "markdown",
   "metadata": {
    "id": "8ZKEl1QU1Dh9"
   },
   "source": [
    "# Visualizing the scene\n",
    "\n",
    "The best way to visualize the results of a physics engine is with a 2D or 3D visualizer. For that, we need to add the system which curates the geometry of a scene (the geometry engine); in Drake with call it the [`SceneGraph`](https://drake.mit.edu/doxygen_cxx/classdrake_1_1geometry_1_1_scene_graph.html). Once we have a `SceneGraph`, then there are a number of different visualizers and sensors that we can add to the system to actually render the scene.\n",
    "\n",
    "We support a number of visualizers in drake (we ship a simple VTK-based \"drake-visualizer\" with our binary releases, or you can use RViz).  But because we're working in a jupyter notebook, and want you to be able to run 3D graphics on any machine without any installation required, we'll use the [MeshCat](https://github.com/rdeits/meshcat) visualizer throughout these notes.  \n",
    "\n",
    "To use all three systems (`MultibodyPlant`, `SceneGraph`, and `MeshcatVisualizer`), we need to assemble them into a [`Diagram`](https://drake.mit.edu/doxygen_cxx/classdrake_1_1systems_1_1_diagram.html) using a [`DiagramBuilder`](https://drake.mit.edu/doxygen_cxx/classdrake_1_1systems_1_1_diagram_builder.html).  Often you would add each system and then connect the ports together, but for common cases like we have here, we provide helper methods to reduce the boilerplate."
   ]
  },
  {
   "cell_type": "code",
   "execution_count": 8,
   "metadata": {
    "colab": {
     "base_uri": "https://localhost:8080/"
    },
    "id": "WkfjAgrL1Dh-",
    "outputId": "3ea91f96-5b08-4514-d6dc-32872e66ff2d"
   },
   "outputs": [
    {
     "name": "stdout",
     "output_type": "stream",
     "text": [
      "Connecting to meshcat-server at zmq_url=tcp://127.0.0.1:6000...\n",
      "You can open the visualizer by visiting the following URL:\n",
      "http://127.0.0.1:7000/static/\n",
      "Connected to meshcat-server.\n"
     ]
    }
   ],
   "source": [
    "builder = DiagramBuilder()\n",
    "\n",
    "# Adds both MultibodyPlant and the SceneGraph, and wires them together.\n",
    "plant, scene_graph = AddMultibodyPlantSceneGraph(builder, time_step=1e-4)\n",
    "# Note that we parse into both the plant and the scene_graph here.\n",
    "Parser(plant, scene_graph).AddModelFromFile(\n",
    "        FindResourceOrThrow(\"drake/manipulation/models/iiwa_description/sdf/iiwa14_no_collision.sdf\"))\n",
    "plant.WeldFrames(plant.world_frame(), plant.GetFrameByName(\"iiwa_link_0\"))\n",
    "plant.Finalize()\n",
    "\n",
    "# Adds the MeshcatVisualizer and wires it to the SceneGraph.\n",
    "meshcat = ConnectMeshcatVisualizer(builder, scene_graph, zmq_url=zmq_url)\n",
    "\n",
    "diagram = builder.Build()"
   ]
  },
  {
   "cell_type": "markdown",
   "metadata": {
    "id": "Rm4kVRMS1DiF"
   },
   "source": [
    "If you click on the link above, you can open a browser window to see the visualization.\n",
    "\n",
    "But the scene will be empty so far.  We need to actually construct the diagram and ask it to publish.  (You normally don't have to call these; MeshcatVisualizer will automatically load at initialization and publish on a fixed period during simulation)."
   ]
  },
  {
   "cell_type": "code",
   "execution_count": 9,
   "metadata": {
    "id": "2YMNZBi11DiN"
   },
   "outputs": [],
   "source": [
    "context = diagram.CreateDefaultContext()\n",
    "meshcat.load()\n",
    "diagram.Publish(context)"
   ]
  },
  {
   "cell_type": "markdown",
   "metadata": {
    "id": "kPcyp3zv1Dir"
   },
   "source": [
    "We've put together quite a complex system now.  A `Diagram` is just another `System`, so it has an associated context."
   ]
  },
  {
   "cell_type": "code",
   "execution_count": 10,
   "metadata": {
    "colab": {
     "base_uri": "https://localhost:8080/"
    },
    "id": "Kr9BgEkcCQaZ",
    "outputId": "f75e0f4d-1338-4ae1-ea3b-622f4a4acf8c"
   },
   "outputs": [
    {
     "name": "stdout",
     "output_type": "stream",
     "text": [
      "::_ Context (of a Diagram)\n",
      "---------------------------\n",
      "14 total discrete states in 1 groups\n",
      "270 total numeric parameters in 24 groups\n",
      "1 total abstract parameters\n",
      "\n",
      "::_::plant Context\n",
      "-------------------\n",
      "Time: 0\n",
      "States:\n",
      "  1 discrete state groups with\n",
      "     14 states\n",
      "       0 0 0 0 0 0 0 0 0 0 0 0 0 0\n",
      "\n",
      "Parameters:\n",
      "  24 numeric parameter groups with\n",
      "     10 parameters\n",
      "       nan nan nan nan nan nan nan nan nan nan\n",
      "     10 parameters\n",
      "            5   -0.1      0   0.07 0.0149 0.0269  0.016      0  0.007      0\n",
      "     10 parameters\n",
      "             5.76          0      -0.03       0.12  0.0210292  0.0201812 0.00303542          0          0     0.0036\n",
      "     10 parameters\n",
      "             6.35     0.0003      0.059      0.042  0.0100481 0.00655149 0.00521337  -1.77e-05  -1.26e-05  -0.002478\n",
      "     10 parameters\n",
      "              3.5          0       0.03       0.13  0.0249429     0.0237 0.00307143          0          0    -0.0039\n",
      "     10 parameters\n",
      "              3.5          0      0.067      0.034  0.0105021 0.00584171 0.00620329          0          0  -0.002278\n",
      "     10 parameters\n",
      "              3.5     0.0001      0.021      0.076 0.00907414 0.00826172 0.00172387   -2.1e-06   -7.6e-06  -0.001596\n",
      "     10 parameters\n",
      "              1.8          0     0.0006     0.0004 0.00272274 0.00261127 0.00200036          0          0   -2.4e-07\n",
      "     10 parameters\n",
      "               1.2           0           0        0.02  0.00123333  0.00123333 0.000833333           0           0           0\n",
      "     12 parameters\n",
      "        1  0  0  0  1  0  0  0  1 -0 -0 -0\n",
      "     12 parameters\n",
      "            1      0      0      0      1      0      0      0      1      0      0 0.1575\n",
      "     12 parameters\n",
      "       1 0 0 0 1 0 0 0 1 0 0 0\n",
      "     12 parameters\n",
      "                 -1  1.22465e-16            0  6.16298e-32  4.44089e-16            1  1.22465e-16            1 -4.44089e-16            0            0       0.2025\n",
      "     12 parameters\n",
      "                 1           0           0           0           1           0           0           0           1 7.70372e-34 2.77556e-17 2.77556e-17\n",
      "     12 parameters\n",
      "                 -1  1.22465e-16            0  6.16298e-32  4.44089e-16            1  1.22465e-16            1 -4.44089e-16            0       0.2045            0\n",
      "     12 parameters\n",
      "                  1  -1.2326e-32 -2.46519e-32   1.2326e-32            1 -1.51929e-64  2.46519e-32 -1.51929e-64            1            0            0 -5.55112e-17\n",
      "     12 parameters\n",
      "                  1            0            0            0 -4.44089e-16            1            0           -1 -4.44089e-16  -1.2326e-32            0       0.2155\n",
      "     12 parameters\n",
      "                  1  1.27639e-32 -1.27639e-32 -1.27639e-32            1  8.14591e-65  1.27639e-32  8.14591e-65            1 -2.75063e-33            0 -2.77556e-17\n",
      "     12 parameters\n",
      "                 -1            0 -1.22465e-16 -1.22465e-16 -4.44089e-16            1 -6.16298e-32            1  4.44089e-16  1.37389e-32       0.1845 -5.55112e-17\n",
      "     12 parameters\n",
      "                  1 -7.39557e-32  -1.2326e-32  7.39557e-32            1 -4.55787e-64   1.2326e-32 -4.55787e-64            1 -1.15556e-32 -5.81757e-17            0\n",
      "     12 parameters\n",
      "                  1            0            0            0 -4.44089e-16            1            0           -1 -4.44089e-16  -1.2326e-32            0       0.2155\n",
      "     12 parameters\n",
      "                  1 -8.21073e-48 -3.48631e-32  8.21073e-48            1 -1.43126e-79  3.48631e-32 -1.43126e-79            1  2.46519e-32            0 -2.77556e-17\n",
      "     12 parameters\n",
      "                 -1            0 -1.22465e-16 -1.22465e-16 -4.44089e-16            1 -6.16298e-32            1  4.44089e-16  3.69779e-32        0.081            0\n",
      "     12 parameters\n",
      "                  1 -2.46519e-32  3.69779e-32  2.46519e-32            1  4.55787e-64 -3.69779e-32  4.55787e-64            1  2.15704e-32  2.08167e-17  4.16334e-17\n",
      "\n",
      "::_::scene_graph Context\n",
      "-------------------------\n",
      "Time: 0\n",
      "Parameters:\n",
      "  1 abstract parameters\n",
      "\n"
     ]
    }
   ],
   "source": [
    "print(context)"
   ]
  },
  {
   "cell_type": "markdown",
   "metadata": {
    "id": "gu6_NRm_Cl-O"
   },
   "source": [
    "You can see that there is one additional \"abstract state\" from the `SceneGraph`.  `MeshcatVisualizer` is stateless.  Actually `SceneGraph` should really be stateless for these simple examples, too [#9501](https://github.com/RobotLocomotion/drake/issues/9501).\n",
    "\n",
    "It's also very useful to draw the actual block diagram."
   ]
  },
  {
   "cell_type": "markdown",
   "metadata": {
    "id": "5OwrpdeGE5aa"
   },
   "source": [
    "There is one more important detail: **The `Context` for the `Diagram` is not the `Context` of the `MultibodyPlant`**.  But you can extract the plant `Context`; and we need to in order to set the initial conditions of the robot."
   ]
  },
  {
   "cell_type": "code",
   "execution_count": 11,
   "metadata": {
    "colab": {
     "base_uri": "https://localhost:8080/"
    },
    "id": "aA5dasXyFWXo",
    "outputId": "e9d6534c-81c6-43cd-b7fd-700c37523f7d"
   },
   "outputs": [
    {
     "name": "stdout",
     "output_type": "stream",
     "text": [
      "::_ Context (of a Diagram)\n",
      "---------------------------\n",
      "14 total discrete states in 1 groups\n",
      "270 total numeric parameters in 24 groups\n",
      "1 total abstract parameters\n",
      "\n",
      "::_::plant Context\n",
      "-------------------\n",
      "Time: 0\n",
      "States:\n",
      "  1 discrete state groups with\n",
      "     14 states\n",
      "       -1.57   0.1     0  -1.2     0   1.6     0     0     0     0     0     0     0     0\n",
      "\n",
      "Parameters:\n",
      "  24 numeric parameter groups with\n",
      "     10 parameters\n",
      "       nan nan nan nan nan nan nan nan nan nan\n",
      "     10 parameters\n",
      "            5   -0.1      0   0.07 0.0149 0.0269  0.016      0  0.007      0\n",
      "     10 parameters\n",
      "             5.76          0      -0.03       0.12  0.0210292  0.0201812 0.00303542          0          0     0.0036\n",
      "     10 parameters\n",
      "             6.35     0.0003      0.059      0.042  0.0100481 0.00655149 0.00521337  -1.77e-05  -1.26e-05  -0.002478\n",
      "     10 parameters\n",
      "              3.5          0       0.03       0.13  0.0249429     0.0237 0.00307143          0          0    -0.0039\n",
      "     10 parameters\n",
      "              3.5          0      0.067      0.034  0.0105021 0.00584171 0.00620329          0          0  -0.002278\n",
      "     10 parameters\n",
      "              3.5     0.0001      0.021      0.076 0.00907414 0.00826172 0.00172387   -2.1e-06   -7.6e-06  -0.001596\n",
      "     10 parameters\n",
      "              1.8          0     0.0006     0.0004 0.00272274 0.00261127 0.00200036          0          0   -2.4e-07\n",
      "     10 parameters\n",
      "               1.2           0           0        0.02  0.00123333  0.00123333 0.000833333           0           0           0\n",
      "     12 parameters\n",
      "        1  0  0  0  1  0  0  0  1 -0 -0 -0\n",
      "     12 parameters\n",
      "            1      0      0      0      1      0      0      0      1      0      0 0.1575\n",
      "     12 parameters\n",
      "       1 0 0 0 1 0 0 0 1 0 0 0\n",
      "     12 parameters\n",
      "                 -1  1.22465e-16            0  6.16298e-32  4.44089e-16            1  1.22465e-16            1 -4.44089e-16            0            0       0.2025\n",
      "     12 parameters\n",
      "                 1           0           0           0           1           0           0           0           1 7.70372e-34 2.77556e-17 2.77556e-17\n",
      "     12 parameters\n",
      "                 -1  1.22465e-16            0  6.16298e-32  4.44089e-16            1  1.22465e-16            1 -4.44089e-16            0       0.2045            0\n",
      "     12 parameters\n",
      "                  1  -1.2326e-32 -2.46519e-32   1.2326e-32            1 -1.51929e-64  2.46519e-32 -1.51929e-64            1            0            0 -5.55112e-17\n",
      "     12 parameters\n",
      "                  1            0            0            0 -4.44089e-16            1            0           -1 -4.44089e-16  -1.2326e-32            0       0.2155\n",
      "     12 parameters\n",
      "                  1  1.27639e-32 -1.27639e-32 -1.27639e-32            1  8.14591e-65  1.27639e-32  8.14591e-65            1 -2.75063e-33            0 -2.77556e-17\n",
      "     12 parameters\n",
      "                 -1            0 -1.22465e-16 -1.22465e-16 -4.44089e-16            1 -6.16298e-32            1  4.44089e-16  1.37389e-32       0.1845 -5.55112e-17\n",
      "     12 parameters\n",
      "                  1 -7.39557e-32  -1.2326e-32  7.39557e-32            1 -4.55787e-64   1.2326e-32 -4.55787e-64            1 -1.15556e-32 -5.81757e-17            0\n",
      "     12 parameters\n",
      "                  1            0            0            0 -4.44089e-16            1            0           -1 -4.44089e-16  -1.2326e-32            0       0.2155\n",
      "     12 parameters\n",
      "                  1 -8.21073e-48 -3.48631e-32  8.21073e-48            1 -1.43126e-79  3.48631e-32 -1.43126e-79            1  2.46519e-32            0 -2.77556e-17\n",
      "     12 parameters\n",
      "                 -1            0 -1.22465e-16 -1.22465e-16 -4.44089e-16            1 -6.16298e-32            1  4.44089e-16  3.69779e-32        0.081            0\n",
      "     12 parameters\n",
      "                  1 -2.46519e-32  3.69779e-32  2.46519e-32            1  4.55787e-64 -3.69779e-32  4.55787e-64            1  2.15704e-32  2.08167e-17  4.16334e-17\n",
      "\n",
      "::_::scene_graph Context\n",
      "-------------------------\n",
      "Time: 0\n",
      "Parameters:\n",
      "  1 abstract parameters\n",
      "\n"
     ]
    }
   ],
   "source": [
    "plant_context = plant.GetMyMutableContextFromRoot(context)\n",
    "plant.SetPositions(plant_context, [-1.57, 0.1, 0, -1.2, 0, 1.6, 0])\n",
    "plant.get_actuation_input_port().FixValue(plant_context, np.zeros(7))\n",
    "print(context)"
   ]
  },
  {
   "cell_type": "markdown",
   "metadata": {
    "id": "Js2ulEaFF0yD"
   },
   "source": [
    "Accidentally using `context` instead of `plant_context` is a very common mistake!\n",
    "\n",
    "Ok, now we're ready to simulate.  Make sure your visualizer window is visible, then run the following cell."
   ]
  },
  {
   "cell_type": "code",
   "execution_count": 12,
   "metadata": {
    "colab": {
     "base_uri": "https://localhost:8080/",
     "height": 215
    },
    "id": "ZySlXAKSGLaS",
    "outputId": "a3daed35-2e84-47be-e961-3d9a8148d1ba"
   },
   "outputs": [
    {
     "data": {
      "text/plain": [
       "<pydrake.systems.analysis.SimulatorStatus at 0x7fa2d45dc270>"
      ]
     },
     "execution_count": 12,
     "metadata": {},
     "output_type": "execute_result"
    }
   ],
   "source": [
    "simulator = Simulator(diagram, context)\n",
    "simulator.set_target_realtime_rate(1.0)\n",
    "simulator.AdvanceTo(5.0 if running_as_notebook else 0.1)"
   ]
  },
  {
   "cell_type": "markdown",
   "metadata": {
    "id": "Fdkx17YxGPSz"
   },
   "source": [
    "Glorious!\n",
    "\n",
    "Here's one more trick.  You can ask MeshCat to record the animation, and then review it in the visualizer.  I'll repeat the preamble here to make this cell stand-alone.  (Plus we cannot reuse a system in multiple diagrams; the ownership is restricted)."
   ]
  },
  {
   "cell_type": "code",
   "execution_count": 13,
   "metadata": {
    "colab": {
     "base_uri": "https://localhost:8080/"
    },
    "id": "HUeu3reLWw_H",
    "outputId": "7f1d5210-162e-4974-a49c-cd5b6c2d8046"
   },
   "outputs": [
    {
     "name": "stdout",
     "output_type": "stream",
     "text": [
      "Connecting to meshcat-server at zmq_url=tcp://127.0.0.1:6000...\n",
      "You can open the visualizer by visiting the following URL:\n",
      "http://127.0.0.1:7000/static/\n",
      "Connected to meshcat-server.\n"
     ]
    }
   ],
   "source": [
    "builder = DiagramBuilder()\n",
    "\n",
    "# Adds both MultibodyPlant and the SceneGraph, and wires them together.\n",
    "plant, scene_graph = AddMultibodyPlantSceneGraph(builder, time_step=1e-4)\n",
    "# Note that we parse into both the plant and the scene_graph here.\n",
    "Parser(plant, scene_graph).AddModelFromFile(\n",
    "        FindResourceOrThrow(\"drake/manipulation/models/iiwa_description/sdf/iiwa14_no_collision.sdf\"))\n",
    "plant.WeldFrames(plant.world_frame(), plant.GetFrameByName(\"iiwa_link_0\"))\n",
    "plant.Finalize()\n",
    "\n",
    "# Adds the MeshcatVisualizer and wires it to the SceneGraph.\n",
    "meshcat = ConnectMeshcatVisualizer(builder, scene_graph, zmq_url=zmq_url, delete_prefix_on_load=False)\n",
    "\n",
    "diagram = builder.Build()\n",
    "context = diagram.CreateDefaultContext()\n",
    "plant_context = plant.GetMyMutableContextFromRoot(context)\n",
    "plant.SetPositions(plant_context, [-1.57, 0.1, 0, -1.2, 0, 1.6, 0])\n",
    "plant.get_actuation_input_port().FixValue(plant_context, np.zeros(7))\n",
    "\n",
    "simulator = Simulator(diagram, context)\n",
    "simulator.set_target_realtime_rate(1.0)\n",
    "\n",
    "meshcat.start_recording()\n",
    "simulator.AdvanceTo(5.0 if running_as_notebook else 0.1)\n",
    "meshcat.stop_recording()\n",
    "meshcat.publish_recording()"
   ]
  },
  {
   "cell_type": "markdown",
   "metadata": {
    "id": "8SPr8dXoY3IT"
   },
   "source": [
    "# Adding the iiwa controller\n",
    "\n",
    "The iiwa hardware interface runs through a control system provided by the manufacturer.  We can't turn it off.  The best we can do is add our approximation of it to our simulation.  I'll repeat everything we've set up before (to keep this example self-contained), but we'll add one more system for the controller."
   ]
  },
  {
   "cell_type": "code",
   "execution_count": 14,
   "metadata": {
    "colab": {
     "base_uri": "https://localhost:8080/"
    },
    "id": "Qd245P5kY666",
    "outputId": "2422f4e9-a091-4b99-8c5e-2778dff2c3f7"
   },
   "outputs": [
    {
     "name": "stdout",
     "output_type": "stream",
     "text": [
      "Connecting to meshcat-server at zmq_url=tcp://127.0.0.1:6000...\n",
      "You can open the visualizer by visiting the following URL:\n",
      "http://127.0.0.1:7000/static/\n",
      "Connected to meshcat-server.\n"
     ]
    }
   ],
   "source": [
    "builder = DiagramBuilder()\n",
    "\n",
    "# Adds both MultibodyPlant and the SceneGraph, and wires them together.\n",
    "plant, scene_graph = AddMultibodyPlantSceneGraph(builder, time_step=1e-4)\n",
    "# Note that we parse into both the plant and the scene_graph here.\n",
    "iiwa_model = Parser(plant, scene_graph).AddModelFromFile(\n",
    "        FindResourceOrThrow(\"drake/manipulation/models/iiwa_description/sdf/iiwa14_no_collision.sdf\"))\n",
    "plant.WeldFrames(plant.world_frame(), plant.GetFrameByName(\"iiwa_link_0\"))\n",
    "plant.Finalize()\n",
    "\n",
    "# Adds the MeshcatVisualizer and wires it to the SceneGraph.\n",
    "meshcat = ConnectMeshcatVisualizer(builder, scene_graph, zmq_url=zmq_url, delete_prefix_on_load=False)\n",
    "\n",
    "# Adds an approximation of the iiwa controller.\n",
    "# TODO(russt): replace this with the joint impedance controller.\n",
    "Kp = np.full(7, 100)\n",
    "Ki = 2 * np.sqrt(Kp)\n",
    "Kd = np.full(7, 1)\n",
    "iiwa_controller = builder.AddSystem(InverseDynamicsController(plant, Kp, Ki, Kd, False))\n",
    "iiwa_controller.set_name(\"iiwa_controller\");\n",
    "builder.Connect(plant.get_state_output_port(iiwa_model),\n",
    "                iiwa_controller.get_input_port_estimated_state())\n",
    "builder.Connect(iiwa_controller.get_output_port_control(),\n",
    "                plant.get_actuation_input_port())\n",
    "diagram = builder.Build()"
   ]
  },
  {
   "cell_type": "markdown",
   "metadata": {
    "id": "SwmwcTcOX-pm"
   },
   "source": [
    "Let's see what our diagram looks like..."
   ]
  },
  {
   "cell_type": "code",
   "execution_count": 15,
   "metadata": {
    "colab": {
     "base_uri": "https://localhost:8080/",
     "height": 701
    },
    "id": "1SMxPMvdxk99",
    "outputId": "0194c805-d272-48ce-a7a1-4fa823bcaec0"
   },
   "outputs": [
    {
     "data": {
      "image/svg+xml": [
       "<svg height=\"495pt\" viewBox=\"0.00 0.00 3340.18 495.00\" width=\"3340pt\" xmlns=\"http://www.w3.org/2000/svg\" xmlns:xlink=\"http://www.w3.org/1999/xlink\">\n",
       "<g class=\"graph\" id=\"graph0\" transform=\"scale(1 1) rotate(0) translate(4 491)\">\n",
       "<title>_49193664</title>\n",
       "<polygon fill=\"#ffffff\" points=\"-4,4 -4,-491 3336.1788,-491 3336.1788,4 -4,4\" stroke=\"transparent\"/>\n",
       "<g class=\"cluster\" id=\"clust1\">\n",
       "<title>cluster49193664diagram</title>\n",
       "<polygon fill=\"none\" points=\"8,-8 8,-479 3324.1788,-479 3324.1788,-8 8,-8\" stroke=\"#000000\"/>\n",
       "<text fill=\"#000000\" font-family=\"Times,serif\" font-size=\"14.00\" text-anchor=\"middle\" x=\"1666.0894\" y=\"-463.8\">49193664</text>\n",
       "</g>\n",
       "<g class=\"cluster\" id=\"clust4\">\n",
       "<title>cluster49193664subsystems</title>\n",
       "<polygon fill=\"none\" points=\"16,-16 16,-448 3316.1788,-448 3316.1788,-16 16,-16\" stroke=\"#ffffff\"/>\n",
       "</g>\n",
       "<g class=\"cluster\" id=\"clust5\">\n",
       "<title>cluster25832336diagram</title>\n",
       "<polygon fill=\"none\" points=\"24,-71 24,-282 2174.1788,-282 2174.1788,-71 24,-71\" stroke=\"#000000\"/>\n",
       "<text fill=\"#000000\" font-family=\"Times,serif\" font-size=\"14.00\" text-anchor=\"middle\" x=\"1099.0894\" y=\"-266.8\">iiwa_controller</text>\n",
       "</g>\n",
       "<g class=\"cluster\" id=\"clust6\">\n",
       "<title>cluster25832336inputports</title>\n",
       "<polygon fill=\"#d3d3d3\" points=\"32,-122 32,-251 218.2849,-251 218.2849,-122 32,-122\" stroke=\"#d3d3d3\"/>\n",
       "<text fill=\"#000000\" font-family=\"Times,serif\" font-size=\"14.00\" text-anchor=\"middle\" x=\"125.1424\" y=\"-235.8\">input ports</text>\n",
       "</g>\n",
       "<g class=\"cluster\" id=\"clust7\">\n",
       "<title>cluster25832336outputports</title>\n",
       "<polygon fill=\"#d3d3d3\" points=\"2060.2849,-150 2060.2849,-225 2166.1788,-225 2166.1788,-150 2060.2849,-150\" stroke=\"#d3d3d3\"/>\n",
       "<text fill=\"#000000\" font-family=\"Times,serif\" font-size=\"14.00\" text-anchor=\"middle\" x=\"2113.2318\" y=\"-209.8\">output ports</text>\n",
       "</g>\n",
       "<g class=\"cluster\" id=\"clust8\">\n",
       "<title>cluster25832336subsystems</title>\n",
       "<polygon fill=\"none\" points=\"238.2849,-79 238.2849,-251 2016.2849,-251 2016.2849,-79 238.2849,-79\" stroke=\"#ffffff\"/>\n",
       "</g>\n",
       "<!-- 16786480 -->\n",
       "<g class=\"node\" id=\"node1\">\n",
       "<title>16786480</title>\n",
       "<polygon fill=\"none\" points=\"2210.1788,-25 2210.1788,-439 2841.1788,-439 2841.1788,-25 2210.1788,-25\" stroke=\"#000000\"/>\n",
       "<text fill=\"#000000\" font-family=\"Times,serif\" font-size=\"14.00\" text-anchor=\"middle\" x=\"2525.6788\" y=\"-423.8\">plant</text>\n",
       "<polyline fill=\"none\" points=\"2210.1788,-416 2841.1788,-416 \" stroke=\"#000000\"/>\n",
       "<text fill=\"#000000\" font-family=\"Times,serif\" font-size=\"14.00\" text-anchor=\"middle\" x=\"2335.6788\" y=\"-379.8\">geometry_query</text>\n",
       "<polyline fill=\"none\" points=\"2210.1788,-351 2461.1788,-351 \" stroke=\"#000000\"/>\n",
       "<text fill=\"#000000\" font-family=\"Times,serif\" font-size=\"14.00\" text-anchor=\"middle\" x=\"2335.6788\" y=\"-314.8\">WorldModelInstance_actuation</text>\n",
       "<polyline fill=\"none\" points=\"2210.1788,-286 2461.1788,-286 \" stroke=\"#000000\"/>\n",
       "<text fill=\"#000000\" font-family=\"Times,serif\" font-size=\"14.00\" text-anchor=\"middle\" x=\"2335.6788\" y=\"-249.8\">DefaultModelInstance_actuation</text>\n",
       "<polyline fill=\"none\" points=\"2210.1788,-221 2461.1788,-221 \" stroke=\"#000000\"/>\n",
       "<text fill=\"#000000\" font-family=\"Times,serif\" font-size=\"14.00\" text-anchor=\"middle\" x=\"2335.6788\" y=\"-184.8\">iiwa14_actuation</text>\n",
       "<polyline fill=\"none\" points=\"2210.1788,-156 2461.1788,-156 \" stroke=\"#000000\"/>\n",
       "<text fill=\"#000000\" font-family=\"Times,serif\" font-size=\"14.00\" text-anchor=\"middle\" x=\"2335.6788\" y=\"-119.8\">applied_generalized_force</text>\n",
       "<polyline fill=\"none\" points=\"2210.1788,-91 2461.1788,-91 \" stroke=\"#000000\"/>\n",
       "<text fill=\"#000000\" font-family=\"Times,serif\" font-size=\"14.00\" text-anchor=\"middle\" x=\"2335.6788\" y=\"-54.3\">applied_spatial_force</text>\n",
       "<polyline fill=\"none\" points=\"2461.1788,-25 2461.1788,-416 \" stroke=\"#000000\"/>\n",
       "<text fill=\"#000000\" font-family=\"Times,serif\" font-size=\"14.00\" text-anchor=\"middle\" x=\"2651.1788\" y=\"-400.8\">geometry_pose</text>\n",
       "<polyline fill=\"none\" points=\"2461.1788,-393 2841.1788,-393 \" stroke=\"#000000\"/>\n",
       "<text fill=\"#000000\" font-family=\"Times,serif\" font-size=\"14.00\" text-anchor=\"middle\" x=\"2651.1788\" y=\"-377.8\">continuous_state</text>\n",
       "<polyline fill=\"none\" points=\"2461.1788,-370 2841.1788,-370 \" stroke=\"#000000\"/>\n",
       "<text fill=\"#000000\" font-family=\"Times,serif\" font-size=\"14.00\" text-anchor=\"middle\" x=\"2651.1788\" y=\"-354.8\">body_poses</text>\n",
       "<polyline fill=\"none\" points=\"2461.1788,-347 2841.1788,-347 \" stroke=\"#000000\"/>\n",
       "<text fill=\"#000000\" font-family=\"Times,serif\" font-size=\"14.00\" text-anchor=\"middle\" x=\"2651.1788\" y=\"-331.8\">spatial_velocities</text>\n",
       "<polyline fill=\"none\" points=\"2461.1788,-324 2841.1788,-324 \" stroke=\"#000000\"/>\n",
       "<text fill=\"#000000\" font-family=\"Times,serif\" font-size=\"14.00\" text-anchor=\"middle\" x=\"2651.1788\" y=\"-308.8\">spatial_accelerations</text>\n",
       "<polyline fill=\"none\" points=\"2461.1788,-301 2841.1788,-301 \" stroke=\"#000000\"/>\n",
       "<text fill=\"#000000\" font-family=\"Times,serif\" font-size=\"14.00\" text-anchor=\"middle\" x=\"2651.1788\" y=\"-285.8\">generalized_acceleration</text>\n",
       "<polyline fill=\"none\" points=\"2461.1788,-278 2841.1788,-278 \" stroke=\"#000000\"/>\n",
       "<text fill=\"#000000\" font-family=\"Times,serif\" font-size=\"14.00\" text-anchor=\"middle\" x=\"2651.1788\" y=\"-262.8\">WorldModelInstance_continuous_state</text>\n",
       "<polyline fill=\"none\" points=\"2461.1788,-255 2841.1788,-255 \" stroke=\"#000000\"/>\n",
       "<text fill=\"#000000\" font-family=\"Times,serif\" font-size=\"14.00\" text-anchor=\"middle\" x=\"2651.1788\" y=\"-239.8\">WorldModelInstance_generalized_acceleration</text>\n",
       "<polyline fill=\"none\" points=\"2461.1788,-232 2841.1788,-232 \" stroke=\"#000000\"/>\n",
       "<text fill=\"#000000\" font-family=\"Times,serif\" font-size=\"14.00\" text-anchor=\"middle\" x=\"2651.1788\" y=\"-216.8\">DefaultModelInstance_continuous_state</text>\n",
       "<polyline fill=\"none\" points=\"2461.1788,-209 2841.1788,-209 \" stroke=\"#000000\"/>\n",
       "<text fill=\"#000000\" font-family=\"Times,serif\" font-size=\"14.00\" text-anchor=\"middle\" x=\"2651.1788\" y=\"-193.8\">DefaultModelInstance_generalized_acceleration</text>\n",
       "<polyline fill=\"none\" points=\"2461.1788,-186 2841.1788,-186 \" stroke=\"#000000\"/>\n",
       "<text fill=\"#000000\" font-family=\"Times,serif\" font-size=\"14.00\" text-anchor=\"middle\" x=\"2651.1788\" y=\"-170.8\">iiwa14_continuous_state</text>\n",
       "<polyline fill=\"none\" points=\"2461.1788,-163 2841.1788,-163 \" stroke=\"#000000\"/>\n",
       "<text fill=\"#000000\" font-family=\"Times,serif\" font-size=\"14.00\" text-anchor=\"middle\" x=\"2651.1788\" y=\"-147.8\">iiwa14_generalized_acceleration</text>\n",
       "<polyline fill=\"none\" points=\"2461.1788,-140 2841.1788,-140 \" stroke=\"#000000\"/>\n",
       "<text fill=\"#000000\" font-family=\"Times,serif\" font-size=\"14.00\" text-anchor=\"middle\" x=\"2651.1788\" y=\"-124.8\">WorldModelInstance_generalized_contact_forces</text>\n",
       "<polyline fill=\"none\" points=\"2461.1788,-117 2841.1788,-117 \" stroke=\"#000000\"/>\n",
       "<text fill=\"#000000\" font-family=\"Times,serif\" font-size=\"14.00\" text-anchor=\"middle\" x=\"2651.1788\" y=\"-101.8\">DefaultModelInstance_generalized_contact_forces</text>\n",
       "<polyline fill=\"none\" points=\"2461.1788,-94 2841.1788,-94 \" stroke=\"#000000\"/>\n",
       "<text fill=\"#000000\" font-family=\"Times,serif\" font-size=\"14.00\" text-anchor=\"middle\" x=\"2651.1788\" y=\"-78.8\">iiwa14_generalized_contact_forces</text>\n",
       "<polyline fill=\"none\" points=\"2461.1788,-71 2841.1788,-71 \" stroke=\"#000000\"/>\n",
       "<text fill=\"#000000\" font-family=\"Times,serif\" font-size=\"14.00\" text-anchor=\"middle\" x=\"2651.1788\" y=\"-55.8\">reaction_forces</text>\n",
       "<polyline fill=\"none\" points=\"2461.1788,-48 2841.1788,-48 \" stroke=\"#000000\"/>\n",
       "<text fill=\"#000000\" font-family=\"Times,serif\" font-size=\"14.00\" text-anchor=\"middle\" x=\"2651.1788\" y=\"-32.8\">contact_results</text>\n",
       "</g>\n",
       "<!-- 51219616 -->\n",
       "<g class=\"node\" id=\"node2\">\n",
       "<title>51219616</title>\n",
       "<polygon fill=\"none\" points=\"2877.1788,-370.5 2877.1788,-439.5 3111.1788,-439.5 3111.1788,-370.5 2877.1788,-370.5\" stroke=\"#000000\"/>\n",
       "<text fill=\"#000000\" font-family=\"Times,serif\" font-size=\"14.00\" text-anchor=\"middle\" x=\"2994.1788\" y=\"-424.3\">scene_graph</text>\n",
       "<polyline fill=\"none\" points=\"2877.1788,-416.5 3111.1788,-416.5 \" stroke=\"#000000\"/>\n",
       "<text fill=\"#000000\" font-family=\"Times,serif\" font-size=\"14.00\" text-anchor=\"middle\" x=\"2924.1788\" y=\"-389.8\">plant_pose</text>\n",
       "<polyline fill=\"none\" points=\"2971.1788,-370.5 2971.1788,-416.5 \" stroke=\"#000000\"/>\n",
       "<text fill=\"#000000\" font-family=\"Times,serif\" font-size=\"14.00\" text-anchor=\"middle\" x=\"3041.1788\" y=\"-401.3\">lcm_visualization</text>\n",
       "<polyline fill=\"none\" points=\"2971.1788,-393.5 3111.1788,-393.5 \" stroke=\"#000000\"/>\n",
       "<text fill=\"#000000\" font-family=\"Times,serif\" font-size=\"14.00\" text-anchor=\"middle\" x=\"3041.1788\" y=\"-378.3\">query</text>\n",
       "</g>\n",
       "<!-- 16786480&#45;&gt;51219616 -->\n",
       "<g class=\"edge\" id=\"edge12\">\n",
       "<title>16786480:y0-&gt;51219616:u0</title>\n",
       "<path d=\"M2841.1788,-405C2853.9596,-405 2858.3581,-398.1086 2867.0787,-394.7706\" fill=\"none\" stroke=\"#000000\"/>\n",
       "<polygon fill=\"#000000\" points=\"2867.9334,-398.1743 2877.1788,-393 2866.7246,-391.2794 2867.9334,-398.1743\" stroke=\"#000000\"/>\n",
       "</g>\n",
       "<!-- _25832336_u0 -->\n",
       "<g class=\"node\" id=\"node4\">\n",
       "<title>_25832336_u0</title>\n",
       "<ellipse cx=\"125.1424\" cy=\"-202\" fill=\"none\" rx=\"85.2851\" ry=\"18\" stroke=\"#0000ff\"/>\n",
       "<text fill=\"#000000\" font-family=\"Times,serif\" font-size=\"14.00\" text-anchor=\"middle\" x=\"125.1424\" y=\"-198.3\">estimated_state</text>\n",
       "</g>\n",
       "<!-- 16786480&#45;&gt;_25832336_u0 -->\n",
       "<g class=\"edge\" id=\"edge11\">\n",
       "<title>16786480:y10-&gt;_25832336_u0</title>\n",
       "<path d=\"M2841.6788,-174C2841.6788,-174 2210.1788,-24.5 2210.1788,-24.5 2139.4915,-83.8305 2239.7947,-164.1052 2174.1788,-229 2043.7602,-357.9853 1946.2139,-262 1762.7849,-262 887.2849,-262 887.2849,-262 887.2849,-262 598.8237,-262 519.5117,-319.1979 238.2849,-255 211.2694,-248.833 183.0415,-235.6226 161.5386,-223.9343\" fill=\"none\" stroke=\"#000000\"/>\n",
       "<polygon fill=\"#000000\" points=\"163.1973,-220.8519 152.758,-219.0431 159.7908,-226.9671 163.1973,-220.8519\" stroke=\"#000000\"/>\n",
       "</g>\n",
       "<!-- 51219616&#45;&gt;16786480 -->\n",
       "<g class=\"edge\" id=\"edge9\">\n",
       "<title>51219616:y1-&gt;16786480:u0</title>\n",
       "<path d=\"M3041.1788,-370C3041.1788,-297.1111 2939.4539,-332.1239 2877.1788,-370 2847.4575,-388.0767 2870.9001,-421.4233 2841.1788,-439.5 2841.1788,-439.5 2301.0797,-392.0329 2219.8539,-384.8943\" fill=\"none\" stroke=\"#000000\"/>\n",
       "<polygon fill=\"#000000\" points=\"2219.9468,-381.389 2209.6788,-384 2219.3339,-388.3621 2219.9468,-381.389\" stroke=\"#000000\"/>\n",
       "</g>\n",
       "<!-- 51744576 -->\n",
       "<g class=\"node\" id=\"node3\">\n",
       "<title>51744576</title>\n",
       "<polygon fill=\"none\" points=\"3147.1788,-394 3147.1788,-440 3308.1788,-440 3308.1788,-394 3147.1788,-394\" stroke=\"#000000\"/>\n",
       "<text fill=\"#000000\" font-family=\"Times,serif\" font-size=\"14.00\" text-anchor=\"middle\" x=\"3227.6788\" y=\"-424.8\">meshcat_visualizer</text>\n",
       "<polyline fill=\"none\" points=\"3147.1788,-417 3308.1788,-417 \" stroke=\"#000000\"/>\n",
       "<text fill=\"#000000\" font-family=\"Times,serif\" font-size=\"14.00\" text-anchor=\"middle\" x=\"3217.1788\" y=\"-401.8\">lcm_visualization</text>\n",
       "<polyline fill=\"none\" points=\"3287.1788,-394 3287.1788,-417 \" stroke=\"#000000\"/>\n",
       "<text fill=\"#000000\" font-family=\"Times,serif\" font-size=\"14.00\" text-anchor=\"middle\" x=\"3297.6788\" y=\"-401.8\"> </text>\n",
       "</g>\n",
       "<!-- 51219616&#45;&gt;51744576 -->\n",
       "<g class=\"edge\" id=\"edge13\">\n",
       "<title>51219616:y0-&gt;51744576:u0</title>\n",
       "<path d=\"M3111.1788,-405C3123.1788,-405 3128.4288,-405 3137.0538,-405\" fill=\"none\" stroke=\"#000000\"/>\n",
       "<polygon fill=\"#000000\" points=\"3137.1788,-408.5001 3147.1788,-405 3137.1787,-401.5001 3137.1788,-408.5001\" stroke=\"#000000\"/>\n",
       "</g>\n",
       "<!-- 51579888 -->\n",
       "<g class=\"node\" id=\"node9\">\n",
       "<title>51579888</title>\n",
       "<polygon fill=\"none\" points=\"246.2849,-119 246.2849,-165 620.2849,-165 620.2849,-119 246.2849,-119\" stroke=\"#000000\"/>\n",
       "<text fill=\"#000000\" font-family=\"Times,serif\" font-size=\"14.00\" text-anchor=\"middle\" x=\"433.2849\" y=\"-149.8\">drake/systems/PassThrough@0000000003130bf0</text>\n",
       "<polyline fill=\"none\" points=\"246.2849,-142 620.2849,-142 \" stroke=\"#000000\"/>\n",
       "<text fill=\"#000000\" font-family=\"Times,serif\" font-size=\"14.00\" text-anchor=\"middle\" x=\"339.7849\" y=\"-126.8\">u</text>\n",
       "<polyline fill=\"none\" points=\"433.2849,-119 433.2849,-142 \" stroke=\"#000000\"/>\n",
       "<text fill=\"#000000\" font-family=\"Times,serif\" font-size=\"14.00\" text-anchor=\"middle\" x=\"526.7849\" y=\"-126.8\">y</text>\n",
       "</g>\n",
       "<!-- _25832336_u0&#45;&gt;51579888 -->\n",
       "<g class=\"edge\" id=\"edge6\">\n",
       "<title>_25832336_u0-&gt;51579888:u0</title>\n",
       "<path d=\"M189.7206,-190.0198C199.8944,-186.2907 209.8292,-181.4037 218.2849,-175 233.5422,-163.4453 226.9404,-140.96 236.563,-132.9342\" fill=\"none\" stroke=\"#0000ff\"/>\n",
       "<polygon fill=\"#0000ff\" points=\"237.7227,-136.2402 246.2849,-130 235.7001,-129.5387 237.7227,-136.2402\" stroke=\"#0000ff\"/>\n",
       "</g>\n",
       "<!-- _25832336_u1 -->\n",
       "<g class=\"node\" id=\"node5\">\n",
       "<title>_25832336_u1</title>\n",
       "<ellipse cx=\"125.1424\" cy=\"-148\" fill=\"none\" rx=\"73.387\" ry=\"18\" stroke=\"#0000ff\"/>\n",
       "<text fill=\"#000000\" font-family=\"Times,serif\" font-size=\"14.00\" text-anchor=\"middle\" x=\"125.1424\" y=\"-144.3\">desired_state</text>\n",
       "</g>\n",
       "<!-- 46016112 -->\n",
       "<g class=\"node\" id=\"node8\">\n",
       "<title>46016112</title>\n",
       "<polygon fill=\"none\" points=\"656.2849,-173.5 656.2849,-242.5 1118.2849,-242.5 1118.2849,-173.5 656.2849,-173.5\" stroke=\"#000000\"/>\n",
       "<text fill=\"#000000\" font-family=\"Times,serif\" font-size=\"14.00\" text-anchor=\"middle\" x=\"887.2849\" y=\"-227.3\">drake/systems/controllers/PidController@0000000002be2670</text>\n",
       "<polyline fill=\"none\" points=\"656.2849,-219.5 1118.2849,-219.5 \" stroke=\"#000000\"/>\n",
       "<text fill=\"#000000\" font-family=\"Times,serif\" font-size=\"14.00\" text-anchor=\"middle\" x=\"775.7849\" y=\"-204.3\">x</text>\n",
       "<polyline fill=\"none\" points=\"656.2849,-196.5 895.2849,-196.5 \" stroke=\"#000000\"/>\n",
       "<text fill=\"#000000\" font-family=\"Times,serif\" font-size=\"14.00\" text-anchor=\"middle\" x=\"775.7849\" y=\"-181.3\">x_d</text>\n",
       "<polyline fill=\"none\" points=\"895.2849,-173.5 895.2849,-219.5 \" stroke=\"#000000\"/>\n",
       "<text fill=\"#000000\" font-family=\"Times,serif\" font-size=\"14.00\" text-anchor=\"middle\" x=\"1006.7849\" y=\"-192.8\">y</text>\n",
       "</g>\n",
       "<!-- _25832336_u1&#45;&gt;46016112 -->\n",
       "<g class=\"edge\" id=\"edge7\">\n",
       "<title>_25832336_u1-&gt;46016112:u1</title>\n",
       "<path d=\"M174.0463,-161.4828C193.8322,-166.3474 216.9905,-171.3006 238.2849,-174 419.2307,-196.9378 468.6223,-185.4468 646.081,-185.0125\" fill=\"none\" stroke=\"#0000ff\"/>\n",
       "<polygon fill=\"#0000ff\" points=\"646.2892,-188.5123 656.2849,-185 646.2806,-181.5123 646.2892,-188.5123\" stroke=\"#0000ff\"/>\n",
       "</g>\n",
       "<!-- _25832336_y0 -->\n",
       "<g class=\"node\" id=\"node6\">\n",
       "<title>_25832336_y0</title>\n",
       "<ellipse cx=\"2112.7318\" cy=\"-176\" fill=\"none\" rx=\"34.394\" ry=\"18\" stroke=\"#00ff00\"/>\n",
       "<text fill=\"#000000\" font-family=\"Times,serif\" font-size=\"14.00\" text-anchor=\"middle\" x=\"2112.7318\" y=\"-172.3\">force</text>\n",
       "</g>\n",
       "<!-- _25832336_y0&#45;&gt;16786480 -->\n",
       "<g class=\"edge\" id=\"edge10\">\n",
       "<title>_25832336_y0-&gt;16786480:u3</title>\n",
       "<path d=\"M2145.5356,-182.0703C2161.5084,-184.5933 2181.2953,-187.0996 2200.1383,-187.8047\" fill=\"none\" stroke=\"#000000\"/>\n",
       "<polygon fill=\"#000000\" points=\"2200.1126,-191.3048 2210.1788,-188 2200.2488,-184.3061 2200.1126,-191.3048\" stroke=\"#000000\"/>\n",
       "</g>\n",
       "<!-- 45858224 -->\n",
       "<g class=\"node\" id=\"node7\">\n",
       "<title>45858224</title>\n",
       "<polygon fill=\"none\" points=\"1517.2849,-141.5 1517.2849,-210.5 2008.2849,-210.5 2008.2849,-141.5 1517.2849,-141.5\" stroke=\"#000000\"/>\n",
       "<text fill=\"#000000\" font-family=\"Times,serif\" font-size=\"14.00\" text-anchor=\"middle\" x=\"1762.7849\" y=\"-195.3\">drake/systems/controllers/InverseDynamics@0000000002bbbdb0</text>\n",
       "<polyline fill=\"none\" points=\"1517.2849,-187.5 2008.2849,-187.5 \" stroke=\"#000000\"/>\n",
       "<text fill=\"#000000\" font-family=\"Times,serif\" font-size=\"14.00\" text-anchor=\"middle\" x=\"1640.2849\" y=\"-172.3\">u0</text>\n",
       "<polyline fill=\"none\" points=\"1517.2849,-164.5 1763.2849,-164.5 \" stroke=\"#000000\"/>\n",
       "<text fill=\"#000000\" font-family=\"Times,serif\" font-size=\"14.00\" text-anchor=\"middle\" x=\"1640.2849\" y=\"-149.3\">u1</text>\n",
       "<polyline fill=\"none\" points=\"1763.2849,-141.5 1763.2849,-187.5 \" stroke=\"#000000\"/>\n",
       "<text fill=\"#000000\" font-family=\"Times,serif\" font-size=\"14.00\" text-anchor=\"middle\" x=\"1885.7849\" y=\"-160.8\">y0</text>\n",
       "</g>\n",
       "<!-- 45858224&#45;&gt;_25832336_y0 -->\n",
       "<g class=\"edge\" id=\"edge8\">\n",
       "<title>45858224:y0-&gt;_25832336_y0</title>\n",
       "<path d=\"M2008.7849,-164C2028.8642,-164 2050.9822,-166.237 2069.6353,-168.7794\" fill=\"none\" stroke=\"#00ff00\"/>\n",
       "<polygon fill=\"#00ff00\" points=\"2069.2108,-172.2542 2079.6067,-170.2109 2070.2056,-165.3253 2069.2108,-172.2542\" stroke=\"#00ff00\"/>\n",
       "</g>\n",
       "<!-- 50727312 -->\n",
       "<g class=\"node\" id=\"node10\">\n",
       "<title>50727312</title>\n",
       "<polygon fill=\"none\" points=\"1154.2849,-130.5 1154.2849,-199.5 1481.2849,-199.5 1481.2849,-130.5 1154.2849,-130.5\" stroke=\"#000000\"/>\n",
       "<text fill=\"#000000\" font-family=\"Times,serif\" font-size=\"14.00\" text-anchor=\"middle\" x=\"1317.7849\" y=\"-184.3\">drake/systems/Adder@0000000003060990</text>\n",
       "<polyline fill=\"none\" points=\"1154.2849,-176.5 1481.2849,-176.5 \" stroke=\"#000000\"/>\n",
       "<text fill=\"#000000\" font-family=\"Times,serif\" font-size=\"14.00\" text-anchor=\"middle\" x=\"1232.7849\" y=\"-161.3\">u0</text>\n",
       "<polyline fill=\"none\" points=\"1154.2849,-153.5 1311.2849,-153.5 \" stroke=\"#000000\"/>\n",
       "<text fill=\"#000000\" font-family=\"Times,serif\" font-size=\"14.00\" text-anchor=\"middle\" x=\"1232.7849\" y=\"-138.3\">u1</text>\n",
       "<polyline fill=\"none\" points=\"1311.2849,-130.5 1311.2849,-176.5 \" stroke=\"#000000\"/>\n",
       "<text fill=\"#000000\" font-family=\"Times,serif\" font-size=\"14.00\" text-anchor=\"middle\" x=\"1396.2849\" y=\"-149.8\">sum</text>\n",
       "</g>\n",
       "<!-- 46016112&#45;&gt;50727312 -->\n",
       "<g class=\"edge\" id=\"edge4\">\n",
       "<title>46016112:y0-&gt;50727312:u0</title>\n",
       "<path d=\"M1118.2849,-196C1135.2756,-196 1134.5605,-175.9268 1144.6348,-168.0857\" fill=\"none\" stroke=\"#000000\"/>\n",
       "<polygon fill=\"#000000\" points=\"1145.826,-171.3795 1154.2849,-165 1143.694,-164.7121 1145.826,-171.3795\" stroke=\"#000000\"/>\n",
       "</g>\n",
       "<!-- 51579888&#45;&gt;45858224 -->\n",
       "<g class=\"edge\" id=\"edge1\">\n",
       "<title>51579888:y0-&gt;45858224:u0</title>\n",
       "<path d=\"M620.2849,-130C641.6922,-130 636.275,-105.6077 656.2849,-98 848.2144,-25.0285 913.0543,-91.5047 1118.2849,-98 1279.8608,-103.1137 1341.5824,-39.6603 1481.2849,-121 1502.7848,-133.518 1492.5877,-164.6 1507.1276,-173.5517\" fill=\"none\" stroke=\"#000000\"/>\n",
       "<polygon fill=\"#000000\" points=\"1506.7431,-177.0592 1517.2849,-176 1508.3835,-170.2541 1506.7431,-177.0592\" stroke=\"#000000\"/>\n",
       "</g>\n",
       "<!-- 51579888&#45;&gt;46016112 -->\n",
       "<g class=\"edge\" id=\"edge3\">\n",
       "<title>51579888:y0-&gt;46016112:u0</title>\n",
       "<path d=\"M620.2849,-130C654.2897,-130 625.9936,-191.8706 646.37,-205.4048\" fill=\"none\" stroke=\"#000000\"/>\n",
       "<polygon fill=\"#000000\" points=\"645.7245,-208.8537 656.2849,-208 647.4971,-202.0818 645.7245,-208.8537\" stroke=\"#000000\"/>\n",
       "</g>\n",
       "<!-- 50727312&#45;&gt;45858224 -->\n",
       "<g class=\"edge\" id=\"edge2\">\n",
       "<title>50727312:y0-&gt;45858224:u1</title>\n",
       "<path d=\"M1481.2849,-153C1493.2849,-153 1498.5349,-153 1507.1599,-153\" fill=\"none\" stroke=\"#000000\"/>\n",
       "<polygon fill=\"#000000\" points=\"1507.2849,-156.5001 1517.2849,-153 1507.2849,-149.5001 1507.2849,-156.5001\" stroke=\"#000000\"/>\n",
       "</g>\n",
       "<!-- 60500384 -->\n",
       "<g class=\"node\" id=\"node11\">\n",
       "<title>60500384</title>\n",
       "<polygon fill=\"none\" points=\"664.2849,-108 664.2849,-154 1110.2849,-154 1110.2849,-108 664.2849,-108\" stroke=\"#000000\"/>\n",
       "<text fill=\"#000000\" font-family=\"Times,serif\" font-size=\"14.00\" text-anchor=\"middle\" x=\"887.2849\" y=\"-138.8\">drake/systems/ConstantVectorSource@00000000039b29a0</text>\n",
       "<polyline fill=\"none\" points=\"664.2849,-131 1110.2849,-131 \" stroke=\"#000000\"/>\n",
       "<text fill=\"#000000\" font-family=\"Times,serif\" font-size=\"14.00\" text-anchor=\"middle\" x=\"772.2849\" y=\"-115.8\"> </text>\n",
       "<polyline fill=\"none\" points=\"880.2849,-108 880.2849,-131 \" stroke=\"#000000\"/>\n",
       "<text fill=\"#000000\" font-family=\"Times,serif\" font-size=\"14.00\" text-anchor=\"middle\" x=\"995.2849\" y=\"-115.8\">y0</text>\n",
       "</g>\n",
       "<!-- 60500384&#45;&gt;50727312 -->\n",
       "<g class=\"edge\" id=\"edge5\">\n",
       "<title>60500384:y0-&gt;50727312:u1</title>\n",
       "<path d=\"M1110.2849,-119C1128.386,-119 1131.5496,-134.477 1144.2825,-140.039\" fill=\"none\" stroke=\"#000000\"/>\n",
       "<polygon fill=\"#000000\" points=\"1143.7983,-143.5107 1154.2849,-142 1145.1451,-136.6414 1143.7983,-143.5107\" stroke=\"#000000\"/>\n",
       "</g>\n",
       "</g>\n",
       "</svg>"
      ],
      "text/plain": [
       "<IPython.core.display.SVG object>"
      ]
     },
     "execution_count": 15,
     "metadata": {},
     "output_type": "execute_result"
    }
   ],
   "source": [
    "SVG(pydot.graph_from_dot_data(diagram.GetGraphvizString())[0].create_svg())"
   ]
  },
  {
   "cell_type": "markdown",
   "metadata": {
    "id": "ZWoEJzsixwGj"
   },
   "source": [
    "As our diagrams get more complex, we're going to need a better approach to rendering the diagrams.  I've got a rough first pass (that it still suffering from some licensing issues) in javascript that I aim to improve.\n",
    "\n",
    "TODO(russt): Update the javascript rendering [#13874](https://github.com/RobotLocomotion/drake/issues/13874).  "
   ]
  },
  {
   "cell_type": "code",
   "execution_count": 16,
   "metadata": {
    "colab": {
     "base_uri": "https://localhost:8080/",
     "height": 417
    },
    "id": "EjJzh5veYA6e",
    "outputId": "5ca4cf87-93cb-40b6-823e-81370cb02ef3"
   },
   "outputs": [
    {
     "data": {
      "text/html": [
       "<script src=\"https://unpkg.com/gojs/release/go.js\"></script>\n",
       "<div style='height:400px;' id='myDiagramDiv'>\n",
       "The implementation of GenerateHtml has been temporarily removed from Drake due\n",
       "to licensing restrictions.\n",
       "</div>\n",
       "<script>\n",
       "  $ = go.GraphObject.make\n",
       "  var diagram = $(go.Diagram, \"myDiagramDiv\", {\n",
       "    \"undoManager.isEnabled\": true,\n",
       "    initialAutoScale: go.Diagram.Uniform\n",
       "  });\n",
       "  diagram.layout = $(go.LayeredDigraphLayout, {\n",
       "    layerSpacing: 20,\n",
       "    columnSpacing: 20,\n",
       "    isRealtime: false\n",
       "  });\n",
       "\n",
       "  diagram.groupTemplate = $(\n",
       "    go.Group,\n",
       "    \"Auto\",\n",
       "    { layout: $(go.LayeredDigraphLayout, { direction: 0, columnSpacing: 10 }) },\n",
       "    new go.Binding(\"isSubGraphExpanded\", \"expanded\"),\n",
       "    $(\n",
       "      go.Shape,\n",
       "      \"RoundedRectangle\", // surrounds everything\n",
       "      { parameter1: 10, fill: \"rgba(128,128,128,0.33)\" }\n",
       "    ),\n",
       "    $(\n",
       "      go.Panel,\n",
       "      \"Vertical\", // position header above the subgraph\n",
       "      { defaultAlignment: go.Spot.Left },\n",
       "      $(\n",
       "        go.Panel,\n",
       "        \"Horizontal\", // the header\n",
       "        { defaultAlignment: go.Spot.Top },\n",
       "        $(\"SubGraphExpanderButton\"), // this Panel acts as a Button\n",
       "        $(\n",
       "          go.TextBlock, // group title near top, next to button\n",
       "          { font: \"Bold 12pt Sans-Serif\" },\n",
       "          new go.Binding(\"text\", \"name\")\n",
       "        )\n",
       "      ),\n",
       "      $(\n",
       "        go.Placeholder, // represents area for all member parts\n",
       "        { padding: new go.Margin(0, 10), background: \"white\" }\n",
       "      )\n",
       "    )\n",
       "  );\n",
       "  var systemTemplate = $(\n",
       "    go.Node,\n",
       "    \"Auto\",\n",
       "    $(go.Shape, \"RoundedRectangle\", {\n",
       "      parameter1: 10,\n",
       "      fill: \"rgba(128,128,228,0.33)\"\n",
       "    }),\n",
       "    $(\n",
       "      go.Panel,\n",
       "      \"Table\",\n",
       "      { margin: 10 },\n",
       "      $(\n",
       "        go.TextBlock,\n",
       "        { row: 0, column: 0, columnSpan: 2, alignment: go.Spot.Center },\n",
       "        { font: \"bold 12pt sans-serif\" },\n",
       "        new go.Binding(\"text\", \"key\")\n",
       "      ),\n",
       "      $(go.RowColumnDefinition, {\n",
       "        row: 1,\n",
       "        separatorStrokeWidth: 1.5,\n",
       "        separatorStroke: \"black\"\n",
       "      }),\n",
       "      $(go.TextBlock, {\n",
       "        // add a spacer\n",
       "        row: 1,\n",
       "        column: 0,\n",
       "        columnSpan: 2,\n",
       "        height: 10\n",
       "      }),\n",
       "      $(\n",
       "        go.Panel,\n",
       "        \"Vertical\",\n",
       "        { name: \"INPUT_PORTS\" },\n",
       "        new go.Binding(\"itemArray\", \"input_ports\"),\n",
       "        {\n",
       "          row: 2,\n",
       "          column: 0,\n",
       "          alignment: go.Spot.Left,\n",
       "          itemTemplate: $(\n",
       "            go.Panel,\n",
       "            \"Auto\",\n",
       "            { margin: 2 },\n",
       "            $(go.Shape, \"RoundedRectangle\", { fill: \"lightcyan\" }),\n",
       "            $(go.TextBlock, new go.Binding(\"text\", \"name\"), {\n",
       "              margin: 2\n",
       "            }),\n",
       "            new go.Binding(\"portId\", \"id\")\n",
       "          ) // end of itemTemplate\n",
       "        }\n",
       "      ),\n",
       "      $(\n",
       "        go.Panel,\n",
       "        \"Vertical\",\n",
       "        { name: \"OUTPUT_PORTS\" },\n",
       "        new go.Binding(\"itemArray\", \"output_ports\"),\n",
       "        {\n",
       "          row: 2,\n",
       "          column: 1,\n",
       "          alignment: go.Spot.Right,\n",
       "          itemTemplate: $(\n",
       "            go.Panel,\n",
       "            \"Auto\",\n",
       "            { margin: 2 },\n",
       "            $(go.Shape, \"RoundedRectangle\", { fill: \"lightcyan\" }),\n",
       "            $(go.TextBlock, new go.Binding(\"text\", \"name\"), {\n",
       "              margin: 2\n",
       "            }),\n",
       "            new go.Binding(\"portId\", \"id\")\n",
       "          ) // end of itemTemplate\n",
       "        }\n",
       "      )\n",
       "    )\n",
       "  );\n",
       "\n",
       "  var portTemplate = $(\n",
       "    go.Node,\n",
       "    \"Auto\",\n",
       "    $(go.Shape, \"RoundedRectangle\", {\n",
       "      parameter1: 10,\n",
       "      fill: \"honeydew\"\n",
       "    }),\n",
       "    $(\n",
       "      go.TextBlock,\n",
       "      { row: 0, column: 0, columnSpan: 2, alignment: go.Spot.Right },\n",
       "      new go.Binding(\"text\", \"name\")\n",
       "    )\n",
       "  );\n",
       "\n",
       "  var templmap = new go.Map();\n",
       "  templmap.add(\"\", systemTemplate);\n",
       "  templmap.add(\"input_port\", portTemplate);\n",
       "  templmap.add(\"output_port\", portTemplate);\n",
       "  diagram.nodeTemplateMap = templmap;\n",
       "\n",
       "  diagram.model = $(go.GraphLinksModel, {\n",
       "    linkFromPortIdProperty: \"fromPort\", // required information:\n",
       "    linkToPortIdProperty: \"toPort\", // identifies data property names\n",
       "    nodeDataArray: [\n",
       "{ key: \"diagram\", name: \"diagram\", group: \"\", isGroup: true, expanded: true, },\n",
       "{ key: \"plant\", group: \"diagram\", input_ports: [ { name: \"geometry_query\", id: \"u0\" }, { name: \"WorldModelInstance_actuation\", id: \"u1\" }, { name: \"DefaultModelInstance_actuation\", id: \"u2\" }, { name: \"iiwa14_actuation\", id: \"u3\" }, { name: \"applied_generalized_force\", id: \"u4\" }, { name: \"applied_spatial_force\", id: \"u5\" }, ],\n",
       "output_ports: [ { name: \"geometry_pose\", id: \"y0\" }, { name: \"continuous_state\", id: \"y1\" }, { name: \"body_poses\", id: \"y2\" }, { name: \"spatial_velocities\", id: \"y3\" }, { name: \"spatial_accelerations\", id: \"y4\" }, { name: \"generalized_acceleration\", id: \"y5\" }, { name: \"WorldModelInstance_continuous_state\", id: \"y6\" }, { name: \"WorldModelInstance_generalized_acceleration\", id: \"y7\" }, { name: \"DefaultModelInstance_continuous_state\", id: \"y8\" }, { name: \"DefaultModelInstance_generalized_acceleration\", id: \"y9\" }, { name: \"iiwa14_continuous_state\", id: \"y10\" }, { name: \"iiwa14_generalized_acceleration\", id: \"y11\" }, { name: \"WorldModelInstance_generalized_contact_forces\", id: \"y12\" }, { name: \"DefaultModelInstance_generalized_contact_forces\", id: \"y13\" }, { name: \"iiwa14_generalized_contact_forces\", id: \"y14\" }, { name: \"reaction_forces\", id: \"y15\" }, { name: \"contact_results\", id: \"y16\" }, ],\n",
       "},\n",
       "{ key: \"scene_graph\", group: \"diagram\", input_ports: [ { name: \"plant_pose\", id: \"u0\" }, ],\n",
       "output_ports: [ { name: \"lcm_visualization\", id: \"y0\" }, { name: \"query\", id: \"y1\" }, ],\n",
       "},\n",
       "{ key: \"meshcat_visualizer\", group: \"diagram\", input_ports: [ { name: \"lcm_visualization\", id: \"u0\" }, ],\n",
       "output_ports: [ ],\n",
       "},\n",
       "{ key: \"iiwa_controller\", name: \"iiwa_controller\", group: \"diagram\", isGroup: true, expanded: false, },\n",
       "{ key: \"iiwa_controller_inputs\", name: \"Input Ports\", group: \"iiwa_controller\", isGroup: true, },\n",
       "{ key: \"iiwa_controller_u0\", name: \"estimated_state\", group: \"iiwa_controller_inputs\", category: \"input_port\", },\n",
       "{ key: \"iiwa_controller_u1\", name: \"desired_state\", group: \"iiwa_controller_inputs\", category: \"input_port\", },\n",
       "{ key: \"iiwa_controller_outputs\", name: \"Output Ports\", group: \"iiwa_controller\", isGroup: true, },\n",
       "{ key: \"iiwa_controller_y0\", name: \"force\", group: \"iiwa_controller_outputs\", category: \"output_port\", },\n",
       "{ key: \"drake/systems/controllers/InverseDynamics@0000000002bbbdb0\", group: \"iiwa_controller\", input_ports: [ { name: \"u0\", id: \"u0\" }, { name: \"u1\", id: \"u1\" }, ],\n",
       "output_ports: [ { name: \"y0\", id: \"y0\" }, ],\n",
       "},\n",
       "{ key: \"drake/systems/controllers/PidController@0000000002be2670\", group: \"iiwa_controller\", input_ports: [ { name: \"estimated_state\", id: \"u0\" }, { name: \"desired_state\", id: \"u1\" }, ],\n",
       "output_ports: [ { name: \"control\", id: \"y0\" }, ],\n",
       "},\n",
       "{ key: \"drake/systems/PassThrough@0000000003130bf0\", group: \"iiwa_controller\", input_ports: [ { name: \"u\", id: \"u0\" }, ],\n",
       "output_ports: [ { name: \"y\", id: \"y0\" }, ],\n",
       "},\n",
       "{ key: \"drake/systems/Adder@0000000003060990\", group: \"iiwa_controller\", input_ports: [ { name: \"u0\", id: \"u0\" }, { name: \"u1\", id: \"u1\" }, ],\n",
       "output_ports: [ { name: \"sum\", id: \"y0\" }, ],\n",
       "},\n",
       "{ key: \"drake/systems/ConstantVectorSource@00000000039b29a0\", group: \"iiwa_controller\", input_ports: [ ],\n",
       "output_ports: [ { name: \"y0\", id: \"y0\" }, ],\n",
       "},\n",
       "\n",
       "    ],\n",
       "    linkDataArray: [\n",
       "{ from: \"scene_graph\", fromPort: \"y1\", to: \"plant\", toPort: \"u0\", },\n",
       "{ from: \"iiwa_controller_y0\", to: \"plant\", toPort: \"u3\", },\n",
       "{ from: \"plant\", fromPort: \"y10\", to: \"iiwa_controller_u0\", },\n",
       "{ from: \"plant\", fromPort: \"y0\", to: \"scene_graph\", toPort: \"u0\", },\n",
       "{ from: \"scene_graph\", fromPort: \"y0\", to: \"meshcat_visualizer\", toPort: \"u0\", },\n",
       "{ from: \"drake/systems/PassThrough@0000000003130bf0\", fromPort: \"y0\", to: \"drake/systems/controllers/InverseDynamics@0000000002bbbdb0\", toPort: \"u0\", },\n",
       "{ from: \"drake/systems/Adder@0000000003060990\", fromPort: \"y0\", to: \"drake/systems/controllers/InverseDynamics@0000000002bbbdb0\", toPort: \"u1\", },\n",
       "{ from: \"drake/systems/PassThrough@0000000003130bf0\", fromPort: \"y0\", to: \"drake/systems/controllers/PidController@0000000002be2670\", toPort: \"u0\", },\n",
       "{ from: \"drake/systems/controllers/PidController@0000000002be2670\", fromPort: \"y0\", to: \"drake/systems/Adder@0000000003060990\", toPort: \"u0\", },\n",
       "{ from: \"drake/systems/ConstantVectorSource@00000000039b29a0\", fromPort: \"y0\", to: \"drake/systems/Adder@0000000003060990\", toPort: \"u1\", },\n",
       "{ from: \"iiwa_controller_u0\", to: \"drake/systems/PassThrough@0000000003130bf0\", toPort: \"u0\", },\n",
       "{ from: \"iiwa_controller_u1\", to: \"drake/systems/controllers/PidController@0000000002be2670\", toPort: \"u1\", },\n",
       "{ from: \"drake/systems/controllers/InverseDynamics@0000000002bbbdb0\", fromPort: \"y0\", to: \"iiwa_controller_y0\", },\n",
       "\n",
       "    ]\n",
       "  });\n",
       "</script>\n"
      ],
      "text/plain": [
       "<IPython.core.display.HTML object>"
      ]
     },
     "execution_count": 16,
     "metadata": {},
     "output_type": "execute_result"
    }
   ],
   "source": [
    "diagram.set_name(\"diagram\")\n",
    "HTML('<script src=\"https://unpkg.com/gojs/release/go.js\"></script>' + GenerateHtml(diagram))"
   ]
  },
  {
   "cell_type": "markdown",
   "metadata": {
    "id": "wuo1q8PgXzrp"
   },
   "source": [
    "To set up the `Context` now, instead of setting the `actuation_input` to zero, we set the `desired_state` of the iiwa controller to be the current position of the arm.  But the desired *state* must also include desired velocities, so we set those to zero."
   ]
  },
  {
   "cell_type": "code",
   "execution_count": 17,
   "metadata": {
    "colab": {
     "base_uri": "https://localhost:8080/"
    },
    "id": "GHrnvvpXXixB",
    "outputId": "0d4e96b8-5fc6-496d-dc81-ab4f2324654c"
   },
   "outputs": [
    {
     "name": "stdout",
     "output_type": "stream",
     "text": [
      "::diagram Context (of a Diagram)\n",
      "---------------------------------\n",
      "7 total continuous states\n",
      "14 total discrete states in 1 groups\n",
      "277 total numeric parameters in 25 groups\n",
      "1 total abstract parameters\n",
      "\n",
      "::diagram::plant Context\n",
      "-------------------------\n",
      "Time: 0\n",
      "States:\n",
      "  1 discrete state groups with\n",
      "     14 states\n",
      "       -1.57   0.1     0  -1.2     0   1.6     0     0     0     0     0     0     0     0\n",
      "\n",
      "Parameters:\n",
      "  24 numeric parameter groups with\n",
      "     10 parameters\n",
      "       nan nan nan nan nan nan nan nan nan nan\n",
      "     10 parameters\n",
      "            5   -0.1      0   0.07 0.0149 0.0269  0.016      0  0.007      0\n",
      "     10 parameters\n",
      "             5.76          0      -0.03       0.12  0.0210292  0.0201812 0.00303542          0          0     0.0036\n",
      "     10 parameters\n",
      "             6.35     0.0003      0.059      0.042  0.0100481 0.00655149 0.00521337  -1.77e-05  -1.26e-05  -0.002478\n",
      "     10 parameters\n",
      "              3.5          0       0.03       0.13  0.0249429     0.0237 0.00307143          0          0    -0.0039\n",
      "     10 parameters\n",
      "              3.5          0      0.067      0.034  0.0105021 0.00584171 0.00620329          0          0  -0.002278\n",
      "     10 parameters\n",
      "              3.5     0.0001      0.021      0.076 0.00907414 0.00826172 0.00172387   -2.1e-06   -7.6e-06  -0.001596\n",
      "     10 parameters\n",
      "              1.8          0     0.0006     0.0004 0.00272274 0.00261127 0.00200036          0          0   -2.4e-07\n",
      "     10 parameters\n",
      "               1.2           0           0        0.02  0.00123333  0.00123333 0.000833333           0           0           0\n",
      "     12 parameters\n",
      "        1  0  0  0  1  0  0  0  1 -0 -0 -0\n",
      "     12 parameters\n",
      "            1      0      0      0      1      0      0      0      1      0      0 0.1575\n",
      "     12 parameters\n",
      "       1 0 0 0 1 0 0 0 1 0 0 0\n",
      "     12 parameters\n",
      "                 -1  1.22465e-16            0  6.16298e-32  4.44089e-16            1  1.22465e-16            1 -4.44089e-16            0            0       0.2025\n",
      "     12 parameters\n",
      "                 1           0           0           0           1           0           0           0           1 7.70372e-34 2.77556e-17 2.77556e-17\n",
      "     12 parameters\n",
      "                 -1  1.22465e-16            0  6.16298e-32  4.44089e-16            1  1.22465e-16            1 -4.44089e-16            0       0.2045            0\n",
      "     12 parameters\n",
      "                  1  -1.2326e-32 -2.46519e-32   1.2326e-32            1 -1.51929e-64  2.46519e-32 -1.51929e-64            1            0            0 -5.55112e-17\n",
      "     12 parameters\n",
      "                  1            0            0            0 -4.44089e-16            1            0           -1 -4.44089e-16  -1.2326e-32            0       0.2155\n",
      "     12 parameters\n",
      "                  1  1.27639e-32 -1.27639e-32 -1.27639e-32            1  8.14591e-65  1.27639e-32  8.14591e-65            1 -2.75063e-33            0 -2.77556e-17\n",
      "     12 parameters\n",
      "                 -1            0 -1.22465e-16 -1.22465e-16 -4.44089e-16            1 -6.16298e-32            1  4.44089e-16  1.37389e-32       0.1845 -5.55112e-17\n",
      "     12 parameters\n",
      "                  1 -7.39557e-32  -1.2326e-32  7.39557e-32            1 -4.55787e-64   1.2326e-32 -4.55787e-64            1 -1.15556e-32 -5.81757e-17            0\n",
      "     12 parameters\n",
      "                  1            0            0            0 -4.44089e-16            1            0           -1 -4.44089e-16  -1.2326e-32            0       0.2155\n",
      "     12 parameters\n",
      "                  1 -8.21073e-48 -3.48631e-32  8.21073e-48            1 -1.43126e-79  3.48631e-32 -1.43126e-79            1  2.46519e-32            0 -2.77556e-17\n",
      "     12 parameters\n",
      "                 -1            0 -1.22465e-16 -1.22465e-16 -4.44089e-16            1 -6.16298e-32            1  4.44089e-16  3.69779e-32        0.081            0\n",
      "     12 parameters\n",
      "                  1 -2.46519e-32  3.69779e-32  2.46519e-32            1  4.55787e-64 -3.69779e-32  4.55787e-64            1  2.15704e-32  2.08167e-17  4.16334e-17\n",
      "\n",
      "::diagram::scene_graph Context\n",
      "-------------------------------\n",
      "Time: 0\n",
      "Parameters:\n",
      "  1 abstract parameters\n",
      "\n",
      "::diagram::iiwa_controller Context (of a Diagram)\n",
      "--------------------------------------------------\n",
      "7 total continuous states\n",
      "7 total numeric parameters in 1 groups\n",
      "\n",
      "::diagram::iiwa_controller::drake/systems/controllers/PidController@0000000002be2670 Context\n",
      "---------------------------------------------------------------------------------------------\n",
      "Time: 0\n",
      "States:\n",
      "  7 continuous states\n",
      "    0 0 0 0 0 0 0\n",
      "\n",
      "\n",
      "::diagram::iiwa_controller::drake/systems/ConstantVectorSource@00000000039b29a0 Context\n",
      "----------------------------------------------------------------------------------------\n",
      "Time: 0\n",
      "Parameters:\n",
      "  1 numeric parameter groups with\n",
      "     7 parameters\n",
      "       0 0 0 0 0 0 0\n",
      "\n"
     ]
    }
   ],
   "source": [
    "context = diagram.CreateDefaultContext()\n",
    "plant_context = plant.GetMyMutableContextFromRoot(context)\n",
    "q0 = np.array([-1.57, 0.1, 0, -1.2, 0, 1.6, 0])\n",
    "x0 = np.hstack((q0, 0*q0))\n",
    "plant.SetPositions(plant_context, q0)\n",
    "iiwa_controller.GetInputPort('desired_state').FixValue(\n",
    "    iiwa_controller.GetMyMutableContextFromRoot(context), x0)\n",
    "print(context)"
   ]
  },
  {
   "cell_type": "markdown",
   "metadata": {
    "id": "kAWFX5H7atro"
   },
   "source": [
    "Now, if we simulate, the robot just stays put.  Just like the real robot would."
   ]
  },
  {
   "cell_type": "code",
   "execution_count": 18,
   "metadata": {
    "id": "qvJ2PptyYuz2"
   },
   "outputs": [],
   "source": [
    "simulator = Simulator(diagram, context)\n",
    "simulator.set_target_realtime_rate(1.0);\n",
    "simulator.AdvanceTo(5.0 if running_as_notebook else 0.1);"
   ]
  },
  {
   "cell_type": "markdown",
   "metadata": {
    "id": "7q0A14bAilIX"
   },
   "source": [
    "# Robot hands\n",
    "\n",
    "I don't have the same smörgåsbord of robot models to offer for robot hands (yet).  We do have the allegro hand model available, and I'm happy to add more here (though many will require some care to handle their kinematic constraints).  For now, you can at least try out the [Allegro Hand](http://www.wonikrobotics.com/Allegro-Hand.htm).\n",
    "\n",
    "TODO(russt): Consider porting Robotiq, Sandia, or IHY-hand from our [openhumanoids](https://github.com/openhumanoids/oh-distro/tree/master/software/models/common_components) project."
   ]
  },
  {
   "cell_type": "code",
   "execution_count": 19,
   "metadata": {
    "id": "ILYLouFTjv6e"
   },
   "outputs": [
    {
     "name": "stderr",
     "output_type": "stream",
     "text": [
      "[2020-11-03 22:49:29.319] [console] [warning] Currently MultibodyPlant does not handle joint limits for continuous models. However some joints do specify limits. Consider setting a non-zero time step in the MultibodyPlant constructor; this will put MultibodyPlant in discrete-time mode, which does support joint limits.\n",
      "[2020-11-03 22:49:29.323] [console] [warning] Joints that specify limits are: `joint_0`, `joint_1`, `joint_2`, `joint_3`, `joint_12`, `joint_13`, `joint_14`, `joint_15`, `joint_4`, `joint_5`, `joint_6`, `joint_7`, `joint_8`, `joint_9`, `joint_10`, `joint_11`.\n",
      "[2020-11-03 22:49:29.340] [console] [warning] Currently MultibodyPlant does not handle joint limits for continuous models. However some joints do specify limits. Consider setting a non-zero time step in the MultibodyPlant constructor; this will put MultibodyPlant in discrete-time mode, which does support joint limits.\n",
      "[2020-11-03 22:49:29.342] [console] [warning] Joints that specify limits are: `joint_0`, `joint_1`, `joint_2`, `joint_3`, `joint_12`, `joint_13`, `joint_14`, `joint_15`, `joint_4`, `joint_5`, `joint_6`, `joint_7`, `joint_8`, `joint_9`, `joint_10`, `joint_11`.\n"
     ]
    },
    {
     "name": "stdout",
     "output_type": "stream",
     "text": [
      "Connecting to meshcat-server at zmq_url=tcp://127.0.0.1:6000...\n",
      "You can open the visualizer by visiting the following URL:\n",
      "http://127.0.0.1:7000/static/\n",
      "Connected to meshcat-server.\n"
     ]
    },
    {
     "data": {
      "application/vnd.jupyter.widget-view+json": {
       "model_id": "cb05d619ed6a4973a70c4366697a9016",
       "version_major": 2,
       "version_minor": 0
      },
      "text/plain": [
       "FloatSlider(value=0.0, description='joint_0', layout=Layout(width=\"'200'\"), max=0.47, min=-0.47, step=0.01, st…"
      ]
     },
     "metadata": {},
     "output_type": "display_data"
    },
    {
     "data": {
      "application/vnd.jupyter.widget-view+json": {
       "model_id": "81a1e758841a4a6db158533216a91f7f",
       "version_major": 2,
       "version_minor": 0
      },
      "text/plain": [
       "FloatSlider(value=0.0, description='joint_1', layout=Layout(width=\"'200'\"), max=1.61, min=-0.196, step=0.01, s…"
      ]
     },
     "metadata": {},
     "output_type": "display_data"
    },
    {
     "data": {
      "application/vnd.jupyter.widget-view+json": {
       "model_id": "9f1f5b26da9f4305a18b73fd5bffc83f",
       "version_major": 2,
       "version_minor": 0
      },
      "text/plain": [
       "FloatSlider(value=0.0, description='joint_2', layout=Layout(width=\"'200'\"), max=1.709, min=-0.174, step=0.01, …"
      ]
     },
     "metadata": {},
     "output_type": "display_data"
    },
    {
     "data": {
      "application/vnd.jupyter.widget-view+json": {
       "model_id": "f993f5e04e5a4156b29ca5db923008f2",
       "version_major": 2,
       "version_minor": 0
      },
      "text/plain": [
       "FloatSlider(value=0.0, description='joint_3', layout=Layout(width=\"'200'\"), max=1.618, min=-0.227, step=0.01, …"
      ]
     },
     "metadata": {},
     "output_type": "display_data"
    },
    {
     "data": {
      "application/vnd.jupyter.widget-view+json": {
       "model_id": "acf6ec96f8f8424ba1f8380eafb88468",
       "version_major": 2,
       "version_minor": 0
      },
      "text/plain": [
       "FloatSlider(value=0.263, description='joint_12', layout=Layout(width=\"'200'\"), max=1.396, min=0.263, step=0.01…"
      ]
     },
     "metadata": {},
     "output_type": "display_data"
    },
    {
     "data": {
      "application/vnd.jupyter.widget-view+json": {
       "model_id": "8f3afdc725fa4f6097916d6c5762dbd3",
       "version_major": 2,
       "version_minor": 0
      },
      "text/plain": [
       "FloatSlider(value=0.0, description='joint_13', layout=Layout(width=\"'200'\"), max=1.163, min=-0.105, step=0.01,…"
      ]
     },
     "metadata": {},
     "output_type": "display_data"
    },
    {
     "data": {
      "application/vnd.jupyter.widget-view+json": {
       "model_id": "06927a735e0948679c9b62bb2180d4f6",
       "version_major": 2,
       "version_minor": 0
      },
      "text/plain": [
       "FloatSlider(value=0.0, description='joint_14', layout=Layout(width=\"'200'\"), max=1.644, min=-0.189, step=0.01,…"
      ]
     },
     "metadata": {},
     "output_type": "display_data"
    },
    {
     "data": {
      "application/vnd.jupyter.widget-view+json": {
       "model_id": "406e88ab9e7743dba2e1933004131d70",
       "version_major": 2,
       "version_minor": 0
      },
      "text/plain": [
       "FloatSlider(value=0.0, description='joint_15', layout=Layout(width=\"'200'\"), max=1.719, min=-0.162, step=0.01,…"
      ]
     },
     "metadata": {},
     "output_type": "display_data"
    },
    {
     "data": {
      "application/vnd.jupyter.widget-view+json": {
       "model_id": "b2d3c37bf40d4934806a013c0fe8a068",
       "version_major": 2,
       "version_minor": 0
      },
      "text/plain": [
       "FloatSlider(value=0.0, description='joint_4', layout=Layout(width=\"'200'\"), max=0.47, min=-0.47, step=0.01, st…"
      ]
     },
     "metadata": {},
     "output_type": "display_data"
    },
    {
     "data": {
      "application/vnd.jupyter.widget-view+json": {
       "model_id": "debe0fcfc71645bdbe34ecec7e40e51c",
       "version_major": 2,
       "version_minor": 0
      },
      "text/plain": [
       "FloatSlider(value=0.0, description='joint_5', layout=Layout(width=\"'200'\"), max=1.61, min=-0.196, step=0.01, s…"
      ]
     },
     "metadata": {},
     "output_type": "display_data"
    },
    {
     "data": {
      "application/vnd.jupyter.widget-view+json": {
       "model_id": "4a35ef13017748b9a52c8aff5f0997f3",
       "version_major": 2,
       "version_minor": 0
      },
      "text/plain": [
       "FloatSlider(value=0.0, description='joint_6', layout=Layout(width=\"'200'\"), max=1.709, min=-0.174, step=0.01, …"
      ]
     },
     "metadata": {},
     "output_type": "display_data"
    },
    {
     "data": {
      "application/vnd.jupyter.widget-view+json": {
       "model_id": "d21f9e7fe7ef453ab6f676b79df2d087",
       "version_major": 2,
       "version_minor": 0
      },
      "text/plain": [
       "FloatSlider(value=0.0, description='joint_7', layout=Layout(width=\"'200'\"), max=1.618, min=-0.227, step=0.01, …"
      ]
     },
     "metadata": {},
     "output_type": "display_data"
    },
    {
     "data": {
      "application/vnd.jupyter.widget-view+json": {
       "model_id": "b21775b5a54e48a787882cf320946c88",
       "version_major": 2,
       "version_minor": 0
      },
      "text/plain": [
       "FloatSlider(value=0.0, description='joint_8', layout=Layout(width=\"'200'\"), max=0.47, min=-0.47, step=0.01, st…"
      ]
     },
     "metadata": {},
     "output_type": "display_data"
    },
    {
     "data": {
      "application/vnd.jupyter.widget-view+json": {
       "model_id": "ff8ce1a1bc174ee88ce08c8fc6473f8a",
       "version_major": 2,
       "version_minor": 0
      },
      "text/plain": [
       "FloatSlider(value=0.0, description='joint_9', layout=Layout(width=\"'200'\"), max=1.61, min=-0.196, step=0.01, s…"
      ]
     },
     "metadata": {},
     "output_type": "display_data"
    },
    {
     "data": {
      "application/vnd.jupyter.widget-view+json": {
       "model_id": "785b6880863c44b9ae9e27698c60caa9",
       "version_major": 2,
       "version_minor": 0
      },
      "text/plain": [
       "FloatSlider(value=0.0, description='joint_10', layout=Layout(width=\"'200'\"), max=1.709, min=-0.174, step=0.01,…"
      ]
     },
     "metadata": {},
     "output_type": "display_data"
    },
    {
     "data": {
      "application/vnd.jupyter.widget-view+json": {
       "model_id": "cbdb05d5634144139b95704bc89b8a0c",
       "version_major": 2,
       "version_minor": 0
      },
      "text/plain": [
       "FloatSlider(value=0.0, description='joint_11', layout=Layout(width=\"'200'\"), max=1.618, min=-0.227, step=0.01,…"
      ]
     },
     "metadata": {},
     "output_type": "display_data"
    }
   ],
   "source": [
    "builder = DiagramBuilder()\n",
    "\n",
    "plant, scene_graph = AddMultibodyPlantSceneGraph(builder, time_step=0.0)\n",
    "allegro_file = FindResourceOrThrow(\"drake/manipulation/models/allegro_hand_description/sdf/allegro_hand_description_right.sdf\")\n",
    "Parser(plant, scene_graph).AddModelFromFile(allegro_file)\n",
    "plant.Finalize()\n",
    "\n",
    "meshcat = ConnectMeshcatVisualizer(builder, scene_graph, zmq_url=zmq_url)\n",
    "diagram = builder.Build()\n",
    "context = diagram.CreateDefaultContext()\n",
    "\n",
    "meshcat.load()\n",
    "MakeJointSlidersThatPublishOnCallback(plant, meshcat, context);"
   ]
  },
  {
   "cell_type": "code",
   "execution_count": null,
   "metadata": {
    "id": "5SjOClhTltPk"
   },
   "outputs": [],
   "source": []
  }
 ],
 "metadata": {
  "colab": {
   "collapsed_sections": [],
   "include_colab_link": true,
   "name": "Robot Juggling",
   "provenance": [],
   "toc_visible": true
  },
  "kernelspec": {
   "display_name": "Python 3",
   "language": "python",
   "name": "python3"
  },
  "language_info": {
   "codemirror_mode": {
    "name": "ipython",
    "version": 3
   },
   "file_extension": ".py",
   "mimetype": "text/x-python",
   "name": "python",
   "nbconvert_exporter": "python",
   "pygments_lexer": "ipython3",
   "version": "3.6.9"
  },
  "widgets": {
   "application/vnd.jupyter.widget-state+json": {
    "05c95631d38b41f298b0803fb3b65077": {
     "model_module": "@jupyter-widgets/controls",
     "model_name": "SliderStyleModel",
     "state": {
      "_model_module": "@jupyter-widgets/controls",
      "_model_module_version": "1.5.0",
      "_model_name": "SliderStyleModel",
      "_view_count": null,
      "_view_module": "@jupyter-widgets/base",
      "_view_module_version": "1.2.0",
      "_view_name": "StyleView",
      "description_width": "initial",
      "handle_color": null
     }
    },
    "12e8d743ffcf4f44a4f976983fe6de5a": {
     "model_module": "@jupyter-widgets/base",
     "model_name": "LayoutModel",
     "state": {
      "_model_module": "@jupyter-widgets/base",
      "_model_module_version": "1.2.0",
      "_model_name": "LayoutModel",
      "_view_count": null,
      "_view_module": "@jupyter-widgets/base",
      "_view_module_version": "1.2.0",
      "_view_name": "LayoutView",
      "align_content": null,
      "align_items": null,
      "align_self": null,
      "border": null,
      "bottom": null,
      "display": null,
      "flex": null,
      "flex_flow": null,
      "grid_area": null,
      "grid_auto_columns": null,
      "grid_auto_flow": null,
      "grid_auto_rows": null,
      "grid_column": null,
      "grid_gap": null,
      "grid_row": null,
      "grid_template_areas": null,
      "grid_template_columns": null,
      "grid_template_rows": null,
      "height": null,
      "justify_content": null,
      "justify_items": null,
      "left": null,
      "margin": null,
      "max_height": null,
      "max_width": null,
      "min_height": null,
      "min_width": null,
      "object_fit": null,
      "object_position": null,
      "order": null,
      "overflow": null,
      "overflow_x": null,
      "overflow_y": null,
      "padding": null,
      "right": null,
      "top": null,
      "visibility": null,
      "width": "'200'"
     }
    },
    "1f6fad3a989d41f396325e1c431a204d": {
     "model_module": "@jupyter-widgets/base",
     "model_name": "LayoutModel",
     "state": {
      "_model_module": "@jupyter-widgets/base",
      "_model_module_version": "1.2.0",
      "_model_name": "LayoutModel",
      "_view_count": null,
      "_view_module": "@jupyter-widgets/base",
      "_view_module_version": "1.2.0",
      "_view_name": "LayoutView",
      "align_content": null,
      "align_items": null,
      "align_self": null,
      "border": null,
      "bottom": null,
      "display": null,
      "flex": null,
      "flex_flow": null,
      "grid_area": null,
      "grid_auto_columns": null,
      "grid_auto_flow": null,
      "grid_auto_rows": null,
      "grid_column": null,
      "grid_gap": null,
      "grid_row": null,
      "grid_template_areas": null,
      "grid_template_columns": null,
      "grid_template_rows": null,
      "height": null,
      "justify_content": null,
      "justify_items": null,
      "left": null,
      "margin": null,
      "max_height": null,
      "max_width": null,
      "min_height": null,
      "min_width": null,
      "object_fit": null,
      "object_position": null,
      "order": null,
      "overflow": null,
      "overflow_x": null,
      "overflow_y": null,
      "padding": null,
      "right": null,
      "top": null,
      "visibility": null,
      "width": "'200'"
     }
    },
    "33abca8e141744779731a9ddf99c0a50": {
     "model_module": "@jupyter-widgets/controls",
     "model_name": "FloatSliderModel",
     "state": {
      "_dom_classes": [],
      "_model_module": "@jupyter-widgets/controls",
      "_model_module_version": "1.5.0",
      "_model_name": "FloatSliderModel",
      "_view_count": null,
      "_view_module": "@jupyter-widgets/controls",
      "_view_module_version": "1.5.0",
      "_view_name": "FloatSliderView",
      "continuous_update": true,
      "description": "iiwa_joint_3",
      "description_tooltip": null,
      "disabled": false,
      "layout": "IPY_MODEL_b6cc5d73058543a9ad957999b74a2fb8",
      "max": 2.96706,
      "min": -2.96706,
      "orientation": "horizontal",
      "readout": true,
      "readout_format": ".2f",
      "step": 0.01,
      "style": "IPY_MODEL_61fd458d42674ae7827e6342d159393d",
      "value": 0
     }
    },
    "42f57304ac414f8f97f581946441ca07": {
     "model_module": "@jupyter-widgets/controls",
     "model_name": "SliderStyleModel",
     "state": {
      "_model_module": "@jupyter-widgets/controls",
      "_model_module_version": "1.5.0",
      "_model_name": "SliderStyleModel",
      "_view_count": null,
      "_view_module": "@jupyter-widgets/base",
      "_view_module_version": "1.2.0",
      "_view_name": "StyleView",
      "description_width": "initial",
      "handle_color": null
     }
    },
    "469c98d12bbb4d7e86ec755f7be5dac2": {
     "model_module": "@jupyter-widgets/controls",
     "model_name": "SliderStyleModel",
     "state": {
      "_model_module": "@jupyter-widgets/controls",
      "_model_module_version": "1.5.0",
      "_model_name": "SliderStyleModel",
      "_view_count": null,
      "_view_module": "@jupyter-widgets/base",
      "_view_module_version": "1.2.0",
      "_view_name": "StyleView",
      "description_width": "initial",
      "handle_color": null
     }
    },
    "4f0598c97843413baadcc98ffc24e156": {
     "model_module": "@jupyter-widgets/controls",
     "model_name": "SliderStyleModel",
     "state": {
      "_model_module": "@jupyter-widgets/controls",
      "_model_module_version": "1.5.0",
      "_model_name": "SliderStyleModel",
      "_view_count": null,
      "_view_module": "@jupyter-widgets/base",
      "_view_module_version": "1.2.0",
      "_view_name": "StyleView",
      "description_width": "initial",
      "handle_color": null
     }
    },
    "4f42949306534c46b4df20dc9ac2bf1c": {
     "model_module": "@jupyter-widgets/controls",
     "model_name": "SliderStyleModel",
     "state": {
      "_model_module": "@jupyter-widgets/controls",
      "_model_module_version": "1.5.0",
      "_model_name": "SliderStyleModel",
      "_view_count": null,
      "_view_module": "@jupyter-widgets/base",
      "_view_module_version": "1.2.0",
      "_view_name": "StyleView",
      "description_width": "initial",
      "handle_color": null
     }
    },
    "54560eb6c0f94cceb762fbee4f25cc61": {
     "model_module": "@jupyter-widgets/controls",
     "model_name": "FloatSliderModel",
     "state": {
      "_dom_classes": [],
      "_model_module": "@jupyter-widgets/controls",
      "_model_module_version": "1.5.0",
      "_model_name": "FloatSliderModel",
      "_view_count": null,
      "_view_module": "@jupyter-widgets/controls",
      "_view_module_version": "1.5.0",
      "_view_name": "FloatSliderView",
      "continuous_update": true,
      "description": "iiwa_joint_7",
      "description_tooltip": null,
      "disabled": false,
      "layout": "IPY_MODEL_1f6fad3a989d41f396325e1c431a204d",
      "max": 3.05433,
      "min": -3.05433,
      "orientation": "horizontal",
      "readout": true,
      "readout_format": ".2f",
      "step": 0.01,
      "style": "IPY_MODEL_4f42949306534c46b4df20dc9ac2bf1c",
      "value": 0
     }
    },
    "61fd458d42674ae7827e6342d159393d": {
     "model_module": "@jupyter-widgets/controls",
     "model_name": "SliderStyleModel",
     "state": {
      "_model_module": "@jupyter-widgets/controls",
      "_model_module_version": "1.5.0",
      "_model_name": "SliderStyleModel",
      "_view_count": null,
      "_view_module": "@jupyter-widgets/base",
      "_view_module_version": "1.2.0",
      "_view_name": "StyleView",
      "description_width": "initial",
      "handle_color": null
     }
    },
    "6558525754fc482a9e977d80f84418c4": {
     "model_module": "@jupyter-widgets/controls",
     "model_name": "FloatSliderModel",
     "state": {
      "_dom_classes": [],
      "_model_module": "@jupyter-widgets/controls",
      "_model_module_version": "1.5.0",
      "_model_name": "FloatSliderModel",
      "_view_count": null,
      "_view_module": "@jupyter-widgets/controls",
      "_view_module_version": "1.5.0",
      "_view_name": "FloatSliderView",
      "continuous_update": true,
      "description": "iiwa_joint_5",
      "description_tooltip": null,
      "disabled": false,
      "layout": "IPY_MODEL_836ff441c8fe493183c630e07beca9b0",
      "max": 2.96706,
      "min": -2.96706,
      "orientation": "horizontal",
      "readout": true,
      "readout_format": ".2f",
      "step": 0.01,
      "style": "IPY_MODEL_05c95631d38b41f298b0803fb3b65077",
      "value": 0
     }
    },
    "6cf2f2c2f3c346169914dbf93a7a97f6": {
     "model_module": "@jupyter-widgets/controls",
     "model_name": "SliderStyleModel",
     "state": {
      "_model_module": "@jupyter-widgets/controls",
      "_model_module_version": "1.5.0",
      "_model_name": "SliderStyleModel",
      "_view_count": null,
      "_view_module": "@jupyter-widgets/base",
      "_view_module_version": "1.2.0",
      "_view_name": "StyleView",
      "description_width": "initial",
      "handle_color": null
     }
    },
    "70491e6644bf47b7804271cc54de2094": {
     "model_module": "@jupyter-widgets/base",
     "model_name": "LayoutModel",
     "state": {
      "_model_module": "@jupyter-widgets/base",
      "_model_module_version": "1.2.0",
      "_model_name": "LayoutModel",
      "_view_count": null,
      "_view_module": "@jupyter-widgets/base",
      "_view_module_version": "1.2.0",
      "_view_name": "LayoutView",
      "align_content": null,
      "align_items": null,
      "align_self": null,
      "border": null,
      "bottom": null,
      "display": null,
      "flex": null,
      "flex_flow": null,
      "grid_area": null,
      "grid_auto_columns": null,
      "grid_auto_flow": null,
      "grid_auto_rows": null,
      "grid_column": null,
      "grid_gap": null,
      "grid_row": null,
      "grid_template_areas": null,
      "grid_template_columns": null,
      "grid_template_rows": null,
      "height": null,
      "justify_content": null,
      "justify_items": null,
      "left": null,
      "margin": null,
      "max_height": null,
      "max_width": null,
      "min_height": null,
      "min_width": null,
      "object_fit": null,
      "object_position": null,
      "order": null,
      "overflow": null,
      "overflow_x": null,
      "overflow_y": null,
      "padding": null,
      "right": null,
      "top": null,
      "visibility": null,
      "width": "'200'"
     }
    },
    "751a9175d0d34174b8ad3194662e9125": {
     "model_module": "@jupyter-widgets/base",
     "model_name": "LayoutModel",
     "state": {
      "_model_module": "@jupyter-widgets/base",
      "_model_module_version": "1.2.0",
      "_model_name": "LayoutModel",
      "_view_count": null,
      "_view_module": "@jupyter-widgets/base",
      "_view_module_version": "1.2.0",
      "_view_name": "LayoutView",
      "align_content": null,
      "align_items": null,
      "align_self": null,
      "border": null,
      "bottom": null,
      "display": null,
      "flex": null,
      "flex_flow": null,
      "grid_area": null,
      "grid_auto_columns": null,
      "grid_auto_flow": null,
      "grid_auto_rows": null,
      "grid_column": null,
      "grid_gap": null,
      "grid_row": null,
      "grid_template_areas": null,
      "grid_template_columns": null,
      "grid_template_rows": null,
      "height": null,
      "justify_content": null,
      "justify_items": null,
      "left": null,
      "margin": null,
      "max_height": null,
      "max_width": null,
      "min_height": null,
      "min_width": null,
      "object_fit": null,
      "object_position": null,
      "order": null,
      "overflow": null,
      "overflow_x": null,
      "overflow_y": null,
      "padding": null,
      "right": null,
      "top": null,
      "visibility": null,
      "width": "'200'"
     }
    },
    "7af7cd7485564731a3d1b4d92f367cd4": {
     "model_module": "@jupyter-widgets/controls",
     "model_name": "FloatSliderModel",
     "state": {
      "_dom_classes": [],
      "_model_module": "@jupyter-widgets/controls",
      "_model_module_version": "1.5.0",
      "_model_name": "FloatSliderModel",
      "_view_count": null,
      "_view_module": "@jupyter-widgets/controls",
      "_view_module_version": "1.5.0",
      "_view_name": "FloatSliderView",
      "continuous_update": true,
      "description": "iiwa_joint_4",
      "description_tooltip": null,
      "disabled": false,
      "layout": "IPY_MODEL_ce2045dff04545fdba931e0f6a304da6",
      "max": 2.0944,
      "min": -2.0944,
      "orientation": "horizontal",
      "readout": true,
      "readout_format": ".2f",
      "step": 0.01,
      "style": "IPY_MODEL_6cf2f2c2f3c346169914dbf93a7a97f6",
      "value": 0
     }
    },
    "836ff441c8fe493183c630e07beca9b0": {
     "model_module": "@jupyter-widgets/base",
     "model_name": "LayoutModel",
     "state": {
      "_model_module": "@jupyter-widgets/base",
      "_model_module_version": "1.2.0",
      "_model_name": "LayoutModel",
      "_view_count": null,
      "_view_module": "@jupyter-widgets/base",
      "_view_module_version": "1.2.0",
      "_view_name": "LayoutView",
      "align_content": null,
      "align_items": null,
      "align_self": null,
      "border": null,
      "bottom": null,
      "display": null,
      "flex": null,
      "flex_flow": null,
      "grid_area": null,
      "grid_auto_columns": null,
      "grid_auto_flow": null,
      "grid_auto_rows": null,
      "grid_column": null,
      "grid_gap": null,
      "grid_row": null,
      "grid_template_areas": null,
      "grid_template_columns": null,
      "grid_template_rows": null,
      "height": null,
      "justify_content": null,
      "justify_items": null,
      "left": null,
      "margin": null,
      "max_height": null,
      "max_width": null,
      "min_height": null,
      "min_width": null,
      "object_fit": null,
      "object_position": null,
      "order": null,
      "overflow": null,
      "overflow_x": null,
      "overflow_y": null,
      "padding": null,
      "right": null,
      "top": null,
      "visibility": null,
      "width": "'200'"
     }
    },
    "84fdefe571044dd9be613389bec109d0": {
     "model_module": "@jupyter-widgets/controls",
     "model_name": "FloatSliderModel",
     "state": {
      "_dom_classes": [],
      "_model_module": "@jupyter-widgets/controls",
      "_model_module_version": "1.5.0",
      "_model_name": "FloatSliderModel",
      "_view_count": null,
      "_view_module": "@jupyter-widgets/controls",
      "_view_module_version": "1.5.0",
      "_view_name": "FloatSliderView",
      "continuous_update": true,
      "description": "iiwa_joint_2",
      "description_tooltip": null,
      "disabled": false,
      "layout": "IPY_MODEL_12e8d743ffcf4f44a4f976983fe6de5a",
      "max": 2.0944,
      "min": -2.0944,
      "orientation": "horizontal",
      "readout": true,
      "readout_format": ".2f",
      "step": 0.01,
      "style": "IPY_MODEL_469c98d12bbb4d7e86ec755f7be5dac2",
      "value": 0
     }
    },
    "b6cc5d73058543a9ad957999b74a2fb8": {
     "model_module": "@jupyter-widgets/base",
     "model_name": "LayoutModel",
     "state": {
      "_model_module": "@jupyter-widgets/base",
      "_model_module_version": "1.2.0",
      "_model_name": "LayoutModel",
      "_view_count": null,
      "_view_module": "@jupyter-widgets/base",
      "_view_module_version": "1.2.0",
      "_view_name": "LayoutView",
      "align_content": null,
      "align_items": null,
      "align_self": null,
      "border": null,
      "bottom": null,
      "display": null,
      "flex": null,
      "flex_flow": null,
      "grid_area": null,
      "grid_auto_columns": null,
      "grid_auto_flow": null,
      "grid_auto_rows": null,
      "grid_column": null,
      "grid_gap": null,
      "grid_row": null,
      "grid_template_areas": null,
      "grid_template_columns": null,
      "grid_template_rows": null,
      "height": null,
      "justify_content": null,
      "justify_items": null,
      "left": null,
      "margin": null,
      "max_height": null,
      "max_width": null,
      "min_height": null,
      "min_width": null,
      "object_fit": null,
      "object_position": null,
      "order": null,
      "overflow": null,
      "overflow_x": null,
      "overflow_y": null,
      "padding": null,
      "right": null,
      "top": null,
      "visibility": null,
      "width": "'200'"
     }
    },
    "beec2b614e2d4455b5cbab39e7c40a86": {
     "model_module": "@jupyter-widgets/controls",
     "model_name": "FloatSliderModel",
     "state": {
      "_dom_classes": [],
      "_model_module": "@jupyter-widgets/controls",
      "_model_module_version": "1.5.0",
      "_model_name": "FloatSliderModel",
      "_view_count": null,
      "_view_module": "@jupyter-widgets/controls",
      "_view_module_version": "1.5.0",
      "_view_name": "FloatSliderView",
      "continuous_update": true,
      "description": "iiwa_joint_1",
      "description_tooltip": null,
      "disabled": false,
      "layout": "IPY_MODEL_70491e6644bf47b7804271cc54de2094",
      "max": 2.96706,
      "min": -2.96706,
      "orientation": "horizontal",
      "readout": true,
      "readout_format": ".2f",
      "step": 0.01,
      "style": "IPY_MODEL_42f57304ac414f8f97f581946441ca07",
      "value": 2.96294
     }
    },
    "c7a5f9db397641199c9580d74b13eeac": {
     "model_module": "@jupyter-widgets/controls",
     "model_name": "FloatSliderModel",
     "state": {
      "_dom_classes": [],
      "_model_module": "@jupyter-widgets/controls",
      "_model_module_version": "1.5.0",
      "_model_name": "FloatSliderModel",
      "_view_count": null,
      "_view_module": "@jupyter-widgets/controls",
      "_view_module_version": "1.5.0",
      "_view_name": "FloatSliderView",
      "continuous_update": true,
      "description": "iiwa_joint_6",
      "description_tooltip": null,
      "disabled": false,
      "layout": "IPY_MODEL_751a9175d0d34174b8ad3194662e9125",
      "max": 2.0944,
      "min": -2.0944,
      "orientation": "horizontal",
      "readout": true,
      "readout_format": ".2f",
      "step": 0.01,
      "style": "IPY_MODEL_4f0598c97843413baadcc98ffc24e156",
      "value": 0
     }
    },
    "ce2045dff04545fdba931e0f6a304da6": {
     "model_module": "@jupyter-widgets/base",
     "model_name": "LayoutModel",
     "state": {
      "_model_module": "@jupyter-widgets/base",
      "_model_module_version": "1.2.0",
      "_model_name": "LayoutModel",
      "_view_count": null,
      "_view_module": "@jupyter-widgets/base",
      "_view_module_version": "1.2.0",
      "_view_name": "LayoutView",
      "align_content": null,
      "align_items": null,
      "align_self": null,
      "border": null,
      "bottom": null,
      "display": null,
      "flex": null,
      "flex_flow": null,
      "grid_area": null,
      "grid_auto_columns": null,
      "grid_auto_flow": null,
      "grid_auto_rows": null,
      "grid_column": null,
      "grid_gap": null,
      "grid_row": null,
      "grid_template_areas": null,
      "grid_template_columns": null,
      "grid_template_rows": null,
      "height": null,
      "justify_content": null,
      "justify_items": null,
      "left": null,
      "margin": null,
      "max_height": null,
      "max_width": null,
      "min_height": null,
      "min_width": null,
      "object_fit": null,
      "object_position": null,
      "order": null,
      "overflow": null,
      "overflow_x": null,
      "overflow_y": null,
      "padding": null,
      "right": null,
      "top": null,
      "visibility": null,
      "width": "'200'"
     }
    }
   }
  }
 },
 "nbformat": 4,
 "nbformat_minor": 4
}
