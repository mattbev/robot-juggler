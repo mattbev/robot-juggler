{
  "nbformat": 4,
  "nbformat_minor": 0,
  "metadata": {
    "kernelspec": {
      "display_name": "Python 3",
      "language": "python",
      "name": "python3"
    },
    "language_info": {
      "codemirror_mode": {
        "name": "ipython",
        "version": 3
      },
      "file_extension": ".py",
      "mimetype": "text/x-python",
      "name": "python",
      "nbconvert_exporter": "python",
      "pygments_lexer": "ipython3",
      "version": "3.8.3"
    },
    "colab": {
      "name": "Robot Juggling",
      "provenance": [],
      "collapsed_sections": [],
      "toc_visible": true,
      "include_colab_link": true
    },
    "widgets": {
      "application/vnd.jupyter.widget-state+json": {
        "9b617f75a42747bba6a25d62a2a60488": {
          "model_module": "@jupyter-widgets/controls",
          "model_name": "DropdownModel",
          "state": {
            "_options_labels": [
              "Kuka LBR iiwa 7",
              "Kuka LBR iiwa 14",
              "Kinova Jaco Gen2 (7 DoF)",
              "Franka Emika Panda"
            ],
            "_view_name": "DropdownView",
            "style": "IPY_MODEL_f87d6730214041adb34ae3e81686ccad",
            "_dom_classes": [],
            "description": "Choose your robot arm",
            "_model_name": "DropdownModel",
            "index": 3,
            "_view_module": "@jupyter-widgets/controls",
            "_model_module_version": "1.5.0",
            "_view_count": null,
            "disabled": false,
            "_view_module_version": "1.5.0",
            "description_tooltip": null,
            "_model_module": "@jupyter-widgets/controls",
            "layout": "IPY_MODEL_b8c3926796ce4c1787751a1b7f80f24a"
          }
        },
        "f87d6730214041adb34ae3e81686ccad": {
          "model_module": "@jupyter-widgets/controls",
          "model_name": "DescriptionStyleModel",
          "state": {
            "_view_name": "StyleView",
            "_model_name": "DescriptionStyleModel",
            "description_width": "initial",
            "_view_module": "@jupyter-widgets/base",
            "_model_module_version": "1.5.0",
            "_view_count": null,
            "_view_module_version": "1.2.0",
            "_model_module": "@jupyter-widgets/controls"
          }
        },
        "b8c3926796ce4c1787751a1b7f80f24a": {
          "model_module": "@jupyter-widgets/base",
          "model_name": "LayoutModel",
          "state": {
            "_view_name": "LayoutView",
            "grid_template_rows": null,
            "right": null,
            "justify_content": null,
            "_view_module": "@jupyter-widgets/base",
            "overflow": null,
            "_model_module_version": "1.2.0",
            "_view_count": null,
            "flex_flow": null,
            "width": null,
            "min_width": null,
            "border": null,
            "align_items": null,
            "bottom": null,
            "_model_module": "@jupyter-widgets/base",
            "top": null,
            "grid_column": null,
            "overflow_y": null,
            "overflow_x": null,
            "grid_auto_flow": null,
            "grid_area": null,
            "grid_template_columns": null,
            "flex": null,
            "_model_name": "LayoutModel",
            "justify_items": null,
            "grid_row": null,
            "max_height": null,
            "align_content": null,
            "visibility": null,
            "align_self": null,
            "height": null,
            "min_height": null,
            "padding": null,
            "grid_auto_rows": null,
            "grid_gap": null,
            "max_width": null,
            "order": null,
            "_view_module_version": "1.2.0",
            "grid_template_areas": null,
            "object_position": null,
            "object_fit": null,
            "grid_auto_columns": null,
            "margin": null,
            "display": null,
            "left": null
          }
        },
        "d10b990d69d74f049f7a39eb5f00a2dd": {
          "model_module": "@jupyter-widgets/controls",
          "model_name": "FloatSliderModel",
          "state": {
            "_view_name": "FloatSliderView",
            "style": "IPY_MODEL_bcc3a488b74b42ff9da67b090cc5bd07",
            "_dom_classes": [],
            "description": "panda_joint1",
            "step": 0.01,
            "_model_name": "FloatSliderModel",
            "orientation": "horizontal",
            "max": 2.8973,
            "_view_module": "@jupyter-widgets/controls",
            "_model_module_version": "1.5.0",
            "value": 0,
            "_view_count": null,
            "disabled": false,
            "_view_module_version": "1.5.0",
            "min": -2.8973,
            "continuous_update": true,
            "readout_format": ".2f",
            "description_tooltip": null,
            "readout": true,
            "_model_module": "@jupyter-widgets/controls",
            "layout": "IPY_MODEL_c8b77aeb6f2d4fc38dee0f49f1031be1"
          }
        },
        "bcc3a488b74b42ff9da67b090cc5bd07": {
          "model_module": "@jupyter-widgets/controls",
          "model_name": "SliderStyleModel",
          "state": {
            "_view_name": "StyleView",
            "handle_color": null,
            "_model_name": "SliderStyleModel",
            "description_width": "initial",
            "_view_module": "@jupyter-widgets/base",
            "_model_module_version": "1.5.0",
            "_view_count": null,
            "_view_module_version": "1.2.0",
            "_model_module": "@jupyter-widgets/controls"
          }
        },
        "c8b77aeb6f2d4fc38dee0f49f1031be1": {
          "model_module": "@jupyter-widgets/base",
          "model_name": "LayoutModel",
          "state": {
            "_view_name": "LayoutView",
            "grid_template_rows": null,
            "right": null,
            "justify_content": null,
            "_view_module": "@jupyter-widgets/base",
            "overflow": null,
            "_model_module_version": "1.2.0",
            "_view_count": null,
            "flex_flow": null,
            "width": "'200'",
            "min_width": null,
            "border": null,
            "align_items": null,
            "bottom": null,
            "_model_module": "@jupyter-widgets/base",
            "top": null,
            "grid_column": null,
            "overflow_y": null,
            "overflow_x": null,
            "grid_auto_flow": null,
            "grid_area": null,
            "grid_template_columns": null,
            "flex": null,
            "_model_name": "LayoutModel",
            "justify_items": null,
            "grid_row": null,
            "max_height": null,
            "align_content": null,
            "visibility": null,
            "align_self": null,
            "height": null,
            "min_height": null,
            "padding": null,
            "grid_auto_rows": null,
            "grid_gap": null,
            "max_width": null,
            "order": null,
            "_view_module_version": "1.2.0",
            "grid_template_areas": null,
            "object_position": null,
            "object_fit": null,
            "grid_auto_columns": null,
            "margin": null,
            "display": null,
            "left": null
          }
        },
        "ad8d0575f6694073a9b9f7d4ef3ec5d4": {
          "model_module": "@jupyter-widgets/controls",
          "model_name": "FloatSliderModel",
          "state": {
            "_view_name": "FloatSliderView",
            "style": "IPY_MODEL_0f24da5787254c50a6cc946784f1db00",
            "_dom_classes": [],
            "description": "panda_joint2",
            "step": 0.01,
            "_model_name": "FloatSliderModel",
            "orientation": "horizontal",
            "max": 1.7628,
            "_view_module": "@jupyter-widgets/controls",
            "_model_module_version": "1.5.0",
            "value": 0,
            "_view_count": null,
            "disabled": false,
            "_view_module_version": "1.5.0",
            "min": -1.7628,
            "continuous_update": true,
            "readout_format": ".2f",
            "description_tooltip": null,
            "readout": true,
            "_model_module": "@jupyter-widgets/controls",
            "layout": "IPY_MODEL_0079d2a077ee44c2959de8325be4e156"
          }
        },
        "0f24da5787254c50a6cc946784f1db00": {
          "model_module": "@jupyter-widgets/controls",
          "model_name": "SliderStyleModel",
          "state": {
            "_view_name": "StyleView",
            "handle_color": null,
            "_model_name": "SliderStyleModel",
            "description_width": "initial",
            "_view_module": "@jupyter-widgets/base",
            "_model_module_version": "1.5.0",
            "_view_count": null,
            "_view_module_version": "1.2.0",
            "_model_module": "@jupyter-widgets/controls"
          }
        },
        "0079d2a077ee44c2959de8325be4e156": {
          "model_module": "@jupyter-widgets/base",
          "model_name": "LayoutModel",
          "state": {
            "_view_name": "LayoutView",
            "grid_template_rows": null,
            "right": null,
            "justify_content": null,
            "_view_module": "@jupyter-widgets/base",
            "overflow": null,
            "_model_module_version": "1.2.0",
            "_view_count": null,
            "flex_flow": null,
            "width": "'200'",
            "min_width": null,
            "border": null,
            "align_items": null,
            "bottom": null,
            "_model_module": "@jupyter-widgets/base",
            "top": null,
            "grid_column": null,
            "overflow_y": null,
            "overflow_x": null,
            "grid_auto_flow": null,
            "grid_area": null,
            "grid_template_columns": null,
            "flex": null,
            "_model_name": "LayoutModel",
            "justify_items": null,
            "grid_row": null,
            "max_height": null,
            "align_content": null,
            "visibility": null,
            "align_self": null,
            "height": null,
            "min_height": null,
            "padding": null,
            "grid_auto_rows": null,
            "grid_gap": null,
            "max_width": null,
            "order": null,
            "_view_module_version": "1.2.0",
            "grid_template_areas": null,
            "object_position": null,
            "object_fit": null,
            "grid_auto_columns": null,
            "margin": null,
            "display": null,
            "left": null
          }
        },
        "996ef2a80939452b9892236fdc23a02a": {
          "model_module": "@jupyter-widgets/controls",
          "model_name": "FloatSliderModel",
          "state": {
            "_view_name": "FloatSliderView",
            "style": "IPY_MODEL_518ca7a252764158a3740e5c6bb7f81a",
            "_dom_classes": [],
            "description": "panda_joint3",
            "step": 0.01,
            "_model_name": "FloatSliderModel",
            "orientation": "horizontal",
            "max": 2.8973,
            "_view_module": "@jupyter-widgets/controls",
            "_model_module_version": "1.5.0",
            "value": 0,
            "_view_count": null,
            "disabled": false,
            "_view_module_version": "1.5.0",
            "min": -2.8973,
            "continuous_update": true,
            "readout_format": ".2f",
            "description_tooltip": null,
            "readout": true,
            "_model_module": "@jupyter-widgets/controls",
            "layout": "IPY_MODEL_275abda02c514e0ab00adff4a75772e1"
          }
        },
        "518ca7a252764158a3740e5c6bb7f81a": {
          "model_module": "@jupyter-widgets/controls",
          "model_name": "SliderStyleModel",
          "state": {
            "_view_name": "StyleView",
            "handle_color": null,
            "_model_name": "SliderStyleModel",
            "description_width": "initial",
            "_view_module": "@jupyter-widgets/base",
            "_model_module_version": "1.5.0",
            "_view_count": null,
            "_view_module_version": "1.2.0",
            "_model_module": "@jupyter-widgets/controls"
          }
        },
        "275abda02c514e0ab00adff4a75772e1": {
          "model_module": "@jupyter-widgets/base",
          "model_name": "LayoutModel",
          "state": {
            "_view_name": "LayoutView",
            "grid_template_rows": null,
            "right": null,
            "justify_content": null,
            "_view_module": "@jupyter-widgets/base",
            "overflow": null,
            "_model_module_version": "1.2.0",
            "_view_count": null,
            "flex_flow": null,
            "width": "'200'",
            "min_width": null,
            "border": null,
            "align_items": null,
            "bottom": null,
            "_model_module": "@jupyter-widgets/base",
            "top": null,
            "grid_column": null,
            "overflow_y": null,
            "overflow_x": null,
            "grid_auto_flow": null,
            "grid_area": null,
            "grid_template_columns": null,
            "flex": null,
            "_model_name": "LayoutModel",
            "justify_items": null,
            "grid_row": null,
            "max_height": null,
            "align_content": null,
            "visibility": null,
            "align_self": null,
            "height": null,
            "min_height": null,
            "padding": null,
            "grid_auto_rows": null,
            "grid_gap": null,
            "max_width": null,
            "order": null,
            "_view_module_version": "1.2.0",
            "grid_template_areas": null,
            "object_position": null,
            "object_fit": null,
            "grid_auto_columns": null,
            "margin": null,
            "display": null,
            "left": null
          }
        },
        "116c19314bea4f8393f8ffe84a4d877b": {
          "model_module": "@jupyter-widgets/controls",
          "model_name": "FloatSliderModel",
          "state": {
            "_view_name": "FloatSliderView",
            "style": "IPY_MODEL_cfbe30e7cfee42c7bbaa5a1a238ec8b5",
            "_dom_classes": [],
            "description": "panda_joint4",
            "step": 0.01,
            "_model_name": "FloatSliderModel",
            "orientation": "horizontal",
            "max": -0.0698,
            "_view_module": "@jupyter-widgets/controls",
            "_model_module_version": "1.5.0",
            "value": -0.0698,
            "_view_count": null,
            "disabled": false,
            "_view_module_version": "1.5.0",
            "min": -3.0718,
            "continuous_update": true,
            "readout_format": ".2f",
            "description_tooltip": null,
            "readout": true,
            "_model_module": "@jupyter-widgets/controls",
            "layout": "IPY_MODEL_4ea3276e402e480ea28e9580f4ea9c39"
          }
        },
        "cfbe30e7cfee42c7bbaa5a1a238ec8b5": {
          "model_module": "@jupyter-widgets/controls",
          "model_name": "SliderStyleModel",
          "state": {
            "_view_name": "StyleView",
            "handle_color": null,
            "_model_name": "SliderStyleModel",
            "description_width": "initial",
            "_view_module": "@jupyter-widgets/base",
            "_model_module_version": "1.5.0",
            "_view_count": null,
            "_view_module_version": "1.2.0",
            "_model_module": "@jupyter-widgets/controls"
          }
        },
        "4ea3276e402e480ea28e9580f4ea9c39": {
          "model_module": "@jupyter-widgets/base",
          "model_name": "LayoutModel",
          "state": {
            "_view_name": "LayoutView",
            "grid_template_rows": null,
            "right": null,
            "justify_content": null,
            "_view_module": "@jupyter-widgets/base",
            "overflow": null,
            "_model_module_version": "1.2.0",
            "_view_count": null,
            "flex_flow": null,
            "width": "'200'",
            "min_width": null,
            "border": null,
            "align_items": null,
            "bottom": null,
            "_model_module": "@jupyter-widgets/base",
            "top": null,
            "grid_column": null,
            "overflow_y": null,
            "overflow_x": null,
            "grid_auto_flow": null,
            "grid_area": null,
            "grid_template_columns": null,
            "flex": null,
            "_model_name": "LayoutModel",
            "justify_items": null,
            "grid_row": null,
            "max_height": null,
            "align_content": null,
            "visibility": null,
            "align_self": null,
            "height": null,
            "min_height": null,
            "padding": null,
            "grid_auto_rows": null,
            "grid_gap": null,
            "max_width": null,
            "order": null,
            "_view_module_version": "1.2.0",
            "grid_template_areas": null,
            "object_position": null,
            "object_fit": null,
            "grid_auto_columns": null,
            "margin": null,
            "display": null,
            "left": null
          }
        },
        "e5ea0c90848e43688bbe3025707fcafb": {
          "model_module": "@jupyter-widgets/controls",
          "model_name": "FloatSliderModel",
          "state": {
            "_view_name": "FloatSliderView",
            "style": "IPY_MODEL_8b9eb75481e24fb5a01d7bedcbce7342",
            "_dom_classes": [],
            "description": "panda_joint5",
            "step": 0.01,
            "_model_name": "FloatSliderModel",
            "orientation": "horizontal",
            "max": 2.8973,
            "_view_module": "@jupyter-widgets/controls",
            "_model_module_version": "1.5.0",
            "value": 0,
            "_view_count": null,
            "disabled": false,
            "_view_module_version": "1.5.0",
            "min": -2.8973,
            "continuous_update": true,
            "readout_format": ".2f",
            "description_tooltip": null,
            "readout": true,
            "_model_module": "@jupyter-widgets/controls",
            "layout": "IPY_MODEL_ebab3e4347db41599d89bd4419370790"
          }
        },
        "8b9eb75481e24fb5a01d7bedcbce7342": {
          "model_module": "@jupyter-widgets/controls",
          "model_name": "SliderStyleModel",
          "state": {
            "_view_name": "StyleView",
            "handle_color": null,
            "_model_name": "SliderStyleModel",
            "description_width": "initial",
            "_view_module": "@jupyter-widgets/base",
            "_model_module_version": "1.5.0",
            "_view_count": null,
            "_view_module_version": "1.2.0",
            "_model_module": "@jupyter-widgets/controls"
          }
        },
        "ebab3e4347db41599d89bd4419370790": {
          "model_module": "@jupyter-widgets/base",
          "model_name": "LayoutModel",
          "state": {
            "_view_name": "LayoutView",
            "grid_template_rows": null,
            "right": null,
            "justify_content": null,
            "_view_module": "@jupyter-widgets/base",
            "overflow": null,
            "_model_module_version": "1.2.0",
            "_view_count": null,
            "flex_flow": null,
            "width": "'200'",
            "min_width": null,
            "border": null,
            "align_items": null,
            "bottom": null,
            "_model_module": "@jupyter-widgets/base",
            "top": null,
            "grid_column": null,
            "overflow_y": null,
            "overflow_x": null,
            "grid_auto_flow": null,
            "grid_area": null,
            "grid_template_columns": null,
            "flex": null,
            "_model_name": "LayoutModel",
            "justify_items": null,
            "grid_row": null,
            "max_height": null,
            "align_content": null,
            "visibility": null,
            "align_self": null,
            "height": null,
            "min_height": null,
            "padding": null,
            "grid_auto_rows": null,
            "grid_gap": null,
            "max_width": null,
            "order": null,
            "_view_module_version": "1.2.0",
            "grid_template_areas": null,
            "object_position": null,
            "object_fit": null,
            "grid_auto_columns": null,
            "margin": null,
            "display": null,
            "left": null
          }
        },
        "43573608f81b4d39b960cdf9b4dad53c": {
          "model_module": "@jupyter-widgets/controls",
          "model_name": "FloatSliderModel",
          "state": {
            "_view_name": "FloatSliderView",
            "style": "IPY_MODEL_f3846d6ec0084a84b3d68efff60cbf50",
            "_dom_classes": [],
            "description": "panda_joint6",
            "step": 0.01,
            "_model_name": "FloatSliderModel",
            "orientation": "horizontal",
            "max": 3.7525,
            "_view_module": "@jupyter-widgets/controls",
            "_model_module_version": "1.5.0",
            "value": 0,
            "_view_count": null,
            "disabled": false,
            "_view_module_version": "1.5.0",
            "min": -0.0175,
            "continuous_update": true,
            "readout_format": ".2f",
            "description_tooltip": null,
            "readout": true,
            "_model_module": "@jupyter-widgets/controls",
            "layout": "IPY_MODEL_9ef3a610640a4096914aa04a0446d13e"
          }
        },
        "f3846d6ec0084a84b3d68efff60cbf50": {
          "model_module": "@jupyter-widgets/controls",
          "model_name": "SliderStyleModel",
          "state": {
            "_view_name": "StyleView",
            "handle_color": null,
            "_model_name": "SliderStyleModel",
            "description_width": "initial",
            "_view_module": "@jupyter-widgets/base",
            "_model_module_version": "1.5.0",
            "_view_count": null,
            "_view_module_version": "1.2.0",
            "_model_module": "@jupyter-widgets/controls"
          }
        },
        "9ef3a610640a4096914aa04a0446d13e": {
          "model_module": "@jupyter-widgets/base",
          "model_name": "LayoutModel",
          "state": {
            "_view_name": "LayoutView",
            "grid_template_rows": null,
            "right": null,
            "justify_content": null,
            "_view_module": "@jupyter-widgets/base",
            "overflow": null,
            "_model_module_version": "1.2.0",
            "_view_count": null,
            "flex_flow": null,
            "width": "'200'",
            "min_width": null,
            "border": null,
            "align_items": null,
            "bottom": null,
            "_model_module": "@jupyter-widgets/base",
            "top": null,
            "grid_column": null,
            "overflow_y": null,
            "overflow_x": null,
            "grid_auto_flow": null,
            "grid_area": null,
            "grid_template_columns": null,
            "flex": null,
            "_model_name": "LayoutModel",
            "justify_items": null,
            "grid_row": null,
            "max_height": null,
            "align_content": null,
            "visibility": null,
            "align_self": null,
            "height": null,
            "min_height": null,
            "padding": null,
            "grid_auto_rows": null,
            "grid_gap": null,
            "max_width": null,
            "order": null,
            "_view_module_version": "1.2.0",
            "grid_template_areas": null,
            "object_position": null,
            "object_fit": null,
            "grid_auto_columns": null,
            "margin": null,
            "display": null,
            "left": null
          }
        },
        "90df0e983bdd437890b100caffc49cc6": {
          "model_module": "@jupyter-widgets/controls",
          "model_name": "FloatSliderModel",
          "state": {
            "_view_name": "FloatSliderView",
            "style": "IPY_MODEL_984b4ada9a5a4e6cadf3c44e5088a824",
            "_dom_classes": [],
            "description": "panda_joint7",
            "step": 0.01,
            "_model_name": "FloatSliderModel",
            "orientation": "horizontal",
            "max": 2.8973,
            "_view_module": "@jupyter-widgets/controls",
            "_model_module_version": "1.5.0",
            "value": 0,
            "_view_count": null,
            "disabled": false,
            "_view_module_version": "1.5.0",
            "min": -2.8973,
            "continuous_update": true,
            "readout_format": ".2f",
            "description_tooltip": null,
            "readout": true,
            "_model_module": "@jupyter-widgets/controls",
            "layout": "IPY_MODEL_30e764fadabf4f44949afb77cda5966c"
          }
        },
        "984b4ada9a5a4e6cadf3c44e5088a824": {
          "model_module": "@jupyter-widgets/controls",
          "model_name": "SliderStyleModel",
          "state": {
            "_view_name": "StyleView",
            "handle_color": null,
            "_model_name": "SliderStyleModel",
            "description_width": "initial",
            "_view_module": "@jupyter-widgets/base",
            "_model_module_version": "1.5.0",
            "_view_count": null,
            "_view_module_version": "1.2.0",
            "_model_module": "@jupyter-widgets/controls"
          }
        },
        "30e764fadabf4f44949afb77cda5966c": {
          "model_module": "@jupyter-widgets/base",
          "model_name": "LayoutModel",
          "state": {
            "_view_name": "LayoutView",
            "grid_template_rows": null,
            "right": null,
            "justify_content": null,
            "_view_module": "@jupyter-widgets/base",
            "overflow": null,
            "_model_module_version": "1.2.0",
            "_view_count": null,
            "flex_flow": null,
            "width": "'200'",
            "min_width": null,
            "border": null,
            "align_items": null,
            "bottom": null,
            "_model_module": "@jupyter-widgets/base",
            "top": null,
            "grid_column": null,
            "overflow_y": null,
            "overflow_x": null,
            "grid_auto_flow": null,
            "grid_area": null,
            "grid_template_columns": null,
            "flex": null,
            "_model_name": "LayoutModel",
            "justify_items": null,
            "grid_row": null,
            "max_height": null,
            "align_content": null,
            "visibility": null,
            "align_self": null,
            "height": null,
            "min_height": null,
            "padding": null,
            "grid_auto_rows": null,
            "grid_gap": null,
            "max_width": null,
            "order": null,
            "_view_module_version": "1.2.0",
            "grid_template_areas": null,
            "object_position": null,
            "object_fit": null,
            "grid_auto_columns": null,
            "margin": null,
            "display": null,
            "left": null
          }
        },
        "62ccf910d7104e698703dbc0a8e7db84": {
          "model_module": "@jupyter-widgets/controls",
          "model_name": "FloatSliderModel",
          "state": {
            "_view_name": "FloatSliderView",
            "style": "IPY_MODEL_563ba361a9db4552ad900cfacb14aa14",
            "_dom_classes": [],
            "description": "panda_finger_joint1",
            "step": 0.01,
            "_model_name": "FloatSliderModel",
            "orientation": "horizontal",
            "max": 0.04,
            "_view_module": "@jupyter-widgets/controls",
            "_model_module_version": "1.5.0",
            "value": 0,
            "_view_count": null,
            "disabled": false,
            "_view_module_version": "1.5.0",
            "min": 0,
            "continuous_update": true,
            "readout_format": ".2f",
            "description_tooltip": null,
            "readout": true,
            "_model_module": "@jupyter-widgets/controls",
            "layout": "IPY_MODEL_4bde1246a7644630accaebd6a1f9a9de"
          }
        },
        "563ba361a9db4552ad900cfacb14aa14": {
          "model_module": "@jupyter-widgets/controls",
          "model_name": "SliderStyleModel",
          "state": {
            "_view_name": "StyleView",
            "handle_color": null,
            "_model_name": "SliderStyleModel",
            "description_width": "initial",
            "_view_module": "@jupyter-widgets/base",
            "_model_module_version": "1.5.0",
            "_view_count": null,
            "_view_module_version": "1.2.0",
            "_model_module": "@jupyter-widgets/controls"
          }
        },
        "4bde1246a7644630accaebd6a1f9a9de": {
          "model_module": "@jupyter-widgets/base",
          "model_name": "LayoutModel",
          "state": {
            "_view_name": "LayoutView",
            "grid_template_rows": null,
            "right": null,
            "justify_content": null,
            "_view_module": "@jupyter-widgets/base",
            "overflow": null,
            "_model_module_version": "1.2.0",
            "_view_count": null,
            "flex_flow": null,
            "width": "'200'",
            "min_width": null,
            "border": null,
            "align_items": null,
            "bottom": null,
            "_model_module": "@jupyter-widgets/base",
            "top": null,
            "grid_column": null,
            "overflow_y": null,
            "overflow_x": null,
            "grid_auto_flow": null,
            "grid_area": null,
            "grid_template_columns": null,
            "flex": null,
            "_model_name": "LayoutModel",
            "justify_items": null,
            "grid_row": null,
            "max_height": null,
            "align_content": null,
            "visibility": null,
            "align_self": null,
            "height": null,
            "min_height": null,
            "padding": null,
            "grid_auto_rows": null,
            "grid_gap": null,
            "max_width": null,
            "order": null,
            "_view_module_version": "1.2.0",
            "grid_template_areas": null,
            "object_position": null,
            "object_fit": null,
            "grid_auto_columns": null,
            "margin": null,
            "display": null,
            "left": null
          }
        },
        "6c8eced584264cbe98bfc89d736ec6aa": {
          "model_module": "@jupyter-widgets/controls",
          "model_name": "FloatSliderModel",
          "state": {
            "_view_name": "FloatSliderView",
            "style": "IPY_MODEL_71085c68eb644c17affcbd504cfa2405",
            "_dom_classes": [],
            "description": "panda_finger_joint2",
            "step": 0.01,
            "_model_name": "FloatSliderModel",
            "orientation": "horizontal",
            "max": 0.04,
            "_view_module": "@jupyter-widgets/controls",
            "_model_module_version": "1.5.0",
            "value": 0,
            "_view_count": null,
            "disabled": false,
            "_view_module_version": "1.5.0",
            "min": 0,
            "continuous_update": true,
            "readout_format": ".2f",
            "description_tooltip": null,
            "readout": true,
            "_model_module": "@jupyter-widgets/controls",
            "layout": "IPY_MODEL_c1997a437578492f86b4875c219bab8d"
          }
        },
        "71085c68eb644c17affcbd504cfa2405": {
          "model_module": "@jupyter-widgets/controls",
          "model_name": "SliderStyleModel",
          "state": {
            "_view_name": "StyleView",
            "handle_color": null,
            "_model_name": "SliderStyleModel",
            "description_width": "initial",
            "_view_module": "@jupyter-widgets/base",
            "_model_module_version": "1.5.0",
            "_view_count": null,
            "_view_module_version": "1.2.0",
            "_model_module": "@jupyter-widgets/controls"
          }
        },
        "c1997a437578492f86b4875c219bab8d": {
          "model_module": "@jupyter-widgets/base",
          "model_name": "LayoutModel",
          "state": {
            "_view_name": "LayoutView",
            "grid_template_rows": null,
            "right": null,
            "justify_content": null,
            "_view_module": "@jupyter-widgets/base",
            "overflow": null,
            "_model_module_version": "1.2.0",
            "_view_count": null,
            "flex_flow": null,
            "width": "'200'",
            "min_width": null,
            "border": null,
            "align_items": null,
            "bottom": null,
            "_model_module": "@jupyter-widgets/base",
            "top": null,
            "grid_column": null,
            "overflow_y": null,
            "overflow_x": null,
            "grid_auto_flow": null,
            "grid_area": null,
            "grid_template_columns": null,
            "flex": null,
            "_model_name": "LayoutModel",
            "justify_items": null,
            "grid_row": null,
            "max_height": null,
            "align_content": null,
            "visibility": null,
            "align_self": null,
            "height": null,
            "min_height": null,
            "padding": null,
            "grid_auto_rows": null,
            "grid_gap": null,
            "max_width": null,
            "order": null,
            "_view_module_version": "1.2.0",
            "grid_template_areas": null,
            "object_position": null,
            "object_fit": null,
            "grid_auto_columns": null,
            "margin": null,
            "display": null,
            "left": null
          }
        }
      }
    }
  },
  "cells": [
    {
      "cell_type": "markdown",
      "metadata": {
        "id": "view-in-github",
        "colab_type": "text"
      },
      "source": [
        "<a href=\"https://colab.research.google.com/github/mattbev/robot-juggler/blob/main/Robot_Juggling.ipynb\" target=\"_parent\"><img src=\"https://colab.research.google.com/assets/colab-badge.svg\" alt=\"Open In Colab\"/></a>"
      ]
    },
    {
      "cell_type": "markdown",
      "metadata": {
        "id": "EgiF12Hf1Dhs"
      },
      "source": [
        "**I recommend you run the first code cell of this notebook immediately, to start provisioning drake on the cloud machine, then you can leave this window open as you [read the textbook](manipulation.csail.mit.edu/robot.html).**\n",
        "\n",
        "# Notebook setup\n",
        "\n",
        "The following cell will:\n",
        "- on Colab (only), install Drake to `/opt/drake`, install Drake's prerequisites via `apt`, and add pydrake to `sys.path`.  This will take approximately two minutes on the first time it runs (to provision the machine), but should only need to reinstall once every 12 hours.  If you navigate between notebooks using Colab's \"File->Open\" menu, then you can avoid provisioning a separate machine for each notebook.\n",
        "- launch a server for our 3D visualizer (MeshCat) that will be used for the remainder of this notebook.\n",
        "\n",
        "You will need to rerun this cell if you restart the kernel, but it should be fast because the machine will already have drake installed."
      ]
    },
    {
      "cell_type": "code",
      "metadata": {
        "id": "eeMrMI0-1Dhu"
      },
      "source": [
        "import importlib\n",
        "import sys\n",
        "from urllib.request import urlretrieve\n",
        "\n",
        "if 'google.colab' in sys.modules and importlib.util.find_spec('pydrake') is None:\n",
        "  version='20200918'\n",
        "  build='nightly'\n",
        "  urlretrieve(f\"https://drake-packages.csail.mit.edu/drake/{build}/drake-{version}/setup_drake_colab.py\",\n",
        "              \"setup_drake_colab.py\")\n",
        "  from setup_drake_colab import setup_drake\n",
        "  setup_drake(version=version, build=build)\n",
        "  !pip install pyngrok==4.2.2\n",
        "\n",
        "# Install pyngrok.\n",
        "server_args = []\n",
        "if 'google.colab' in sys.modules:\n",
        "  server_args = ['--ngrok_http_tunnel']\n",
        "\n",
        "# Start a single meshcat server instance to use for the remainder of this notebook.\n",
        "from meshcat.servers.zmqserver import start_zmq_server_as_subprocess\n",
        "proc, zmq_url, web_url = start_zmq_server_as_subprocess(server_args=server_args)\n",
        "\n",
        "# Determine if this notebook is currently running as a notebook or a unit test.\n",
        "from IPython import get_ipython\n",
        "running_as_notebook = get_ipython() and hasattr(get_ipython(), 'kernel')\n",
        "\n",
        "# Imports\n",
        "import numpy as np\n",
        "import pydot\n",
        "from ipywidgets import Dropdown, Layout\n",
        "from IPython.display import display, HTML, SVG\n",
        "\n",
        "from pydrake.all import (\n",
        "    AddMultibodyPlantSceneGraph, ConnectMeshcatVisualizer, DiagramBuilder, \n",
        "    FindResourceOrThrow, GenerateHtml, InverseDynamicsController, \n",
        "    MultibodyPlant, Parser, Simulator)\n",
        "from pydrake.multibody.jupyter_widgets import MakeJointSlidersThatPublishOnCallback\n"
      ],
      "execution_count": null,
      "outputs": []
    },
    {
      "cell_type": "markdown",
      "metadata": {
        "id": "wJWL-ldv5REK"
      },
      "source": [
        "# Robot arms\n",
        "\n",
        "The next two cells will give you a simple interface to move the joints around on a variety of robot arm models.\n",
        "\n",
        "Have a favorite robot that I haven't included here?  If you send me a link to a properly licensed URDF or SDF description of the robot and it's mesh files, I'm happy to add it!  It's worth taking a look at the files quickly, to get a sense for how they work: [SDF](https://github.com/RobotLocomotion/drake/blob/master/manipulation/models/iiwa_description/sdf/iiwa14_no_collision.sdf), [URDF](https://github.com/RobotLocomotion/drake/blob/master/manipulation/models/iiwa_description/urdf/iiwa14_no_collision.urdf).\n",
        "\n",
        "Note: The Jaco doesn't visualize properly in this renderer yet.  See drake issue [#13846](https://github.com/RobotLocomotion/drake/issues/13846)."
      ]
    },
    {
      "cell_type": "code",
      "metadata": {
        "id": "wlN0Twwr5rYS",
        "outputId": "7560134b-77d5-4259-bfa1-0bb4ae63c2c9",
        "colab": {
          "base_uri": "https://localhost:8080/",
          "height": 49,
          "referenced_widgets": [
            "9b617f75a42747bba6a25d62a2a60488",
            "f87d6730214041adb34ae3e81686ccad",
            "b8c3926796ce4c1787751a1b7f80f24a"
          ]
        }
      },
      "source": [
        "arm_selector = Dropdown(options=[\"Kuka LBR iiwa 7\",\n",
        "                        \"Kuka LBR iiwa 14\",\n",
        "                        \"Kinova Jaco Gen2 (7 DoF)\",\n",
        "                        \"Franka Emika Panda\"],\n",
        "               description=\"Choose your robot arm\",\n",
        "               style = {'description_width': 'initial'})\n",
        "display(arm_selector)\n",
        "\n",
        "def get_model_file(description):\n",
        "  # Note: I could download remote model resources here if necessary.\n",
        "  if description == \"Kuka LBR iiwa 7\":\n",
        "    return FindResourceOrThrow(\"drake/manipulation/models/iiwa_description/iiwa7/iiwa7_no_collision.sdf\")\n",
        "  elif description == \"Kuka LBR iiwa 14\":\n",
        "    return FindResourceOrThrow(\"drake/manipulation/models/iiwa_description/sdf/iiwa14_no_collision.sdf\")\n",
        "  elif description == \"Kinova Jaco Gen2 (7 DoF)\":\n",
        "    return FindResourceOrThrow(\"drake/manipulation/models/jaco_description/urdf/j2s7s300.urdf\")\n",
        "  elif description == \"Franka Emika Panda\":\n",
        "    return FindResourceOrThrow(\"drake/manipulation/models/franka_description/urdf/panda_arm_hand.urdf\")\n",
        "  raise Exception(\"Unknown model\")\n"
      ],
      "execution_count": null,
      "outputs": [
        {
          "output_type": "display_data",
          "data": {
            "application/vnd.jupyter.widget-view+json": {
              "model_id": "9b617f75a42747bba6a25d62a2a60488",
              "version_minor": 0,
              "version_major": 2
            },
            "text/plain": [
              "Dropdown(description='Choose your robot arm', options=('Kuka LBR iiwa 7', 'Kuka LBR iiwa 14', 'Kinova Jaco Gen…"
            ]
          },
          "metadata": {
            "tags": []
          }
        }
      ]
    },
    {
      "cell_type": "code",
      "metadata": {
        "id": "9GSF52A8ExQa",
        "outputId": "0521816c-8758-4d9f-efdf-71d95a37c5b4",
        "colab": {
          "base_uri": "https://localhost:8080/",
          "height": 357,
          "referenced_widgets": [
            "d10b990d69d74f049f7a39eb5f00a2dd",
            "bcc3a488b74b42ff9da67b090cc5bd07",
            "c8b77aeb6f2d4fc38dee0f49f1031be1",
            "ad8d0575f6694073a9b9f7d4ef3ec5d4",
            "0f24da5787254c50a6cc946784f1db00",
            "0079d2a077ee44c2959de8325be4e156",
            "996ef2a80939452b9892236fdc23a02a",
            "518ca7a252764158a3740e5c6bb7f81a",
            "275abda02c514e0ab00adff4a75772e1",
            "116c19314bea4f8393f8ffe84a4d877b",
            "cfbe30e7cfee42c7bbaa5a1a238ec8b5",
            "4ea3276e402e480ea28e9580f4ea9c39",
            "e5ea0c90848e43688bbe3025707fcafb",
            "8b9eb75481e24fb5a01d7bedcbce7342",
            "ebab3e4347db41599d89bd4419370790",
            "43573608f81b4d39b960cdf9b4dad53c",
            "f3846d6ec0084a84b3d68efff60cbf50",
            "9ef3a610640a4096914aa04a0446d13e",
            "90df0e983bdd437890b100caffc49cc6",
            "984b4ada9a5a4e6cadf3c44e5088a824",
            "30e764fadabf4f44949afb77cda5966c",
            "62ccf910d7104e698703dbc0a8e7db84",
            "563ba361a9db4552ad900cfacb14aa14",
            "4bde1246a7644630accaebd6a1f9a9de",
            "6c8eced584264cbe98bfc89d736ec6aa",
            "71085c68eb644c17affcbd504cfa2405",
            "c1997a437578492f86b4875c219bab8d"
          ]
        }
      },
      "source": [
        "builder = DiagramBuilder()\n",
        "\n",
        "plant, scene_graph = AddMultibodyPlantSceneGraph(builder, time_step=1e-4)\n",
        "Parser(plant, scene_graph).AddModelFromFile(get_model_file(arm_selector.value))\n",
        "plant.Finalize()\n",
        "\n",
        "meshcat = ConnectMeshcatVisualizer(builder, scene_graph, zmq_url=zmq_url)\n",
        "diagram = builder.Build()\n",
        "context = diagram.CreateDefaultContext()\n",
        "\n",
        "meshcat.load()\n",
        "MakeJointSlidersThatPublishOnCallback(plant, meshcat, context);"
      ],
      "execution_count": null,
      "outputs": [
        {
          "output_type": "stream",
          "text": [
            "Connecting to meshcat-server at zmq_url=tcp://127.0.0.1:6001...\n",
            "You can open the visualizer by visiting the following URL:\n",
            "http://1de86e4f25e6.ngrok.io/static/\n",
            "Connected to meshcat-server.\n"
          ],
          "name": "stdout"
        },
        {
          "output_type": "display_data",
          "data": {
            "application/vnd.jupyter.widget-view+json": {
              "model_id": "d10b990d69d74f049f7a39eb5f00a2dd",
              "version_minor": 0,
              "version_major": 2
            },
            "text/plain": [
              "FloatSlider(value=0.0, description='panda_joint1', layout=Layout(width=\"'200'\"), max=2.8973, min=-2.8973, step…"
            ]
          },
          "metadata": {
            "tags": []
          }
        },
        {
          "output_type": "display_data",
          "data": {
            "application/vnd.jupyter.widget-view+json": {
              "model_id": "ad8d0575f6694073a9b9f7d4ef3ec5d4",
              "version_minor": 0,
              "version_major": 2
            },
            "text/plain": [
              "FloatSlider(value=0.0, description='panda_joint2', layout=Layout(width=\"'200'\"), max=1.7628, min=-1.7628, step…"
            ]
          },
          "metadata": {
            "tags": []
          }
        },
        {
          "output_type": "display_data",
          "data": {
            "application/vnd.jupyter.widget-view+json": {
              "model_id": "996ef2a80939452b9892236fdc23a02a",
              "version_minor": 0,
              "version_major": 2
            },
            "text/plain": [
              "FloatSlider(value=0.0, description='panda_joint3', layout=Layout(width=\"'200'\"), max=2.8973, min=-2.8973, step…"
            ]
          },
          "metadata": {
            "tags": []
          }
        },
        {
          "output_type": "display_data",
          "data": {
            "application/vnd.jupyter.widget-view+json": {
              "model_id": "116c19314bea4f8393f8ffe84a4d877b",
              "version_minor": 0,
              "version_major": 2
            },
            "text/plain": [
              "FloatSlider(value=-0.0698, description='panda_joint4', layout=Layout(width=\"'200'\"), max=-0.0698, min=-3.0718,…"
            ]
          },
          "metadata": {
            "tags": []
          }
        },
        {
          "output_type": "display_data",
          "data": {
            "application/vnd.jupyter.widget-view+json": {
              "model_id": "e5ea0c90848e43688bbe3025707fcafb",
              "version_minor": 0,
              "version_major": 2
            },
            "text/plain": [
              "FloatSlider(value=0.0, description='panda_joint5', layout=Layout(width=\"'200'\"), max=2.8973, min=-2.8973, step…"
            ]
          },
          "metadata": {
            "tags": []
          }
        },
        {
          "output_type": "display_data",
          "data": {
            "application/vnd.jupyter.widget-view+json": {
              "model_id": "43573608f81b4d39b960cdf9b4dad53c",
              "version_minor": 0,
              "version_major": 2
            },
            "text/plain": [
              "FloatSlider(value=0.0, description='panda_joint6', layout=Layout(width=\"'200'\"), max=3.7525, min=-0.0175, step…"
            ]
          },
          "metadata": {
            "tags": []
          }
        },
        {
          "output_type": "display_data",
          "data": {
            "application/vnd.jupyter.widget-view+json": {
              "model_id": "90df0e983bdd437890b100caffc49cc6",
              "version_minor": 0,
              "version_major": 2
            },
            "text/plain": [
              "FloatSlider(value=0.0, description='panda_joint7', layout=Layout(width=\"'200'\"), max=2.8973, min=-2.8973, step…"
            ]
          },
          "metadata": {
            "tags": []
          }
        },
        {
          "output_type": "display_data",
          "data": {
            "application/vnd.jupyter.widget-view+json": {
              "model_id": "62ccf910d7104e698703dbc0a8e7db84",
              "version_minor": 0,
              "version_major": 2
            },
            "text/plain": [
              "FloatSlider(value=0.0, description='panda_finger_joint1', layout=Layout(width=\"'200'\"), max=0.04, step=0.01, s…"
            ]
          },
          "metadata": {
            "tags": []
          }
        },
        {
          "output_type": "display_data",
          "data": {
            "application/vnd.jupyter.widget-view+json": {
              "model_id": "6c8eced584264cbe98bfc89d736ec6aa",
              "version_minor": 0,
              "version_major": 2
            },
            "text/plain": [
              "FloatSlider(value=0.0, description='panda_finger_joint2', layout=Layout(width=\"'200'\"), max=0.04, step=0.01, s…"
            ]
          },
          "metadata": {
            "tags": []
          }
        }
      ]
    },
    {
      "cell_type": "markdown",
      "metadata": {
        "id": "nPy2VgSH1Dh5"
      },
      "source": [
        "# Simulation with block diagrams\n",
        "\n",
        "In this chapter, and throughout the notes, we will be building up our simulations and controllers using drake's block diagram modeling language (we call it the \"systems framework\").  [This tutorial](https://mybinder.org/v2/gh/RobotLocomotion/drake/nightly-release?filepath=tutorials/dynamical_systems.ipynb)  provides a brief introduction.  \n"
      ]
    },
    {
      "cell_type": "markdown",
      "metadata": {
        "id": "Dl9NDxDR1Dh6"
      },
      "source": [
        "# Simulating the (passive) iiwa\n",
        "\n",
        "Let's load our robot of choice (the Kuka iiwa) into the physics engine, which we call [MultibodyPlant](https://drake.mit.edu/doxygen_cxx/classdrake_1_1multibody_1_1_multibody_plant.html).\n"
      ]
    },
    {
      "cell_type": "code",
      "metadata": {
        "id": "DyfpxsGR1Dh6"
      },
      "source": [
        "plant = MultibodyPlant(time_step=1e-4)\n",
        "Parser(plant).AddModelFromFile(\n",
        "        FindResourceOrThrow(\"drake/manipulation/models/iiwa_description/sdf/iiwa14_no_collision.sdf\"))\n",
        "plant.WeldFrames(plant.world_frame(), plant.GetFrameByName(\"iiwa_link_0\"))\n",
        "plant.Finalize()"
      ],
      "execution_count": null,
      "outputs": []
    },
    {
      "cell_type": "markdown",
      "metadata": {
        "id": "H3G-pTB5bit8"
      },
      "source": [
        "In Drake, we are very careful to separate the *state* of a system from the system itself.  For example, let's think of a dynamical system as given by the difference equation: $$x[n+1] = f(n, x[n], u[n]),$$ where $n$ is the \"time\", $x$ is the state, and $u$ is any inputs to the system.  The `System` describes $f()$, but we use a structure called the [`Context`](https://drake.mit.edu/doxygen_cxx/classdrake_1_1systems_1_1_context.html) to hold the runtime values: $n, x, u$.  We use a structure, because some systems have even more runtime values, that describe system parameters, random noise inputs, etc, and it is cleaner to pass a structure around than have each system accept a different list of possible inputs.  As a rule `System` is constant over the duration of a simulation, and you should be able to obtain repeatable, deterministic simulations given any value `Context`.\n",
        "\n",
        "Let's see what the `Context` looks like for the physics engine now that we've loaded the iiwa into it."
      ]
    },
    {
      "cell_type": "code",
      "metadata": {
        "id": "P8HoF2KPdXNL",
        "outputId": "bfd6c57f-bc58-493b-9bcc-ea29f4c5386b",
        "colab": {
          "base_uri": "https://localhost:8080/"
        }
      },
      "source": [
        "context = plant.CreateDefaultContext()\n",
        "print(context)"
      ],
      "execution_count": null,
      "outputs": [
        {
          "output_type": "stream",
          "text": [
            "::_ Context\n",
            "------------\n",
            "Time: 0\n",
            "States:\n",
            "  1 discrete state groups with\n",
            "     14 states\n",
            "       0 0 0 0 0 0 0 0 0 0 0 0 0 0\n",
            "\n",
            "Parameters:\n",
            "  9 numeric parameter groups with\n",
            "     10 parameters\n",
            "       nan nan nan nan nan nan nan nan nan nan\n",
            "     10 parameters\n",
            "            5   -0.1      0   0.07 0.0149 0.0269  0.016      0  0.007      0\n",
            "     10 parameters\n",
            "             5.76          0      -0.03       0.12  0.0210292  0.0201812 0.00303542          0          0     0.0036\n",
            "     10 parameters\n",
            "             6.35     0.0003      0.059      0.042  0.0100481 0.00655149 0.00521337  -1.77e-05  -1.26e-05  -0.002478\n",
            "     10 parameters\n",
            "              3.5          0       0.03       0.13  0.0249429     0.0237 0.00307143          0          0    -0.0039\n",
            "     10 parameters\n",
            "              3.5          0      0.067      0.034  0.0105021 0.00584171 0.00620329          0          0  -0.002278\n",
            "     10 parameters\n",
            "              3.5     0.0001      0.021      0.076 0.00907414 0.00826172 0.00172387   -2.1e-06   -7.6e-06  -0.001596\n",
            "     10 parameters\n",
            "              1.8          0     0.0006     0.0004 0.00272274 0.00261127 0.00200036          0          0   -2.4e-07\n",
            "     10 parameters\n",
            "               1.2           0           0        0.02  0.00123333  0.00123333 0.000833333           0           0           0\n",
            "\n"
          ],
          "name": "stdout"
        }
      ]
    },
    {
      "cell_type": "markdown",
      "metadata": {
        "id": "vr80vD3Be7uZ"
      },
      "source": [
        "The system has 14 state variables -- these are the 7 joint positions and 7 joint velocities for the iiwa.  Those states are discrete, because we passed a non-zero `time_step` to the constructor of the `MultibodyPlant`, which means the physics engine will be use a time-stepping simulation scheme (this will be the most performant when we start simulating contact).  Go ahead and try changing `time_step` to zero, and see what happens.\n",
        "\n",
        "You'll notice the context has lots of parameters (currently these include the mass, the center of mass, and the inertia of each body).  You won't need those any time soon, but it does enable some super cool advanced features.\n",
        "\n",
        "Because the `Context` for a `MultibodyPlant` can get quite complicated, `MultibodyPlant` offers some methods that help you get/set the values.  Let's set some non-zero initial positions."
      ]
    },
    {
      "cell_type": "code",
      "metadata": {
        "id": "73whw6YZf9PP",
        "outputId": "5e0ce59a-bc14-4b8a-bdd1-3849591968c6",
        "colab": {
          "base_uri": "https://localhost:8080/"
        }
      },
      "source": [
        "# Set all of the joint positions at once in a single vector.\n",
        "plant.SetPositions(context, [-1.57, 0.1, 0, 0, 0, 1.6, 0])\n",
        "# You can also set them by referencing particular joints.\n",
        "plant.GetJointByName(\"iiwa_joint_4\").set_angle(context, -1.2)\n",
        "print(context)"
      ],
      "execution_count": null,
      "outputs": [
        {
          "output_type": "stream",
          "text": [
            "::_ Context\n",
            "------------\n",
            "Time: 0\n",
            "States:\n",
            "  1 discrete state groups with\n",
            "     14 states\n",
            "       -1.57   0.1     0  -1.2     0   1.6     0     0     0     0     0     0     0     0\n",
            "\n",
            "Parameters:\n",
            "  9 numeric parameter groups with\n",
            "     10 parameters\n",
            "       nan nan nan nan nan nan nan nan nan nan\n",
            "     10 parameters\n",
            "            5   -0.1      0   0.07 0.0149 0.0269  0.016      0  0.007      0\n",
            "     10 parameters\n",
            "             5.76          0      -0.03       0.12  0.0210292  0.0201812 0.00303542          0          0     0.0036\n",
            "     10 parameters\n",
            "             6.35     0.0003      0.059      0.042  0.0100481 0.00655149 0.00521337  -1.77e-05  -1.26e-05  -0.002478\n",
            "     10 parameters\n",
            "              3.5          0       0.03       0.13  0.0249429     0.0237 0.00307143          0          0    -0.0039\n",
            "     10 parameters\n",
            "              3.5          0      0.067      0.034  0.0105021 0.00584171 0.00620329          0          0  -0.002278\n",
            "     10 parameters\n",
            "              3.5     0.0001      0.021      0.076 0.00907414 0.00826172 0.00172387   -2.1e-06   -7.6e-06  -0.001596\n",
            "     10 parameters\n",
            "              1.8          0     0.0006     0.0004 0.00272274 0.00261127 0.00200036          0          0   -2.4e-07\n",
            "     10 parameters\n",
            "               1.2           0           0        0.02  0.00123333  0.00123333 0.000833333           0           0           0\n",
            "\n"
          ],
          "name": "stdout"
        }
      ]
    },
    {
      "cell_type": "markdown",
      "metadata": {
        "id": "LpQlGh1Ai27g"
      },
      "source": [
        "The iiwa model also defined 7 actuators.  Before we can run a simulation, we need to provide some values for those inputs to the `MultibodyPlant` `actuation_input_port`.  For this warm-up, we'll just set them to zero."
      ]
    },
    {
      "cell_type": "code",
      "metadata": {
        "id": "dJx-KrGUjR8x"
      },
      "source": [
        "plant.get_actuation_input_port().FixValue(context, np.zeros(7));"
      ],
      "execution_count": null,
      "outputs": []
    },
    {
      "cell_type": "markdown",
      "metadata": {
        "id": "zqb66IBcierZ"
      },
      "source": [
        "Now we can set up and run a simulation."
      ]
    },
    {
      "cell_type": "code",
      "metadata": {
        "id": "6DYEtGbtimit",
        "outputId": "be08a313-38cb-4b95-e398-35e49b7f3bb2",
        "colab": {
          "base_uri": "https://localhost:8080/"
        }
      },
      "source": [
        "simulator = Simulator(plant, context)\n",
        "simulator.AdvanceTo(5.0)\n",
        "print(context)"
      ],
      "execution_count": null,
      "outputs": [
        {
          "output_type": "stream",
          "text": [
            "::_ Context\n",
            "------------\n",
            "Time: 5\n",
            "States:\n",
            "  1 discrete state groups with\n",
            "     14 states\n",
            "          -1.53093     2.09596  -0.0164211   -0.689524     2.92046    0.808647   -0.267658   -0.105249 -0.00676799    0.221191     4.05478   -0.934069     3.10075     7.11648\n",
            "\n",
            "Parameters:\n",
            "  9 numeric parameter groups with\n",
            "     10 parameters\n",
            "       nan nan nan nan nan nan nan nan nan nan\n",
            "     10 parameters\n",
            "            5   -0.1      0   0.07 0.0149 0.0269  0.016      0  0.007      0\n",
            "     10 parameters\n",
            "             5.76          0      -0.03       0.12  0.0210292  0.0201812 0.00303542          0          0     0.0036\n",
            "     10 parameters\n",
            "             6.35     0.0003      0.059      0.042  0.0100481 0.00655149 0.00521337  -1.77e-05  -1.26e-05  -0.002478\n",
            "     10 parameters\n",
            "              3.5          0       0.03       0.13  0.0249429     0.0237 0.00307143          0          0    -0.0039\n",
            "     10 parameters\n",
            "              3.5          0      0.067      0.034  0.0105021 0.00584171 0.00620329          0          0  -0.002278\n",
            "     10 parameters\n",
            "              3.5     0.0001      0.021      0.076 0.00907414 0.00826172 0.00172387   -2.1e-06   -7.6e-06  -0.001596\n",
            "     10 parameters\n",
            "              1.8          0     0.0006     0.0004 0.00272274 0.00261127 0.00200036          0          0   -2.4e-07\n",
            "     10 parameters\n",
            "               1.2           0           0        0.02  0.00123333  0.00123333 0.000833333           0           0           0\n",
            "\n"
          ],
          "name": "stdout"
        }
      ]
    },
    {
      "cell_type": "markdown",
      "metadata": {
        "id": "8ZKEl1QU1Dh9"
      },
      "source": [
        "# Visualizing the scene\n",
        "\n",
        "The best way to visualize the results of a physics engine is with a 2D or 3D visualizer. For that, we need to add the system which curates the geometry of a scene (the geometry engine); in Drake with call it the [`SceneGraph`](https://drake.mit.edu/doxygen_cxx/classdrake_1_1geometry_1_1_scene_graph.html). Once we have a `SceneGraph`, then there are a number of different visualizers and sensors that we can add to the system to actually render the scene.\n",
        "\n",
        "We support a number of visualizers in drake (we ship a simple VTK-based \"drake-visualizer\" with our binary releases, or you can use RViz).  But because we're working in a jupyter notebook, and want you to be able to run 3D graphics on any machine without any installation required, we'll use the [MeshCat](https://github.com/rdeits/meshcat) visualizer throughout these notes.  \n",
        "\n",
        "To use all three systems (`MultibodyPlant`, `SceneGraph`, and `MeshcatVisualizer`), we need to assemble them into a [`Diagram`](https://drake.mit.edu/doxygen_cxx/classdrake_1_1systems_1_1_diagram.html) using a [`DiagramBuilder`](https://drake.mit.edu/doxygen_cxx/classdrake_1_1systems_1_1_diagram_builder.html).  Often you would add each system and then connect the ports together, but for common cases like we have here, we provide helper methods to reduce the boilerplate."
      ]
    },
    {
      "cell_type": "code",
      "metadata": {
        "id": "WkfjAgrL1Dh-",
        "outputId": "3b29ca0b-3d7d-471d-85ed-e1041e557135",
        "colab": {
          "base_uri": "https://localhost:8080/"
        }
      },
      "source": [
        "builder = DiagramBuilder()\n",
        "\n",
        "# Adds both MultibodyPlant and the SceneGraph, and wires them together.\n",
        "plant, scene_graph = AddMultibodyPlantSceneGraph(builder, time_step=1e-4)\n",
        "# Note that we parse into both the plant and the scene_graph here.\n",
        "Parser(plant, scene_graph).AddModelFromFile(\n",
        "        FindResourceOrThrow(\"drake/manipulation/models/iiwa_description/sdf/iiwa14_no_collision.sdf\"))\n",
        "plant.WeldFrames(plant.world_frame(), plant.GetFrameByName(\"iiwa_link_0\"))\n",
        "plant.Finalize()\n",
        "\n",
        "# Adds the MeshcatVisualizer and wires it to the SceneGraph.\n",
        "meshcat = ConnectMeshcatVisualizer(builder, scene_graph, zmq_url=zmq_url)\n",
        "\n",
        "diagram = builder.Build()"
      ],
      "execution_count": null,
      "outputs": [
        {
          "output_type": "stream",
          "text": [
            "Connecting to meshcat-server at zmq_url=tcp://127.0.0.1:6000...\n",
            "You can open the visualizer by visiting the following URL:\n",
            "http://95385f1d8fb2.ngrok.io/static/\n",
            "Connected to meshcat-server.\n"
          ],
          "name": "stdout"
        }
      ]
    },
    {
      "cell_type": "markdown",
      "metadata": {
        "id": "Rm4kVRMS1DiF"
      },
      "source": [
        "If you click on the link above, you can open a browser window to see the visualization.\n",
        "\n",
        "But the scene will be empty so far.  We need to actually construct the diagram and ask it to publish.  (You normally don't have to call these; MeshcatVisualizer will automatically load at initialization and publish on a fixed period during simulation)."
      ]
    },
    {
      "cell_type": "code",
      "metadata": {
        "id": "2YMNZBi11DiN"
      },
      "source": [
        "context = diagram.CreateDefaultContext()\n",
        "meshcat.load()\n",
        "diagram.Publish(context)"
      ],
      "execution_count": null,
      "outputs": []
    },
    {
      "cell_type": "markdown",
      "metadata": {
        "id": "kPcyp3zv1Dir"
      },
      "source": [
        "We've put together quite a complex system now.  A `Diagram` is just another `System`, so it has an associated context."
      ]
    },
    {
      "cell_type": "code",
      "metadata": {
        "id": "Kr9BgEkcCQaZ"
      },
      "source": [
        "print(context)"
      ],
      "execution_count": null,
      "outputs": []
    },
    {
      "cell_type": "markdown",
      "metadata": {
        "id": "gu6_NRm_Cl-O"
      },
      "source": [
        "You can see that there is one additional \"abstract state\" from the `SceneGraph`.  `MeshcatVisualizer` is stateless.  Actually `SceneGraph` should really be stateless for these simple examples, too [#9501](https://github.com/RobotLocomotion/drake/issues/9501).\n",
        "\n",
        "It's also very useful to draw the actual block diagram."
      ]
    },
    {
      "cell_type": "code",
      "metadata": {
        "id": "XTeyZc7n1Dit",
        "outputId": "8840bedf-101c-4236-9acf-647c3d841dbd",
        "colab": {
          "base_uri": "https://localhost:8080/",
          "height": 701
        }
      },
      "source": [
        "SVG(pydot.graph_from_dot_data(diagram.GetGraphvizString())[0].create_svg())"
      ],
      "execution_count": null,
      "outputs": [
        {
          "output_type": "execute_result",
          "data": {
            "text/plain": [
              "<IPython.core.display.SVG object>"
            ],
            "image/svg+xml": "<svg height=\"495pt\" viewBox=\"0.00 0.00 1154.00 495.00\" width=\"1154pt\" xmlns=\"http://www.w3.org/2000/svg\" xmlns:xlink=\"http://www.w3.org/1999/xlink\">\n<g class=\"graph\" id=\"graph0\" transform=\"scale(1 1) rotate(0) translate(4 491)\">\n<title>_72247936</title>\n<polygon fill=\"#ffffff\" points=\"-4,4 -4,-491 1150,-491 1150,4 -4,4\" stroke=\"transparent\"/>\n<g class=\"cluster\" id=\"clust1\">\n<title>cluster72247936diagram</title>\n<polygon fill=\"none\" points=\"8,-8 8,-479 1138,-479 1138,-8 8,-8\" stroke=\"#000000\"/>\n<text fill=\"#000000\" font-family=\"Times,serif\" font-size=\"14.00\" text-anchor=\"middle\" x=\"573\" y=\"-463.8\">72247936</text>\n</g>\n<g class=\"cluster\" id=\"clust4\">\n<title>cluster72247936subsystems</title>\n<polygon fill=\"none\" points=\"16,-16 16,-448 1130,-448 1130,-16 16,-16\" stroke=\"#ffffff\"/>\n</g>\n<!-- 73404416 -->\n<g class=\"node\" id=\"node1\">\n<title>73404416</title>\n<polygon fill=\"none\" points=\"24,-25 24,-439 655,-439 655,-25 24,-25\" stroke=\"#000000\"/>\n<text fill=\"#000000\" font-family=\"Times,serif\" font-size=\"14.00\" text-anchor=\"middle\" x=\"339.5\" y=\"-423.8\">plant</text>\n<polyline fill=\"none\" points=\"24,-416 655,-416 \" stroke=\"#000000\"/>\n<text fill=\"#000000\" font-family=\"Times,serif\" font-size=\"14.00\" text-anchor=\"middle\" x=\"149.5\" y=\"-379.8\">geometry_query</text>\n<polyline fill=\"none\" points=\"24,-351 275,-351 \" stroke=\"#000000\"/>\n<text fill=\"#000000\" font-family=\"Times,serif\" font-size=\"14.00\" text-anchor=\"middle\" x=\"149.5\" y=\"-314.8\">WorldModelInstance_actuation</text>\n<polyline fill=\"none\" points=\"24,-286 275,-286 \" stroke=\"#000000\"/>\n<text fill=\"#000000\" font-family=\"Times,serif\" font-size=\"14.00\" text-anchor=\"middle\" x=\"149.5\" y=\"-249.8\">DefaultModelInstance_actuation</text>\n<polyline fill=\"none\" points=\"24,-221 275,-221 \" stroke=\"#000000\"/>\n<text fill=\"#000000\" font-family=\"Times,serif\" font-size=\"14.00\" text-anchor=\"middle\" x=\"149.5\" y=\"-184.8\">iiwa14_actuation</text>\n<polyline fill=\"none\" points=\"24,-156 275,-156 \" stroke=\"#000000\"/>\n<text fill=\"#000000\" font-family=\"Times,serif\" font-size=\"14.00\" text-anchor=\"middle\" x=\"149.5\" y=\"-119.8\">applied_generalized_force</text>\n<polyline fill=\"none\" points=\"24,-91 275,-91 \" stroke=\"#000000\"/>\n<text fill=\"#000000\" font-family=\"Times,serif\" font-size=\"14.00\" text-anchor=\"middle\" x=\"149.5\" y=\"-54.3\">applied_spatial_force</text>\n<polyline fill=\"none\" points=\"275,-25 275,-416 \" stroke=\"#000000\"/>\n<text fill=\"#000000\" font-family=\"Times,serif\" font-size=\"14.00\" text-anchor=\"middle\" x=\"465\" y=\"-400.8\">geometry_pose</text>\n<polyline fill=\"none\" points=\"275,-393 655,-393 \" stroke=\"#000000\"/>\n<text fill=\"#000000\" font-family=\"Times,serif\" font-size=\"14.00\" text-anchor=\"middle\" x=\"465\" y=\"-377.8\">continuous_state</text>\n<polyline fill=\"none\" points=\"275,-370 655,-370 \" stroke=\"#000000\"/>\n<text fill=\"#000000\" font-family=\"Times,serif\" font-size=\"14.00\" text-anchor=\"middle\" x=\"465\" y=\"-354.8\">body_poses</text>\n<polyline fill=\"none\" points=\"275,-347 655,-347 \" stroke=\"#000000\"/>\n<text fill=\"#000000\" font-family=\"Times,serif\" font-size=\"14.00\" text-anchor=\"middle\" x=\"465\" y=\"-331.8\">spatial_velocities</text>\n<polyline fill=\"none\" points=\"275,-324 655,-324 \" stroke=\"#000000\"/>\n<text fill=\"#000000\" font-family=\"Times,serif\" font-size=\"14.00\" text-anchor=\"middle\" x=\"465\" y=\"-308.8\">spatial_accelerations</text>\n<polyline fill=\"none\" points=\"275,-301 655,-301 \" stroke=\"#000000\"/>\n<text fill=\"#000000\" font-family=\"Times,serif\" font-size=\"14.00\" text-anchor=\"middle\" x=\"465\" y=\"-285.8\">generalized_acceleration</text>\n<polyline fill=\"none\" points=\"275,-278 655,-278 \" stroke=\"#000000\"/>\n<text fill=\"#000000\" font-family=\"Times,serif\" font-size=\"14.00\" text-anchor=\"middle\" x=\"465\" y=\"-262.8\">WorldModelInstance_continuous_state</text>\n<polyline fill=\"none\" points=\"275,-255 655,-255 \" stroke=\"#000000\"/>\n<text fill=\"#000000\" font-family=\"Times,serif\" font-size=\"14.00\" text-anchor=\"middle\" x=\"465\" y=\"-239.8\">WorldModelInstance_generalized_acceleration</text>\n<polyline fill=\"none\" points=\"275,-232 655,-232 \" stroke=\"#000000\"/>\n<text fill=\"#000000\" font-family=\"Times,serif\" font-size=\"14.00\" text-anchor=\"middle\" x=\"465\" y=\"-216.8\">DefaultModelInstance_continuous_state</text>\n<polyline fill=\"none\" points=\"275,-209 655,-209 \" stroke=\"#000000\"/>\n<text fill=\"#000000\" font-family=\"Times,serif\" font-size=\"14.00\" text-anchor=\"middle\" x=\"465\" y=\"-193.8\">DefaultModelInstance_generalized_acceleration</text>\n<polyline fill=\"none\" points=\"275,-186 655,-186 \" stroke=\"#000000\"/>\n<text fill=\"#000000\" font-family=\"Times,serif\" font-size=\"14.00\" text-anchor=\"middle\" x=\"465\" y=\"-170.8\">iiwa14_continuous_state</text>\n<polyline fill=\"none\" points=\"275,-163 655,-163 \" stroke=\"#000000\"/>\n<text fill=\"#000000\" font-family=\"Times,serif\" font-size=\"14.00\" text-anchor=\"middle\" x=\"465\" y=\"-147.8\">iiwa14_generalized_acceleration</text>\n<polyline fill=\"none\" points=\"275,-140 655,-140 \" stroke=\"#000000\"/>\n<text fill=\"#000000\" font-family=\"Times,serif\" font-size=\"14.00\" text-anchor=\"middle\" x=\"465\" y=\"-124.8\">WorldModelInstance_generalized_contact_forces</text>\n<polyline fill=\"none\" points=\"275,-117 655,-117 \" stroke=\"#000000\"/>\n<text fill=\"#000000\" font-family=\"Times,serif\" font-size=\"14.00\" text-anchor=\"middle\" x=\"465\" y=\"-101.8\">DefaultModelInstance_generalized_contact_forces</text>\n<polyline fill=\"none\" points=\"275,-94 655,-94 \" stroke=\"#000000\"/>\n<text fill=\"#000000\" font-family=\"Times,serif\" font-size=\"14.00\" text-anchor=\"middle\" x=\"465\" y=\"-78.8\">iiwa14_generalized_contact_forces</text>\n<polyline fill=\"none\" points=\"275,-71 655,-71 \" stroke=\"#000000\"/>\n<text fill=\"#000000\" font-family=\"Times,serif\" font-size=\"14.00\" text-anchor=\"middle\" x=\"465\" y=\"-55.8\">reaction_forces</text>\n<polyline fill=\"none\" points=\"275,-48 655,-48 \" stroke=\"#000000\"/>\n<text fill=\"#000000\" font-family=\"Times,serif\" font-size=\"14.00\" text-anchor=\"middle\" x=\"465\" y=\"-32.8\">contact_results</text>\n</g>\n<!-- 54065408 -->\n<g class=\"node\" id=\"node2\">\n<title>54065408</title>\n<polygon fill=\"none\" points=\"691,-370.5 691,-439.5 925,-439.5 925,-370.5 691,-370.5\" stroke=\"#000000\"/>\n<text fill=\"#000000\" font-family=\"Times,serif\" font-size=\"14.00\" text-anchor=\"middle\" x=\"808\" y=\"-424.3\">scene_graph</text>\n<polyline fill=\"none\" points=\"691,-416.5 925,-416.5 \" stroke=\"#000000\"/>\n<text fill=\"#000000\" font-family=\"Times,serif\" font-size=\"14.00\" text-anchor=\"middle\" x=\"738\" y=\"-389.8\">plant_pose</text>\n<polyline fill=\"none\" points=\"785,-370.5 785,-416.5 \" stroke=\"#000000\"/>\n<text fill=\"#000000\" font-family=\"Times,serif\" font-size=\"14.00\" text-anchor=\"middle\" x=\"855\" y=\"-401.3\">lcm_visualization</text>\n<polyline fill=\"none\" points=\"785,-393.5 925,-393.5 \" stroke=\"#000000\"/>\n<text fill=\"#000000\" font-family=\"Times,serif\" font-size=\"14.00\" text-anchor=\"middle\" x=\"855\" y=\"-378.3\">query</text>\n</g>\n<!-- 73404416&#45;&gt;54065408 -->\n<g class=\"edge\" id=\"edge1\">\n<title>73404416:y0-&gt;54065408:u0</title>\n<path d=\"M655,-405C667.7809,-405 672.1793,-398.1086 680.8999,-394.7706\" fill=\"none\" stroke=\"#000000\"/>\n<polygon fill=\"#000000\" points=\"681.7546,-398.1743 691,-393 680.5458,-391.2794 681.7546,-398.1743\" stroke=\"#000000\"/>\n</g>\n<!-- 54065408&#45;&gt;73404416 -->\n<g class=\"edge\" id=\"edge2\">\n<title>54065408:y1-&gt;73404416:u0</title>\n<path d=\"M855,-370C855,-297.1111 753.2751,-332.1239 691,-370 661.2787,-388.0767 684.7213,-421.4233 655,-439.5 655,-439.5 114.901,-392.0329 33.6751,-384.8943\" fill=\"none\" stroke=\"#000000\"/>\n<polygon fill=\"#000000\" points=\"33.7681,-381.389 23.5,-384 33.1552,-388.3621 33.7681,-381.389\" stroke=\"#000000\"/>\n</g>\n<!-- 86792640 -->\n<g class=\"node\" id=\"node3\">\n<title>86792640</title>\n<polygon fill=\"none\" points=\"961,-394 961,-440 1122,-440 1122,-394 961,-394\" stroke=\"#000000\"/>\n<text fill=\"#000000\" font-family=\"Times,serif\" font-size=\"14.00\" text-anchor=\"middle\" x=\"1041.5\" y=\"-424.8\">meshcat_visualizer</text>\n<polyline fill=\"none\" points=\"961,-417 1122,-417 \" stroke=\"#000000\"/>\n<text fill=\"#000000\" font-family=\"Times,serif\" font-size=\"14.00\" text-anchor=\"middle\" x=\"1031\" y=\"-401.8\">lcm_visualization</text>\n<polyline fill=\"none\" points=\"1101,-394 1101,-417 \" stroke=\"#000000\"/>\n<text fill=\"#000000\" font-family=\"Times,serif\" font-size=\"14.00\" text-anchor=\"middle\" x=\"1111.5\" y=\"-401.8\"> </text>\n</g>\n<!-- 54065408&#45;&gt;86792640 -->\n<g class=\"edge\" id=\"edge3\">\n<title>54065408:y0-&gt;86792640:u0</title>\n<path d=\"M925,-405C937,-405 942.25,-405 950.875,-405\" fill=\"none\" stroke=\"#000000\"/>\n<polygon fill=\"#000000\" points=\"951,-408.5001 961,-405 951,-401.5001 951,-408.5001\" stroke=\"#000000\"/>\n</g>\n</g>\n</svg>"
          },
          "metadata": {
            "tags": []
          },
          "execution_count": 12
        }
      ]
    },
    {
      "cell_type": "markdown",
      "metadata": {
        "id": "5OwrpdeGE5aa"
      },
      "source": [
        "There is one more important detail: **The `Context` for the `Diagram` is not the `Context` of the `MultibodyPlant`.  But you can extract the plant `Context`; and we need to in order to set the initial conditions of the robot."
      ]
    },
    {
      "cell_type": "code",
      "metadata": {
        "id": "aA5dasXyFWXo",
        "outputId": "f9351807-b989-40cb-a203-be877110de83",
        "colab": {
          "base_uri": "https://localhost:8080/"
        }
      },
      "source": [
        "plant_context = plant.GetMyMutableContextFromRoot(context)\n",
        "plant.SetPositions(plant_context, [-1.57, 0.1, 0, -1.2, 0, 1.6, 0])\n",
        "plant.get_actuation_input_port().FixValue(plant_context, np.zeros(7))\n",
        "print(context)"
      ],
      "execution_count": null,
      "outputs": [
        {
          "output_type": "stream",
          "text": [
            "::_ Context (of a Diagram)\n",
            "---------------------------\n",
            "14 total discrete states in 1 groups\n",
            "1 total abstract states\n",
            "90 total numeric parameters in 9 groups\n",
            "\n",
            "::_::plant Context\n",
            "-------------------\n",
            "Time: 0\n",
            "States:\n",
            "  1 discrete state groups with\n",
            "     14 states\n",
            "       -1.57   0.1     0  -1.2     0   1.6     0     0     0     0     0     0     0     0\n",
            "\n",
            "Parameters:\n",
            "  9 numeric parameter groups with\n",
            "     10 parameters\n",
            "       nan nan nan nan nan nan nan nan nan nan\n",
            "     10 parameters\n",
            "            5   -0.1      0   0.07 0.0149 0.0269  0.016      0  0.007      0\n",
            "     10 parameters\n",
            "             5.76          0      -0.03       0.12  0.0210292  0.0201812 0.00303542          0          0     0.0036\n",
            "     10 parameters\n",
            "             6.35     0.0003      0.059      0.042  0.0100481 0.00655149 0.00521337  -1.77e-05  -1.26e-05  -0.002478\n",
            "     10 parameters\n",
            "              3.5          0       0.03       0.13  0.0249429     0.0237 0.00307143          0          0    -0.0039\n",
            "     10 parameters\n",
            "              3.5          0      0.067      0.034  0.0105021 0.00584171 0.00620329          0          0  -0.002278\n",
            "     10 parameters\n",
            "              3.5     0.0001      0.021      0.076 0.00907414 0.00826172 0.00172387   -2.1e-06   -7.6e-06  -0.001596\n",
            "     10 parameters\n",
            "              1.8          0     0.0006     0.0004 0.00272274 0.00261127 0.00200036          0          0   -2.4e-07\n",
            "     10 parameters\n",
            "               1.2           0           0        0.02  0.00123333  0.00123333 0.000833333           0           0           0\n",
            "\n",
            "::_::scene_graph Context\n",
            "-------------------------\n",
            "Time: 0\n",
            "States:\n",
            "  1 abstract states\n",
            "\n",
            "\n"
          ],
          "name": "stdout"
        }
      ]
    },
    {
      "cell_type": "markdown",
      "metadata": {
        "id": "Js2ulEaFF0yD"
      },
      "source": [
        "Accidentally using `context` instead of `plant_context` is a very common mistake!\n",
        "\n",
        "Ok, now we're ready to simulate.  Make sure your visualizer window is visible, then run the following cell."
      ]
    },
    {
      "cell_type": "code",
      "metadata": {
        "id": "ZySlXAKSGLaS",
        "outputId": "e26ac0ad-b89a-4f9a-e7b5-376a0e216415",
        "colab": {
          "base_uri": "https://localhost:8080/",
          "height": 215
        }
      },
      "source": [
        "simulator = Simulator(diagram, context)\n",
        "simulator.set_target_realtime_rate(1.0)\n",
        "simulator.AdvanceTo(5.0 if running_as_notebook else 0.1)"
      ],
      "execution_count": null,
      "outputs": [
        {
          "output_type": "error",
          "ename": "RuntimeError",
          "evalue": "ignored",
          "traceback": [
            "\u001b[0;31m---------------------------------------------------------------------------\u001b[0m",
            "\u001b[0;31mRuntimeError\u001b[0m                              Traceback (most recent call last)",
            "\u001b[0;32m<ipython-input-16-61e5c88cb612>\u001b[0m in \u001b[0;36m<module>\u001b[0;34m()\u001b[0m\n\u001b[0;32m----> 1\u001b[0;31m \u001b[0msimulator\u001b[0m \u001b[0;34m=\u001b[0m \u001b[0mSimulator\u001b[0m\u001b[0;34m(\u001b[0m\u001b[0mdiagram\u001b[0m\u001b[0;34m,\u001b[0m \u001b[0mcontext\u001b[0m\u001b[0;34m)\u001b[0m\u001b[0;34m\u001b[0m\u001b[0;34m\u001b[0m\u001b[0m\n\u001b[0m\u001b[1;32m      2\u001b[0m \u001b[0msimulator\u001b[0m\u001b[0;34m.\u001b[0m\u001b[0mset_target_realtime_rate\u001b[0m\u001b[0;34m(\u001b[0m\u001b[0;36m1.0\u001b[0m\u001b[0;34m)\u001b[0m\u001b[0;34m\u001b[0m\u001b[0;34m\u001b[0m\u001b[0m\n\u001b[1;32m      3\u001b[0m \u001b[0msimulator\u001b[0m\u001b[0;34m.\u001b[0m\u001b[0mAdvanceTo\u001b[0m\u001b[0;34m(\u001b[0m\u001b[0;36m5.0\u001b[0m \u001b[0;32mif\u001b[0m \u001b[0mrunning_as_notebook\u001b[0m \u001b[0;32melse\u001b[0m \u001b[0;36m0.1\u001b[0m\u001b[0;34m)\u001b[0m\u001b[0;34m\u001b[0m\u001b[0;34m\u001b[0m\u001b[0m\n",
            "\u001b[0;31mRuntimeError\u001b[0m: C++ object must be owned by pybind11 when attempting to release to C++"
          ]
        }
      ]
    },
    {
      "cell_type": "markdown",
      "metadata": {
        "id": "Fdkx17YxGPSz"
      },
      "source": [
        "Glorious!\n",
        "\n",
        "Here's one more trick.  You can ask MeshCat to record the animation, and then review it in the visualizer.  I'll repeat the preamble here to make this cell stand-alone.  (Plus we cannot reuse a system in multiple diagrams; the ownership is restricted)."
      ]
    },
    {
      "cell_type": "code",
      "metadata": {
        "id": "HUeu3reLWw_H",
        "outputId": "7f1d5210-162e-4974-a49c-cd5b6c2d8046",
        "colab": {
          "base_uri": "https://localhost:8080/"
        }
      },
      "source": [
        "builder = DiagramBuilder()\n",
        "\n",
        "# Adds both MultibodyPlant and the SceneGraph, and wires them together.\n",
        "plant, scene_graph = AddMultibodyPlantSceneGraph(builder, time_step=1e-4)\n",
        "# Note that we parse into both the plant and the scene_graph here.\n",
        "Parser(plant, scene_graph).AddModelFromFile(\n",
        "        FindResourceOrThrow(\"drake/manipulation/models/iiwa_description/sdf/iiwa14_no_collision.sdf\"))\n",
        "plant.WeldFrames(plant.world_frame(), plant.GetFrameByName(\"iiwa_link_0\"))\n",
        "plant.Finalize()\n",
        "\n",
        "# Adds the MeshcatVisualizer and wires it to the SceneGraph.\n",
        "meshcat = ConnectMeshcatVisualizer(builder, scene_graph, zmq_url=zmq_url, delete_prefix_on_load=False)\n",
        "\n",
        "diagram = builder.Build()\n",
        "context = diagram.CreateDefaultContext()\n",
        "plant_context = plant.GetMyMutableContextFromRoot(context)\n",
        "plant.SetPositions(plant_context, [-1.57, 0.1, 0, -1.2, 0, 1.6, 0])\n",
        "plant.get_actuation_input_port().FixValue(plant_context, np.zeros(7))\n",
        "\n",
        "simulator = Simulator(diagram, context)\n",
        "simulator.set_target_realtime_rate(1.0)\n",
        "\n",
        "meshcat.start_recording()\n",
        "simulator.AdvanceTo(5.0 if running_as_notebook else 0.1)\n",
        "meshcat.stop_recording()\n",
        "meshcat.publish_recording()"
      ],
      "execution_count": null,
      "outputs": [
        {
          "output_type": "stream",
          "text": [
            "Connecting to meshcat-server at zmq_url=tcp://127.0.0.1:6000...\n",
            "You can open the visualizer by visiting the following URL:\n",
            "http://95385f1d8fb2.ngrok.io/static/\n",
            "Connected to meshcat-server.\n"
          ],
          "name": "stdout"
        }
      ]
    },
    {
      "cell_type": "markdown",
      "metadata": {
        "id": "8SPr8dXoY3IT"
      },
      "source": [
        "# Adding the iiwa controller\n",
        "\n",
        "The iiwa hardware interface runs through a control system provided by the manufacturer.  We can't turn it off.  The best we can do is add our approximation of it to our simulation.  I'll repeat everything we've set up before (to keep this example self-contained), but we'll add one more system for the controller."
      ]
    },
    {
      "cell_type": "code",
      "metadata": {
        "id": "Qd245P5kY666",
        "outputId": "2422f4e9-a091-4b99-8c5e-2778dff2c3f7",
        "colab": {
          "base_uri": "https://localhost:8080/"
        }
      },
      "source": [
        "builder = DiagramBuilder()\n",
        "\n",
        "# Adds both MultibodyPlant and the SceneGraph, and wires them together.\n",
        "plant, scene_graph = AddMultibodyPlantSceneGraph(builder, time_step=1e-4)\n",
        "# Note that we parse into both the plant and the scene_graph here.\n",
        "iiwa_model = Parser(plant, scene_graph).AddModelFromFile(\n",
        "        FindResourceOrThrow(\"drake/manipulation/models/iiwa_description/sdf/iiwa14_no_collision.sdf\"))\n",
        "plant.WeldFrames(plant.world_frame(), plant.GetFrameByName(\"iiwa_link_0\"))\n",
        "plant.Finalize()\n",
        "\n",
        "# Adds the MeshcatVisualizer and wires it to the SceneGraph.\n",
        "meshcat = ConnectMeshcatVisualizer(builder, scene_graph, zmq_url=zmq_url, delete_prefix_on_load=False)\n",
        "\n",
        "# Adds an approximation of the iiwa controller.\n",
        "# TODO(russt): replace this with the joint impedance controller.\n",
        "Kp = np.full(7, 100)\n",
        "Ki = 2 * np.sqrt(Kp)\n",
        "Kd = np.full(7, 1)\n",
        "iiwa_controller = builder.AddSystem(InverseDynamicsController(plant, Kp, Ki, Kd, False))\n",
        "iiwa_controller.set_name(\"iiwa_controller\");\n",
        "builder.Connect(plant.get_state_output_port(iiwa_model),\n",
        "                iiwa_controller.get_input_port_estimated_state())\n",
        "builder.Connect(iiwa_controller.get_output_port_control(),\n",
        "                plant.get_actuation_input_port())\n",
        "diagram = builder.Build()"
      ],
      "execution_count": null,
      "outputs": [
        {
          "output_type": "stream",
          "text": [
            "Connecting to meshcat-server at zmq_url=tcp://127.0.0.1:6000...\n",
            "You can open the visualizer by visiting the following URL:\n",
            "http://95385f1d8fb2.ngrok.io/static/\n",
            "Connected to meshcat-server.\n"
          ],
          "name": "stdout"
        }
      ]
    },
    {
      "cell_type": "markdown",
      "metadata": {
        "id": "SwmwcTcOX-pm"
      },
      "source": [
        "Let's see what our diagram looks like..."
      ]
    },
    {
      "cell_type": "code",
      "metadata": {
        "id": "1SMxPMvdxk99",
        "outputId": "0194c805-d272-48ce-a7a1-4fa823bcaec0",
        "colab": {
          "base_uri": "https://localhost:8080/",
          "height": 701
        }
      },
      "source": [
        "SVG(pydot.graph_from_dot_data(diagram.GetGraphvizString())[0].create_svg())"
      ],
      "execution_count": null,
      "outputs": [
        {
          "output_type": "execute_result",
          "data": {
            "text/plain": [
              "<IPython.core.display.SVG object>"
            ],
            "image/svg+xml": "<svg height=\"495pt\" viewBox=\"0.00 0.00 3337.18 495.00\" width=\"3337pt\" xmlns=\"http://www.w3.org/2000/svg\" xmlns:xlink=\"http://www.w3.org/1999/xlink\">\n<g class=\"graph\" id=\"graph0\" transform=\"scale(1 1) rotate(0) translate(4 491)\">\n<title>_79069312</title>\n<polygon fill=\"#ffffff\" points=\"-4,4 -4,-491 3333.1788,-491 3333.1788,4 -4,4\" stroke=\"transparent\"/>\n<g class=\"cluster\" id=\"clust1\">\n<title>cluster79069312diagram</title>\n<polygon fill=\"none\" points=\"8,-8 8,-479 3321.1788,-479 3321.1788,-8 8,-8\" stroke=\"#000000\"/>\n<text fill=\"#000000\" font-family=\"Times,serif\" font-size=\"14.00\" text-anchor=\"middle\" x=\"1664.5894\" y=\"-463.8\">79069312</text>\n</g>\n<g class=\"cluster\" id=\"clust4\">\n<title>cluster79069312subsystems</title>\n<polygon fill=\"none\" points=\"16,-16 16,-448 3313.1788,-448 3313.1788,-16 16,-16\" stroke=\"#ffffff\"/>\n</g>\n<g class=\"cluster\" id=\"clust5\">\n<title>cluster85000448diagram</title>\n<polygon fill=\"none\" points=\"24,-71 24,-282 2171.1788,-282 2171.1788,-71 24,-71\" stroke=\"#000000\"/>\n<text fill=\"#000000\" font-family=\"Times,serif\" font-size=\"14.00\" text-anchor=\"middle\" x=\"1097.5894\" y=\"-266.8\">iiwa_controller</text>\n</g>\n<g class=\"cluster\" id=\"clust6\">\n<title>cluster85000448inputports</title>\n<polygon fill=\"#d3d3d3\" points=\"32,-122 32,-251 218.2849,-251 218.2849,-122 32,-122\" stroke=\"#d3d3d3\"/>\n<text fill=\"#000000\" font-family=\"Times,serif\" font-size=\"14.00\" text-anchor=\"middle\" x=\"125.1424\" y=\"-235.8\">input ports</text>\n</g>\n<g class=\"cluster\" id=\"clust7\">\n<title>cluster85000448outputports</title>\n<polygon fill=\"#d3d3d3\" points=\"2057.2849,-150 2057.2849,-225 2163.1788,-225 2163.1788,-150 2057.2849,-150\" stroke=\"#d3d3d3\"/>\n<text fill=\"#000000\" font-family=\"Times,serif\" font-size=\"14.00\" text-anchor=\"middle\" x=\"2110.2318\" y=\"-209.8\">output ports</text>\n</g>\n<g class=\"cluster\" id=\"clust8\">\n<title>cluster85000448subsystems</title>\n<polygon fill=\"none\" points=\"238.2849,-79 238.2849,-251 2013.2849,-251 2013.2849,-79 238.2849,-79\" stroke=\"#ffffff\"/>\n</g>\n<!-- 89280512 -->\n<g class=\"node\" id=\"node1\">\n<title>89280512</title>\n<polygon fill=\"none\" points=\"2207.1788,-25 2207.1788,-439 2838.1788,-439 2838.1788,-25 2207.1788,-25\" stroke=\"#000000\"/>\n<text fill=\"#000000\" font-family=\"Times,serif\" font-size=\"14.00\" text-anchor=\"middle\" x=\"2522.6788\" y=\"-423.8\">plant</text>\n<polyline fill=\"none\" points=\"2207.1788,-416 2838.1788,-416 \" stroke=\"#000000\"/>\n<text fill=\"#000000\" font-family=\"Times,serif\" font-size=\"14.00\" text-anchor=\"middle\" x=\"2332.6788\" y=\"-379.8\">geometry_query</text>\n<polyline fill=\"none\" points=\"2207.1788,-351 2458.1788,-351 \" stroke=\"#000000\"/>\n<text fill=\"#000000\" font-family=\"Times,serif\" font-size=\"14.00\" text-anchor=\"middle\" x=\"2332.6788\" y=\"-314.8\">WorldModelInstance_actuation</text>\n<polyline fill=\"none\" points=\"2207.1788,-286 2458.1788,-286 \" stroke=\"#000000\"/>\n<text fill=\"#000000\" font-family=\"Times,serif\" font-size=\"14.00\" text-anchor=\"middle\" x=\"2332.6788\" y=\"-249.8\">DefaultModelInstance_actuation</text>\n<polyline fill=\"none\" points=\"2207.1788,-221 2458.1788,-221 \" stroke=\"#000000\"/>\n<text fill=\"#000000\" font-family=\"Times,serif\" font-size=\"14.00\" text-anchor=\"middle\" x=\"2332.6788\" y=\"-184.8\">iiwa14_actuation</text>\n<polyline fill=\"none\" points=\"2207.1788,-156 2458.1788,-156 \" stroke=\"#000000\"/>\n<text fill=\"#000000\" font-family=\"Times,serif\" font-size=\"14.00\" text-anchor=\"middle\" x=\"2332.6788\" y=\"-119.8\">applied_generalized_force</text>\n<polyline fill=\"none\" points=\"2207.1788,-91 2458.1788,-91 \" stroke=\"#000000\"/>\n<text fill=\"#000000\" font-family=\"Times,serif\" font-size=\"14.00\" text-anchor=\"middle\" x=\"2332.6788\" y=\"-54.3\">applied_spatial_force</text>\n<polyline fill=\"none\" points=\"2458.1788,-25 2458.1788,-416 \" stroke=\"#000000\"/>\n<text fill=\"#000000\" font-family=\"Times,serif\" font-size=\"14.00\" text-anchor=\"middle\" x=\"2648.1788\" y=\"-400.8\">geometry_pose</text>\n<polyline fill=\"none\" points=\"2458.1788,-393 2838.1788,-393 \" stroke=\"#000000\"/>\n<text fill=\"#000000\" font-family=\"Times,serif\" font-size=\"14.00\" text-anchor=\"middle\" x=\"2648.1788\" y=\"-377.8\">continuous_state</text>\n<polyline fill=\"none\" points=\"2458.1788,-370 2838.1788,-370 \" stroke=\"#000000\"/>\n<text fill=\"#000000\" font-family=\"Times,serif\" font-size=\"14.00\" text-anchor=\"middle\" x=\"2648.1788\" y=\"-354.8\">body_poses</text>\n<polyline fill=\"none\" points=\"2458.1788,-347 2838.1788,-347 \" stroke=\"#000000\"/>\n<text fill=\"#000000\" font-family=\"Times,serif\" font-size=\"14.00\" text-anchor=\"middle\" x=\"2648.1788\" y=\"-331.8\">spatial_velocities</text>\n<polyline fill=\"none\" points=\"2458.1788,-324 2838.1788,-324 \" stroke=\"#000000\"/>\n<text fill=\"#000000\" font-family=\"Times,serif\" font-size=\"14.00\" text-anchor=\"middle\" x=\"2648.1788\" y=\"-308.8\">spatial_accelerations</text>\n<polyline fill=\"none\" points=\"2458.1788,-301 2838.1788,-301 \" stroke=\"#000000\"/>\n<text fill=\"#000000\" font-family=\"Times,serif\" font-size=\"14.00\" text-anchor=\"middle\" x=\"2648.1788\" y=\"-285.8\">generalized_acceleration</text>\n<polyline fill=\"none\" points=\"2458.1788,-278 2838.1788,-278 \" stroke=\"#000000\"/>\n<text fill=\"#000000\" font-family=\"Times,serif\" font-size=\"14.00\" text-anchor=\"middle\" x=\"2648.1788\" y=\"-262.8\">WorldModelInstance_continuous_state</text>\n<polyline fill=\"none\" points=\"2458.1788,-255 2838.1788,-255 \" stroke=\"#000000\"/>\n<text fill=\"#000000\" font-family=\"Times,serif\" font-size=\"14.00\" text-anchor=\"middle\" x=\"2648.1788\" y=\"-239.8\">WorldModelInstance_generalized_acceleration</text>\n<polyline fill=\"none\" points=\"2458.1788,-232 2838.1788,-232 \" stroke=\"#000000\"/>\n<text fill=\"#000000\" font-family=\"Times,serif\" font-size=\"14.00\" text-anchor=\"middle\" x=\"2648.1788\" y=\"-216.8\">DefaultModelInstance_continuous_state</text>\n<polyline fill=\"none\" points=\"2458.1788,-209 2838.1788,-209 \" stroke=\"#000000\"/>\n<text fill=\"#000000\" font-family=\"Times,serif\" font-size=\"14.00\" text-anchor=\"middle\" x=\"2648.1788\" y=\"-193.8\">DefaultModelInstance_generalized_acceleration</text>\n<polyline fill=\"none\" points=\"2458.1788,-186 2838.1788,-186 \" stroke=\"#000000\"/>\n<text fill=\"#000000\" font-family=\"Times,serif\" font-size=\"14.00\" text-anchor=\"middle\" x=\"2648.1788\" y=\"-170.8\">iiwa14_continuous_state</text>\n<polyline fill=\"none\" points=\"2458.1788,-163 2838.1788,-163 \" stroke=\"#000000\"/>\n<text fill=\"#000000\" font-family=\"Times,serif\" font-size=\"14.00\" text-anchor=\"middle\" x=\"2648.1788\" y=\"-147.8\">iiwa14_generalized_acceleration</text>\n<polyline fill=\"none\" points=\"2458.1788,-140 2838.1788,-140 \" stroke=\"#000000\"/>\n<text fill=\"#000000\" font-family=\"Times,serif\" font-size=\"14.00\" text-anchor=\"middle\" x=\"2648.1788\" y=\"-124.8\">WorldModelInstance_generalized_contact_forces</text>\n<polyline fill=\"none\" points=\"2458.1788,-117 2838.1788,-117 \" stroke=\"#000000\"/>\n<text fill=\"#000000\" font-family=\"Times,serif\" font-size=\"14.00\" text-anchor=\"middle\" x=\"2648.1788\" y=\"-101.8\">DefaultModelInstance_generalized_contact_forces</text>\n<polyline fill=\"none\" points=\"2458.1788,-94 2838.1788,-94 \" stroke=\"#000000\"/>\n<text fill=\"#000000\" font-family=\"Times,serif\" font-size=\"14.00\" text-anchor=\"middle\" x=\"2648.1788\" y=\"-78.8\">iiwa14_generalized_contact_forces</text>\n<polyline fill=\"none\" points=\"2458.1788,-71 2838.1788,-71 \" stroke=\"#000000\"/>\n<text fill=\"#000000\" font-family=\"Times,serif\" font-size=\"14.00\" text-anchor=\"middle\" x=\"2648.1788\" y=\"-55.8\">reaction_forces</text>\n<polyline fill=\"none\" points=\"2458.1788,-48 2838.1788,-48 \" stroke=\"#000000\"/>\n<text fill=\"#000000\" font-family=\"Times,serif\" font-size=\"14.00\" text-anchor=\"middle\" x=\"2648.1788\" y=\"-32.8\">contact_results</text>\n</g>\n<!-- 76911104 -->\n<g class=\"node\" id=\"node2\">\n<title>76911104</title>\n<polygon fill=\"none\" points=\"2874.1788,-370.5 2874.1788,-439.5 3108.1788,-439.5 3108.1788,-370.5 2874.1788,-370.5\" stroke=\"#000000\"/>\n<text fill=\"#000000\" font-family=\"Times,serif\" font-size=\"14.00\" text-anchor=\"middle\" x=\"2991.1788\" y=\"-424.3\">scene_graph</text>\n<polyline fill=\"none\" points=\"2874.1788,-416.5 3108.1788,-416.5 \" stroke=\"#000000\"/>\n<text fill=\"#000000\" font-family=\"Times,serif\" font-size=\"14.00\" text-anchor=\"middle\" x=\"2921.1788\" y=\"-389.8\">plant_pose</text>\n<polyline fill=\"none\" points=\"2968.1788,-370.5 2968.1788,-416.5 \" stroke=\"#000000\"/>\n<text fill=\"#000000\" font-family=\"Times,serif\" font-size=\"14.00\" text-anchor=\"middle\" x=\"3038.1788\" y=\"-401.3\">lcm_visualization</text>\n<polyline fill=\"none\" points=\"2968.1788,-393.5 3108.1788,-393.5 \" stroke=\"#000000\"/>\n<text fill=\"#000000\" font-family=\"Times,serif\" font-size=\"14.00\" text-anchor=\"middle\" x=\"3038.1788\" y=\"-378.3\">query</text>\n</g>\n<!-- 89280512&#45;&gt;76911104 -->\n<g class=\"edge\" id=\"edge9\">\n<title>89280512:y0-&gt;76911104:u0</title>\n<path d=\"M2838.1788,-405C2850.9596,-405 2855.3581,-398.1086 2864.0787,-394.7706\" fill=\"none\" stroke=\"#000000\"/>\n<polygon fill=\"#000000\" points=\"2864.9334,-398.1743 2874.1788,-393 2863.7246,-391.2794 2864.9334,-398.1743\" stroke=\"#000000\"/>\n</g>\n<!-- _85000448_u0 -->\n<g class=\"node\" id=\"node4\">\n<title>_85000448_u0</title>\n<ellipse cx=\"125.1424\" cy=\"-202\" fill=\"none\" rx=\"85.2851\" ry=\"18\" stroke=\"#0000ff\"/>\n<text fill=\"#000000\" font-family=\"Times,serif\" font-size=\"14.00\" text-anchor=\"middle\" x=\"125.1424\" y=\"-198.3\">estimated_state</text>\n</g>\n<!-- 89280512&#45;&gt;_85000448_u0 -->\n<g class=\"edge\" id=\"edge10\">\n<title>89280512:y10-&gt;_85000448_u0</title>\n<path d=\"M2838.6788,-174C2838.6788,-174 2207.1788,-24.5 2207.1788,-24.5 2136.4915,-83.8305 2236.7947,-164.1052 2171.1788,-229 2041.0752,-357.6737 1943.7709,-262 1760.7849,-262 890.2849,-262 890.2849,-262 890.2849,-262 600.4904,-262 520.8131,-319.4876 238.2849,-255 211.2693,-248.8336 183.0413,-235.6233 161.5385,-223.9348\" fill=\"none\" stroke=\"#000000\"/>\n<polygon fill=\"#000000\" points=\"163.1972,-220.8524 152.7579,-219.0436 159.7907,-226.9676 163.1972,-220.8524\" stroke=\"#000000\"/>\n</g>\n<!-- 76911104&#45;&gt;89280512 -->\n<g class=\"edge\" id=\"edge12\">\n<title>76911104:y1-&gt;89280512:u0</title>\n<path d=\"M3038.1788,-370C3038.1788,-297.1111 2936.4539,-332.1239 2874.1788,-370 2844.4575,-388.0767 2867.9001,-421.4233 2838.1788,-439.5 2838.1788,-439.5 2298.0797,-392.0329 2216.8539,-384.8943\" fill=\"none\" stroke=\"#000000\"/>\n<polygon fill=\"#000000\" points=\"2216.9468,-381.389 2206.6788,-384 2216.3339,-388.3621 2216.9468,-381.389\" stroke=\"#000000\"/>\n</g>\n<!-- 85005376 -->\n<g class=\"node\" id=\"node3\">\n<title>85005376</title>\n<polygon fill=\"none\" points=\"3144.1788,-394 3144.1788,-440 3305.1788,-440 3305.1788,-394 3144.1788,-394\" stroke=\"#000000\"/>\n<text fill=\"#000000\" font-family=\"Times,serif\" font-size=\"14.00\" text-anchor=\"middle\" x=\"3224.6788\" y=\"-424.8\">meshcat_visualizer</text>\n<polyline fill=\"none\" points=\"3144.1788,-417 3305.1788,-417 \" stroke=\"#000000\"/>\n<text fill=\"#000000\" font-family=\"Times,serif\" font-size=\"14.00\" text-anchor=\"middle\" x=\"3214.1788\" y=\"-401.8\">lcm_visualization</text>\n<polyline fill=\"none\" points=\"3284.1788,-394 3284.1788,-417 \" stroke=\"#000000\"/>\n<text fill=\"#000000\" font-family=\"Times,serif\" font-size=\"14.00\" text-anchor=\"middle\" x=\"3294.6788\" y=\"-401.8\"> </text>\n</g>\n<!-- 76911104&#45;&gt;85005376 -->\n<g class=\"edge\" id=\"edge11\">\n<title>76911104:y0-&gt;85005376:u0</title>\n<path d=\"M3108.1788,-405C3120.1788,-405 3125.4288,-405 3134.0538,-405\" fill=\"none\" stroke=\"#000000\"/>\n<polygon fill=\"#000000\" points=\"3134.1788,-408.5001 3144.1788,-405 3134.1787,-401.5001 3134.1788,-408.5001\" stroke=\"#000000\"/>\n</g>\n<!-- 85001856 -->\n<g class=\"node\" id=\"node9\">\n<title>85001856</title>\n<polygon fill=\"none\" points=\"246.2849,-119 246.2849,-165 623.2849,-165 623.2849,-119 246.2849,-119\" stroke=\"#000000\"/>\n<text fill=\"#000000\" font-family=\"Times,serif\" font-size=\"14.00\" text-anchor=\"middle\" x=\"434.7849\" y=\"-149.8\">drake/systems/PassThrough@0000000005110680</text>\n<polyline fill=\"none\" points=\"246.2849,-142 623.2849,-142 \" stroke=\"#000000\"/>\n<text fill=\"#000000\" font-family=\"Times,serif\" font-size=\"14.00\" text-anchor=\"middle\" x=\"340.7849\" y=\"-126.8\">u</text>\n<polyline fill=\"none\" points=\"435.2849,-119 435.2849,-142 \" stroke=\"#000000\"/>\n<text fill=\"#000000\" font-family=\"Times,serif\" font-size=\"14.00\" text-anchor=\"middle\" x=\"529.2849\" y=\"-126.8\">y</text>\n</g>\n<!-- _85000448_u0&#45;&gt;85001856 -->\n<g class=\"edge\" id=\"edge6\">\n<title>_85000448_u0-&gt;85001856:u0</title>\n<path d=\"M189.7647,-190.0777C199.9334,-186.3419 209.8551,-181.4376 218.2849,-175 233.4203,-163.4415 226.6416,-140.9585 236.1396,-132.9338\" fill=\"none\" stroke=\"#0000ff\"/>\n<polygon fill=\"#0000ff\" points=\"237.2362,-136.2586 245.7849,-130 235.1991,-129.5616 237.2362,-136.2586\" stroke=\"#0000ff\"/>\n</g>\n<!-- _85000448_u1 -->\n<g class=\"node\" id=\"node5\">\n<title>_85000448_u1</title>\n<ellipse cx=\"125.1424\" cy=\"-148\" fill=\"none\" rx=\"73.387\" ry=\"18\" stroke=\"#0000ff\"/>\n<text fill=\"#000000\" font-family=\"Times,serif\" font-size=\"14.00\" text-anchor=\"middle\" x=\"125.1424\" y=\"-144.3\">desired_state</text>\n</g>\n<!-- 60286592 -->\n<g class=\"node\" id=\"node8\">\n<title>60286592</title>\n<polygon fill=\"none\" points=\"659.2849,-173.5 659.2849,-242.5 1121.2849,-242.5 1121.2849,-173.5 659.2849,-173.5\" stroke=\"#000000\"/>\n<text fill=\"#000000\" font-family=\"Times,serif\" font-size=\"14.00\" text-anchor=\"middle\" x=\"890.2849\" y=\"-227.3\">drake/systems/controllers/PidController@000000000397e680</text>\n<polyline fill=\"none\" points=\"659.2849,-219.5 1121.2849,-219.5 \" stroke=\"#000000\"/>\n<text fill=\"#000000\" font-family=\"Times,serif\" font-size=\"14.00\" text-anchor=\"middle\" x=\"778.7849\" y=\"-204.3\">x</text>\n<polyline fill=\"none\" points=\"659.2849,-196.5 898.2849,-196.5 \" stroke=\"#000000\"/>\n<text fill=\"#000000\" font-family=\"Times,serif\" font-size=\"14.00\" text-anchor=\"middle\" x=\"778.7849\" y=\"-181.3\">x_d</text>\n<polyline fill=\"none\" points=\"898.2849,-173.5 898.2849,-219.5 \" stroke=\"#000000\"/>\n<text fill=\"#000000\" font-family=\"Times,serif\" font-size=\"14.00\" text-anchor=\"middle\" x=\"1009.7849\" y=\"-192.8\">y</text>\n</g>\n<!-- _85000448_u1&#45;&gt;60286592 -->\n<g class=\"edge\" id=\"edge7\">\n<title>_85000448_u1-&gt;60286592:u1</title>\n<path d=\"M174.0461,-161.4848C193.832,-166.3497 216.9902,-171.3026 238.2849,-174 420.6213,-197.0967 470.3258,-185.4407 649.2747,-185.012\" fill=\"none\" stroke=\"#0000ff\"/>\n<polygon fill=\"#0000ff\" points=\"649.2891,-188.5121 659.2849,-185 649.2807,-181.5121 649.2891,-188.5121\" stroke=\"#0000ff\"/>\n</g>\n<!-- _85000448_y0 -->\n<g class=\"node\" id=\"node6\">\n<title>_85000448_y0</title>\n<ellipse cx=\"2109.7318\" cy=\"-176\" fill=\"none\" rx=\"34.394\" ry=\"18\" stroke=\"#00ff00\"/>\n<text fill=\"#000000\" font-family=\"Times,serif\" font-size=\"14.00\" text-anchor=\"middle\" x=\"2109.7318\" y=\"-172.3\">force</text>\n</g>\n<!-- _85000448_y0&#45;&gt;89280512 -->\n<g class=\"edge\" id=\"edge13\">\n<title>_85000448_y0-&gt;89280512:u3</title>\n<path d=\"M2142.5356,-182.0703C2158.5084,-184.5933 2178.2953,-187.0996 2197.1383,-187.8047\" fill=\"none\" stroke=\"#000000\"/>\n<polygon fill=\"#000000\" points=\"2197.1126,-191.3048 2207.1788,-188 2197.2488,-184.3061 2197.1126,-191.3048\" stroke=\"#000000\"/>\n</g>\n<!-- 76323840 -->\n<g class=\"node\" id=\"node7\">\n<title>76323840</title>\n<polygon fill=\"none\" points=\"1516.2849,-141.5 1516.2849,-210.5 2005.2849,-210.5 2005.2849,-141.5 1516.2849,-141.5\" stroke=\"#000000\"/>\n<text fill=\"#000000\" font-family=\"Times,serif\" font-size=\"14.00\" text-anchor=\"middle\" x=\"1760.7849\" y=\"-195.3\">drake/systems/controllers/InverseDynamics@00000000048c9c00</text>\n<polyline fill=\"none\" points=\"1516.2849,-187.5 2005.2849,-187.5 \" stroke=\"#000000\"/>\n<text fill=\"#000000\" font-family=\"Times,serif\" font-size=\"14.00\" text-anchor=\"middle\" x=\"1638.7849\" y=\"-172.3\">u0</text>\n<polyline fill=\"none\" points=\"1516.2849,-164.5 1761.2849,-164.5 \" stroke=\"#000000\"/>\n<text fill=\"#000000\" font-family=\"Times,serif\" font-size=\"14.00\" text-anchor=\"middle\" x=\"1638.7849\" y=\"-149.3\">u1</text>\n<polyline fill=\"none\" points=\"1761.2849,-141.5 1761.2849,-187.5 \" stroke=\"#000000\"/>\n<text fill=\"#000000\" font-family=\"Times,serif\" font-size=\"14.00\" text-anchor=\"middle\" x=\"1883.2849\" y=\"-160.8\">y0</text>\n</g>\n<!-- 76323840&#45;&gt;_85000448_y0 -->\n<g class=\"edge\" id=\"edge8\">\n<title>76323840:y0-&gt;_85000448_y0</title>\n<path d=\"M2005.7849,-164C2025.8642,-164 2047.9822,-166.237 2066.6353,-168.7794\" fill=\"none\" stroke=\"#00ff00\"/>\n<polygon fill=\"#00ff00\" points=\"2066.2108,-172.2542 2076.6067,-170.2109 2067.2056,-165.3253 2066.2108,-172.2542\" stroke=\"#00ff00\"/>\n</g>\n<!-- 84998336 -->\n<g class=\"node\" id=\"node10\">\n<title>84998336</title>\n<polygon fill=\"none\" points=\"1157.2849,-130.5 1157.2849,-199.5 1480.2849,-199.5 1480.2849,-130.5 1157.2849,-130.5\" stroke=\"#000000\"/>\n<text fill=\"#000000\" font-family=\"Times,serif\" font-size=\"14.00\" text-anchor=\"middle\" x=\"1318.7849\" y=\"-184.3\">drake/systems/Adder@000000000510f8c0</text>\n<polyline fill=\"none\" points=\"1157.2849,-176.5 1480.2849,-176.5 \" stroke=\"#000000\"/>\n<text fill=\"#000000\" font-family=\"Times,serif\" font-size=\"14.00\" text-anchor=\"middle\" x=\"1234.7849\" y=\"-161.3\">u0</text>\n<polyline fill=\"none\" points=\"1157.2849,-153.5 1312.2849,-153.5 \" stroke=\"#000000\"/>\n<text fill=\"#000000\" font-family=\"Times,serif\" font-size=\"14.00\" text-anchor=\"middle\" x=\"1234.7849\" y=\"-138.3\">u1</text>\n<polyline fill=\"none\" points=\"1312.2849,-130.5 1312.2849,-176.5 \" stroke=\"#000000\"/>\n<text fill=\"#000000\" font-family=\"Times,serif\" font-size=\"14.00\" text-anchor=\"middle\" x=\"1396.2849\" y=\"-149.8\">sum</text>\n</g>\n<!-- 60286592&#45;&gt;84998336 -->\n<g class=\"edge\" id=\"edge4\">\n<title>60286592:y0-&gt;84998336:u0</title>\n<path d=\"M1121.2849,-196C1138.2756,-196 1137.5605,-175.9268 1147.6348,-168.0857\" fill=\"none\" stroke=\"#000000\"/>\n<polygon fill=\"#000000\" points=\"1148.826,-171.3795 1157.2849,-165 1146.694,-164.7121 1148.826,-171.3795\" stroke=\"#000000\"/>\n</g>\n<!-- 85001856&#45;&gt;76323840 -->\n<g class=\"edge\" id=\"edge2\">\n<title>85001856:y0-&gt;76323840:u0</title>\n<path d=\"M623.2849,-130C644.6922,-130 639.275,-105.6077 659.2849,-98 851.2144,-25.0285 916.0566,-91.4326 1121.2849,-98 1281.0858,-103.1137 1342.1439,-40.5045 1480.2849,-121 1501.7804,-133.5255 1491.5864,-164.6022 1506.1274,-173.5522\" fill=\"none\" stroke=\"#000000\"/>\n<polygon fill=\"#000000\" points=\"1505.7432,-177.0597 1516.2849,-176 1507.3832,-170.2545 1505.7432,-177.0597\" stroke=\"#000000\"/>\n</g>\n<!-- 85001856&#45;&gt;60286592 -->\n<g class=\"edge\" id=\"edge1\">\n<title>85001856:y0-&gt;60286592:u0</title>\n<path d=\"M623.2849,-130C657.2897,-130 628.9936,-191.8706 649.37,-205.4048\" fill=\"none\" stroke=\"#000000\"/>\n<polygon fill=\"#000000\" points=\"648.7245,-208.8537 659.2849,-208 650.4971,-202.0818 648.7245,-208.8537\" stroke=\"#000000\"/>\n</g>\n<!-- 84998336&#45;&gt;76323840 -->\n<g class=\"edge\" id=\"edge3\">\n<title>84998336:y0-&gt;76323840:u1</title>\n<path d=\"M1480.2849,-153C1492.2849,-153 1497.5349,-153 1506.1599,-153\" fill=\"none\" stroke=\"#000000\"/>\n<polygon fill=\"#000000\" points=\"1506.2849,-156.5001 1516.2849,-153 1506.2849,-149.5001 1506.2849,-156.5001\" stroke=\"#000000\"/>\n</g>\n<!-- 84999744 -->\n<g class=\"node\" id=\"node11\">\n<title>84999744</title>\n<polygon fill=\"none\" points=\"668.7849,-108 668.7849,-154 1111.7849,-154 1111.7849,-108 668.7849,-108\" stroke=\"#000000\"/>\n<text fill=\"#000000\" font-family=\"Times,serif\" font-size=\"14.00\" text-anchor=\"middle\" x=\"890.2849\" y=\"-138.8\">drake/systems/ConstantVectorSource@000000000510fe40</text>\n<polyline fill=\"none\" points=\"668.7849,-131 1111.7849,-131 \" stroke=\"#000000\"/>\n<text fill=\"#000000\" font-family=\"Times,serif\" font-size=\"14.00\" text-anchor=\"middle\" x=\"776.2849\" y=\"-115.8\"> </text>\n<polyline fill=\"none\" points=\"883.7849,-108 883.7849,-131 \" stroke=\"#000000\"/>\n<text fill=\"#000000\" font-family=\"Times,serif\" font-size=\"14.00\" text-anchor=\"middle\" x=\"997.7849\" y=\"-115.8\">y0</text>\n</g>\n<!-- 84999744&#45;&gt;84998336 -->\n<g class=\"edge\" id=\"edge5\">\n<title>84999744:y0-&gt;84998336:u1</title>\n<path d=\"M1112.2849,-119C1130.7099,-119 1134.0732,-134.477 1147.0854,-140.039\" fill=\"none\" stroke=\"#000000\"/>\n<polygon fill=\"#000000\" points=\"1146.8039,-143.5489 1157.2849,-142 1148.1256,-136.6748 1146.8039,-143.5489\" stroke=\"#000000\"/>\n</g>\n</g>\n</svg>"
          },
          "metadata": {
            "tags": []
          },
          "execution_count": 19
        }
      ]
    },
    {
      "cell_type": "markdown",
      "metadata": {
        "id": "ZWoEJzsixwGj"
      },
      "source": [
        "As our diagrams get more complex, we're going to need a better approach to rendering the diagrams.  I've got a rough first pass (that it still suffering from some licensing issues) in javascript that I aim to improve.\n",
        "\n",
        "TODO(russt): Update the javascript rendering [#13874](https://github.com/RobotLocomotion/drake/issues/13874).  "
      ]
    },
    {
      "cell_type": "code",
      "metadata": {
        "id": "EjJzh5veYA6e",
        "outputId": "5ca4cf87-93cb-40b6-823e-81370cb02ef3",
        "colab": {
          "base_uri": "https://localhost:8080/",
          "height": 417
        }
      },
      "source": [
        "diagram.set_name(\"diagram\")\n",
        "HTML('<script src=\"https://unpkg.com/gojs/release/go.js\"></script>' + GenerateHtml(diagram))"
      ],
      "execution_count": null,
      "outputs": [
        {
          "output_type": "execute_result",
          "data": {
            "text/html": [
              "<script src=\"https://unpkg.com/gojs/release/go.js\"></script>\n",
              "<div style='height:400px;' id='myDiagramDiv'>\n",
              "The implementation of GenerateHtml has been temporarily removed from Drake due\n",
              "to licensing restrictions.\n",
              "</div>\n",
              "<script>\n",
              "  $ = go.GraphObject.make\n",
              "  var diagram = $(go.Diagram, \"myDiagramDiv\", {\n",
              "    \"undoManager.isEnabled\": true,\n",
              "    initialAutoScale: go.Diagram.Uniform\n",
              "  });\n",
              "  diagram.layout = $(go.LayeredDigraphLayout, {\n",
              "    layerSpacing: 20,\n",
              "    columnSpacing: 20,\n",
              "    isRealtime: false\n",
              "  });\n",
              "\n",
              "  diagram.groupTemplate = $(\n",
              "    go.Group,\n",
              "    \"Auto\",\n",
              "    { layout: $(go.LayeredDigraphLayout, { direction: 0, columnSpacing: 10 }) },\n",
              "    new go.Binding(\"isSubGraphExpanded\", \"expanded\"),\n",
              "    $(\n",
              "      go.Shape,\n",
              "      \"RoundedRectangle\", // surrounds everything\n",
              "      { parameter1: 10, fill: \"rgba(128,128,128,0.33)\" }\n",
              "    ),\n",
              "    $(\n",
              "      go.Panel,\n",
              "      \"Vertical\", // position header above the subgraph\n",
              "      { defaultAlignment: go.Spot.Left },\n",
              "      $(\n",
              "        go.Panel,\n",
              "        \"Horizontal\", // the header\n",
              "        { defaultAlignment: go.Spot.Top },\n",
              "        $(\"SubGraphExpanderButton\"), // this Panel acts as a Button\n",
              "        $(\n",
              "          go.TextBlock, // group title near top, next to button\n",
              "          { font: \"Bold 12pt Sans-Serif\" },\n",
              "          new go.Binding(\"text\", \"name\")\n",
              "        )\n",
              "      ),\n",
              "      $(\n",
              "        go.Placeholder, // represents area for all member parts\n",
              "        { padding: new go.Margin(0, 10), background: \"white\" }\n",
              "      )\n",
              "    )\n",
              "  );\n",
              "  var systemTemplate = $(\n",
              "    go.Node,\n",
              "    \"Auto\",\n",
              "    $(go.Shape, \"RoundedRectangle\", {\n",
              "      parameter1: 10,\n",
              "      fill: \"rgba(128,128,228,0.33)\"\n",
              "    }),\n",
              "    $(\n",
              "      go.Panel,\n",
              "      \"Table\",\n",
              "      { margin: 10 },\n",
              "      $(\n",
              "        go.TextBlock,\n",
              "        { row: 0, column: 0, columnSpan: 2, alignment: go.Spot.Center },\n",
              "        { font: \"bold 12pt sans-serif\" },\n",
              "        new go.Binding(\"text\", \"key\")\n",
              "      ),\n",
              "      $(go.RowColumnDefinition, {\n",
              "        row: 1,\n",
              "        separatorStrokeWidth: 1.5,\n",
              "        separatorStroke: \"black\"\n",
              "      }),\n",
              "      $(go.TextBlock, {\n",
              "        // add a spacer\n",
              "        row: 1,\n",
              "        column: 0,\n",
              "        columnSpan: 2,\n",
              "        height: 10\n",
              "      }),\n",
              "      $(\n",
              "        go.Panel,\n",
              "        \"Vertical\",\n",
              "        { name: \"INPUT_PORTS\" },\n",
              "        new go.Binding(\"itemArray\", \"input_ports\"),\n",
              "        {\n",
              "          row: 2,\n",
              "          column: 0,\n",
              "          alignment: go.Spot.Left,\n",
              "          itemTemplate: $(\n",
              "            go.Panel,\n",
              "            \"Auto\",\n",
              "            { margin: 2 },\n",
              "            $(go.Shape, \"RoundedRectangle\", { fill: \"lightcyan\" }),\n",
              "            $(go.TextBlock, new go.Binding(\"text\", \"name\"), {\n",
              "              margin: 2\n",
              "            }),\n",
              "            new go.Binding(\"portId\", \"id\")\n",
              "          ) // end of itemTemplate\n",
              "        }\n",
              "      ),\n",
              "      $(\n",
              "        go.Panel,\n",
              "        \"Vertical\",\n",
              "        { name: \"OUTPUT_PORTS\" },\n",
              "        new go.Binding(\"itemArray\", \"output_ports\"),\n",
              "        {\n",
              "          row: 2,\n",
              "          column: 1,\n",
              "          alignment: go.Spot.Right,\n",
              "          itemTemplate: $(\n",
              "            go.Panel,\n",
              "            \"Auto\",\n",
              "            { margin: 2 },\n",
              "            $(go.Shape, \"RoundedRectangle\", { fill: \"lightcyan\" }),\n",
              "            $(go.TextBlock, new go.Binding(\"text\", \"name\"), {\n",
              "              margin: 2\n",
              "            }),\n",
              "            new go.Binding(\"portId\", \"id\")\n",
              "          ) // end of itemTemplate\n",
              "        }\n",
              "      )\n",
              "    )\n",
              "  );\n",
              "\n",
              "  var portTemplate = $(\n",
              "    go.Node,\n",
              "    \"Auto\",\n",
              "    $(go.Shape, \"RoundedRectangle\", {\n",
              "      parameter1: 10,\n",
              "      fill: \"honeydew\"\n",
              "    }),\n",
              "    $(\n",
              "      go.TextBlock,\n",
              "      { row: 0, column: 0, columnSpan: 2, alignment: go.Spot.Right },\n",
              "      new go.Binding(\"text\", \"name\")\n",
              "    )\n",
              "  );\n",
              "\n",
              "  var templmap = new go.Map();\n",
              "  templmap.add(\"\", systemTemplate);\n",
              "  templmap.add(\"input_port\", portTemplate);\n",
              "  templmap.add(\"output_port\", portTemplate);\n",
              "  diagram.nodeTemplateMap = templmap;\n",
              "\n",
              "  diagram.model = $(go.GraphLinksModel, {\n",
              "    linkFromPortIdProperty: \"fromPort\", // required information:\n",
              "    linkToPortIdProperty: \"toPort\", // identifies data property names\n",
              "    nodeDataArray: [\n",
              "{ key: \"diagram\", name: \"diagram\", group: \"\", isGroup: true, expanded: true, },\n",
              "{ key: \"plant\", group: \"diagram\", input_ports: [ { name: \"geometry_query\", id: \"u0\" }, { name: \"WorldModelInstance_actuation\", id: \"u1\" }, { name: \"DefaultModelInstance_actuation\", id: \"u2\" }, { name: \"iiwa14_actuation\", id: \"u3\" }, { name: \"applied_generalized_force\", id: \"u4\" }, { name: \"applied_spatial_force\", id: \"u5\" }, ],\n",
              "output_ports: [ { name: \"geometry_pose\", id: \"y0\" }, { name: \"continuous_state\", id: \"y1\" }, { name: \"body_poses\", id: \"y2\" }, { name: \"spatial_velocities\", id: \"y3\" }, { name: \"spatial_accelerations\", id: \"y4\" }, { name: \"generalized_acceleration\", id: \"y5\" }, { name: \"WorldModelInstance_continuous_state\", id: \"y6\" }, { name: \"WorldModelInstance_generalized_acceleration\", id: \"y7\" }, { name: \"DefaultModelInstance_continuous_state\", id: \"y8\" }, { name: \"DefaultModelInstance_generalized_acceleration\", id: \"y9\" }, { name: \"iiwa14_continuous_state\", id: \"y10\" }, { name: \"iiwa14_generalized_acceleration\", id: \"y11\" }, { name: \"WorldModelInstance_generalized_contact_forces\", id: \"y12\" }, { name: \"DefaultModelInstance_generalized_contact_forces\", id: \"y13\" }, { name: \"iiwa14_generalized_contact_forces\", id: \"y14\" }, { name: \"reaction_forces\", id: \"y15\" }, { name: \"contact_results\", id: \"y16\" }, ],\n",
              "},\n",
              "{ key: \"scene_graph\", group: \"diagram\", input_ports: [ { name: \"plant_pose\", id: \"u0\" }, ],\n",
              "output_ports: [ { name: \"lcm_visualization\", id: \"y0\" }, { name: \"query\", id: \"y1\" }, ],\n",
              "},\n",
              "{ key: \"meshcat_visualizer\", group: \"diagram\", input_ports: [ { name: \"lcm_visualization\", id: \"u0\" }, ],\n",
              "output_ports: [ ],\n",
              "},\n",
              "{ key: \"iiwa_controller\", name: \"iiwa_controller\", group: \"diagram\", isGroup: true, expanded: false, },\n",
              "{ key: \"iiwa_controller_inputs\", name: \"Input Ports\", group: \"iiwa_controller\", isGroup: true, },\n",
              "{ key: \"iiwa_controller_u0\", name: \"estimated_state\", group: \"iiwa_controller_inputs\", category: \"input_port\", },\n",
              "{ key: \"iiwa_controller_u1\", name: \"desired_state\", group: \"iiwa_controller_inputs\", category: \"input_port\", },\n",
              "{ key: \"iiwa_controller_outputs\", name: \"Output Ports\", group: \"iiwa_controller\", isGroup: true, },\n",
              "{ key: \"iiwa_controller_y0\", name: \"force\", group: \"iiwa_controller_outputs\", category: \"output_port\", },\n",
              "{ key: \"drake/systems/controllers/InverseDynamics@00000000048c9c00\", group: \"iiwa_controller\", input_ports: [ { name: \"u0\", id: \"u0\" }, { name: \"u1\", id: \"u1\" }, ],\n",
              "output_ports: [ { name: \"y0\", id: \"y0\" }, ],\n",
              "},\n",
              "{ key: \"drake/systems/controllers/PidController@000000000397e680\", group: \"iiwa_controller\", input_ports: [ { name: \"estimated_state\", id: \"u0\" }, { name: \"desired_state\", id: \"u1\" }, ],\n",
              "output_ports: [ { name: \"control\", id: \"y0\" }, ],\n",
              "},\n",
              "{ key: \"drake/systems/PassThrough@0000000005110680\", group: \"iiwa_controller\", input_ports: [ { name: \"u\", id: \"u0\" }, ],\n",
              "output_ports: [ { name: \"y\", id: \"y0\" }, ],\n",
              "},\n",
              "{ key: \"drake/systems/Adder@000000000510f8c0\", group: \"iiwa_controller\", input_ports: [ { name: \"u0\", id: \"u0\" }, { name: \"u1\", id: \"u1\" }, ],\n",
              "output_ports: [ { name: \"sum\", id: \"y0\" }, ],\n",
              "},\n",
              "{ key: \"drake/systems/ConstantVectorSource@000000000510fe40\", group: \"iiwa_controller\", input_ports: [ ],\n",
              "output_ports: [ { name: \"y0\", id: \"y0\" }, ],\n",
              "},\n",
              "\n",
              "    ],\n",
              "    linkDataArray: [\n",
              "{ from: \"plant\", fromPort: \"y0\", to: \"scene_graph\", toPort: \"u0\", },\n",
              "{ from: \"plant\", fromPort: \"y10\", to: \"iiwa_controller_u0\", },\n",
              "{ from: \"scene_graph\", fromPort: \"y0\", to: \"meshcat_visualizer\", toPort: \"u0\", },\n",
              "{ from: \"scene_graph\", fromPort: \"y1\", to: \"plant\", toPort: \"u0\", },\n",
              "{ from: \"iiwa_controller_y0\", to: \"plant\", toPort: \"u3\", },\n",
              "{ from: \"drake/systems/PassThrough@0000000005110680\", fromPort: \"y0\", to: \"drake/systems/controllers/PidController@000000000397e680\", toPort: \"u0\", },\n",
              "{ from: \"drake/systems/PassThrough@0000000005110680\", fromPort: \"y0\", to: \"drake/systems/controllers/InverseDynamics@00000000048c9c00\", toPort: \"u0\", },\n",
              "{ from: \"drake/systems/Adder@000000000510f8c0\", fromPort: \"y0\", to: \"drake/systems/controllers/InverseDynamics@00000000048c9c00\", toPort: \"u1\", },\n",
              "{ from: \"drake/systems/controllers/PidController@000000000397e680\", fromPort: \"y0\", to: \"drake/systems/Adder@000000000510f8c0\", toPort: \"u0\", },\n",
              "{ from: \"drake/systems/ConstantVectorSource@000000000510fe40\", fromPort: \"y0\", to: \"drake/systems/Adder@000000000510f8c0\", toPort: \"u1\", },\n",
              "{ from: \"iiwa_controller_u0\", to: \"drake/systems/PassThrough@0000000005110680\", toPort: \"u0\", },\n",
              "{ from: \"iiwa_controller_u1\", to: \"drake/systems/controllers/PidController@000000000397e680\", toPort: \"u1\", },\n",
              "{ from: \"drake/systems/controllers/InverseDynamics@00000000048c9c00\", fromPort: \"y0\", to: \"iiwa_controller_y0\", },\n",
              "\n",
              "    ]\n",
              "  });\n",
              "</script>\n"
            ],
            "text/plain": [
              "<IPython.core.display.HTML object>"
            ]
          },
          "metadata": {
            "tags": []
          },
          "execution_count": 20
        }
      ]
    },
    {
      "cell_type": "markdown",
      "metadata": {
        "id": "wuo1q8PgXzrp"
      },
      "source": [
        "To set up the `Context` now, instead of setting the `actuation_input` to zero, we set the `desired_state` of the iiwa controller to be the current position of the arm.  But the desired *state* must also include desired velocities, so we set those to zero."
      ]
    },
    {
      "cell_type": "code",
      "metadata": {
        "id": "GHrnvvpXXixB",
        "outputId": "0d4e96b8-5fc6-496d-dc81-ab4f2324654c",
        "colab": {
          "base_uri": "https://localhost:8080/"
        }
      },
      "source": [
        "context = diagram.CreateDefaultContext()\n",
        "plant_context = plant.GetMyMutableContextFromRoot(context)\n",
        "q0 = np.array([-1.57, 0.1, 0, -1.2, 0, 1.6, 0])\n",
        "x0 = np.hstack((q0, 0*q0))\n",
        "plant.SetPositions(plant_context, q0)\n",
        "iiwa_controller.GetInputPort('desired_state').FixValue(\n",
        "    iiwa_controller.GetMyMutableContextFromRoot(context), x0)\n",
        "print(context)"
      ],
      "execution_count": null,
      "outputs": [
        {
          "output_type": "stream",
          "text": [
            "::diagram Context (of a Diagram)\n",
            "---------------------------------\n",
            "7 total continuous states\n",
            "14 total discrete states in 1 groups\n",
            "1 total abstract states\n",
            "97 total numeric parameters in 10 groups\n",
            "\n",
            "::diagram::plant Context\n",
            "-------------------------\n",
            "Time: 0\n",
            "States:\n",
            "  1 discrete state groups with\n",
            "     14 states\n",
            "       -1.57   0.1     0  -1.2     0   1.6     0     0     0     0     0     0     0     0\n",
            "\n",
            "Parameters:\n",
            "  9 numeric parameter groups with\n",
            "     10 parameters\n",
            "       nan nan nan nan nan nan nan nan nan nan\n",
            "     10 parameters\n",
            "            5   -0.1      0   0.07 0.0149 0.0269  0.016      0  0.007      0\n",
            "     10 parameters\n",
            "             5.76          0      -0.03       0.12  0.0210292  0.0201812 0.00303542          0          0     0.0036\n",
            "     10 parameters\n",
            "             6.35     0.0003      0.059      0.042  0.0100481 0.00655149 0.00521337  -1.77e-05  -1.26e-05  -0.002478\n",
            "     10 parameters\n",
            "              3.5          0       0.03       0.13  0.0249429     0.0237 0.00307143          0          0    -0.0039\n",
            "     10 parameters\n",
            "              3.5          0      0.067      0.034  0.0105021 0.00584171 0.00620329          0          0  -0.002278\n",
            "     10 parameters\n",
            "              3.5     0.0001      0.021      0.076 0.00907414 0.00826172 0.00172387   -2.1e-06   -7.6e-06  -0.001596\n",
            "     10 parameters\n",
            "              1.8          0     0.0006     0.0004 0.00272274 0.00261127 0.00200036          0          0   -2.4e-07\n",
            "     10 parameters\n",
            "               1.2           0           0        0.02  0.00123333  0.00123333 0.000833333           0           0           0\n",
            "\n",
            "::diagram::scene_graph Context\n",
            "-------------------------------\n",
            "Time: 0\n",
            "States:\n",
            "  1 abstract states\n",
            "\n",
            "\n",
            "::diagram::iiwa_controller Context (of a Diagram)\n",
            "--------------------------------------------------\n",
            "7 total continuous states\n",
            "7 total numeric parameters in 1 groups\n",
            "\n",
            "::diagram::iiwa_controller::drake/systems/controllers/PidController@000000000397e680 Context\n",
            "---------------------------------------------------------------------------------------------\n",
            "Time: 0\n",
            "States:\n",
            "  7 continuous states\n",
            "    0 0 0 0 0 0 0\n",
            "\n",
            "\n",
            "::diagram::iiwa_controller::drake/systems/ConstantVectorSource@000000000510fe40 Context\n",
            "----------------------------------------------------------------------------------------\n",
            "Time: 0\n",
            "Parameters:\n",
            "  1 numeric parameter groups with\n",
            "     7 parameters\n",
            "       0 0 0 0 0 0 0\n",
            "\n"
          ],
          "name": "stdout"
        }
      ]
    },
    {
      "cell_type": "markdown",
      "metadata": {
        "id": "kAWFX5H7atro"
      },
      "source": [
        "Now, if we simulate, the robot just stays put.  Just like the real robot would."
      ]
    },
    {
      "cell_type": "code",
      "metadata": {
        "id": "qvJ2PptyYuz2"
      },
      "source": [
        "simulator = Simulator(diagram, context)\n",
        "simulator.set_target_realtime_rate(1.0);\n",
        "simulator.AdvanceTo(5.0 if running_as_notebook else 0.1);"
      ],
      "execution_count": null,
      "outputs": []
    },
    {
      "cell_type": "markdown",
      "metadata": {
        "id": "7q0A14bAilIX"
      },
      "source": [
        "# Robot hands\n",
        "\n",
        "I don't have the same smörgåsbord of robot models to offer for robot hands (yet).  We do have the allegro hand model available, and I'm happy to add more here (though many will require some care to handle their kinematic constraints).  For now, you can at least try out the [Allegro Hand](http://www.wonikrobotics.com/Allegro-Hand.htm).\n",
        "\n",
        "TODO(russt): Consider porting Robotiq, Sandia, or IHY-hand from our [openhumanoids](https://github.com/openhumanoids/oh-distro/tree/master/software/models/common_components) project."
      ]
    },
    {
      "cell_type": "code",
      "metadata": {
        "id": "ILYLouFTjv6e"
      },
      "source": [
        "builder = DiagramBuilder()\n",
        "\n",
        "plant, scene_graph = AddMultibodyPlantSceneGraph(builder, time_step=0.0)\n",
        "allegro_file = FindResourceOrThrow(\"drake/manipulation/models/allegro_hand_description/sdf/allegro_hand_description_right.sdf\")\n",
        "Parser(plant, scene_graph).AddModelFromFile(allegro_file)\n",
        "plant.Finalize()\n",
        "\n",
        "meshcat = ConnectMeshcatVisualizer(builder, scene_graph, zmq_url=zmq_url)\n",
        "diagram = builder.Build()\n",
        "context = diagram.CreateDefaultContext()\n",
        "\n",
        "meshcat.load()\n",
        "MakeJointSlidersThatPublishOnCallback(plant, meshcat, context);"
      ],
      "execution_count": null,
      "outputs": []
    },
    {
      "cell_type": "code",
      "metadata": {
        "id": "5SjOClhTltPk"
      },
      "source": [
        ""
      ],
      "execution_count": null,
      "outputs": []
    }
  ]
}