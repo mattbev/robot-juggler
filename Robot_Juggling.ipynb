{
 "cells": [
  {
   "cell_type": "markdown",
   "metadata": {
    "colab_type": "text",
    "id": "view-in-github"
   },
   "source": [
    "<a href=\"https://colab.research.google.com/github/mattbev/robot-juggler/blob/main/Robot_Juggling.ipynb\" target=\"_parent\"><img src=\"https://colab.research.google.com/assets/colab-badge.svg\" alt=\"Open In Colab\"/></a>"
   ]
  },
  {
   "cell_type": "markdown",
   "metadata": {
    "id": "EgiF12Hf1Dhs"
   },
   "source": [
    "**I recommend you run the first code cell of this notebook immediately, to start provisioning drake on the cloud machine, then you can leave this window open as you [read the textbook](manipulation.csail.mit.edu/robot.html).**\n",
    "\n",
    "# Notebook setup\n",
    "\n",
    "The following cell will:\n",
    "- on Colab (only), install Drake to `/opt/drake`, install Drake's prerequisites via `apt`, and add pydrake to `sys.path`.  This will take approximately two minutes on the first time it runs (to provision the machine), but should only need to reinstall once every 12 hours.  If you navigate between notebooks using Colab's \"File->Open\" menu, then you can avoid provisioning a separate machine for each notebook.\n",
    "- launch a server for our 3D visualizer (MeshCat) that will be used for the remainder of this notebook.\n",
    "\n",
    "You will need to rerun this cell if you restart the kernel, but it should be fast because the machine will already have drake installed."
   ]
  },
  {
   "cell_type": "code",
   "execution_count": 31,
   "metadata": {
    "colab": {
     "base_uri": "https://localhost:8080/"
    },
    "id": "eeMrMI0-1Dhu",
    "outputId": "80ba1308-b814-4d0c-b36a-061c4f38cb0e"
   },
   "outputs": [],
   "source": [
    "import importlib\n",
    "import sys\n",
    "from urllib.request import urlretrieve\n",
    "\n",
    "if 'google.colab' in sys.modules and importlib.util.find_spec('pydrake') is None:\n",
    "  version='20200918'\n",
    "  build='nightly'\n",
    "  urlretrieve(f\"https://drake-packages.csail.mit.edu/drake/{build}/drake-{version}/setup_drake_colab.py\",\n",
    "              \"setup_drake_colab.py\")\n",
    "  from setup_drake_colab import setup_drake\n",
    "  setup_drake(version=version, build=build)\n",
    "  !pip install pyngrok==4.2.2\n",
    "\n",
    "# Install pyngrok.\n",
    "server_args = []\n",
    "if 'google.colab' in sys.modules:\n",
    "  server_args = ['--ngrok_http_tunnel']\n",
    "\n",
    "# Start a single meshcat server instance to use for the remainder of this notebook.\n",
    "from meshcat.servers.zmqserver import start_zmq_server_as_subprocess\n",
    "proc, zmq_url, web_url = start_zmq_server_as_subprocess(server_args=server_args)\n",
    "\n",
    "# Determine if this notebook is currently running as a notebook or a unit test.\n",
    "from IPython import get_ipython\n",
    "running_as_notebook = get_ipython() and hasattr(get_ipython(), 'kernel')\n",
    "\n",
    "# Imports\n",
    "import numpy as np\n",
    "import pydot\n",
    "from ipywidgets import Dropdown, Layout\n",
    "from IPython.display import display, HTML, SVG\n",
    "\n",
    "from pydrake.all import (\n",
    "    AddMultibodyPlantSceneGraph, AngleAxis, BasicVector, ConnectMeshcatVisualizer, \n",
    "    DiagramBuilder, FindResourceOrThrow, Integrator, JacobianWrtVariable, \n",
    "    LeafSystem, MultibodyPlant, MultibodyPositionToGeometryPose, Parser, \n",
    "    PiecewisePolynomial, PiecewiseQuaternionSlerp, Quaternion, RigidTransform, \n",
    "    RollPitchYaw, RotationMatrix, SceneGraph, Simulator, TrajectorySource\n",
    ")\n",
    "from pydrake.multibody.jupyter_widgets import MakeJointSlidersThatPublishOnCallback\n"
   ]
  },
  {
   "cell_type": "markdown",
   "metadata": {
    "id": "wJWL-ldv5REK"
   },
   "source": [
    "# KUKA iiwa arm\n"
   ]
  },
  {
   "cell_type": "code",
   "execution_count": 29,
   "metadata": {
    "colab": {
     "base_uri": "https://localhost:8080/",
     "height": 297,
     "referenced_widgets": [
      "beec2b614e2d4455b5cbab39e7c40a86",
      "42f57304ac414f8f97f581946441ca07",
      "70491e6644bf47b7804271cc54de2094",
      "84fdefe571044dd9be613389bec109d0",
      "469c98d12bbb4d7e86ec755f7be5dac2",
      "12e8d743ffcf4f44a4f976983fe6de5a",
      "33abca8e141744779731a9ddf99c0a50",
      "61fd458d42674ae7827e6342d159393d",
      "b6cc5d73058543a9ad957999b74a2fb8",
      "7af7cd7485564731a3d1b4d92f367cd4",
      "6cf2f2c2f3c346169914dbf93a7a97f6",
      "ce2045dff04545fdba931e0f6a304da6",
      "6558525754fc482a9e977d80f84418c4",
      "05c95631d38b41f298b0803fb3b65077",
      "836ff441c8fe493183c630e07beca9b0",
      "c7a5f9db397641199c9580d74b13eeac",
      "4f0598c97843413baadcc98ffc24e156",
      "751a9175d0d34174b8ad3194662e9125",
      "54560eb6c0f94cceb762fbee4f25cc61",
      "4f42949306534c46b4df20dc9ac2bf1c",
      "1f6fad3a989d41f396325e1c431a204d"
     ]
    },
    "id": "9GSF52A8ExQa",
    "outputId": "642ab259-b727-4219-93d2-79706700b38d"
   },
   "outputs": [
    {
     "name": "stdout",
     "output_type": "stream",
     "text": [
      "Connecting to meshcat-server at zmq_url=tcp://127.0.0.1:6000...\n",
      "You can open the visualizer by visiting the following URL:\n",
      "http://127.0.0.1:7000/static/\n",
      "Connected to meshcat-server.\n"
     ]
    },
    {
     "data": {
      "application/vnd.jupyter.widget-view+json": {
       "model_id": "ee54001cd9bb409ca8dfe60ffd4706b7",
       "version_major": 2,
       "version_minor": 0
      },
      "text/plain": [
       "FloatSlider(value=0.0, description='iiwa_joint_1', layout=Layout(width=\"'200'\"), max=2.96706, min=-2.96706, st…"
      ]
     },
     "metadata": {},
     "output_type": "display_data"
    },
    {
     "data": {
      "application/vnd.jupyter.widget-view+json": {
       "model_id": "cd713c326573429da1aa87b333854b47",
       "version_major": 2,
       "version_minor": 0
      },
      "text/plain": [
       "FloatSlider(value=0.0, description='iiwa_joint_2', layout=Layout(width=\"'200'\"), max=2.0944, min=-2.0944, step…"
      ]
     },
     "metadata": {},
     "output_type": "display_data"
    },
    {
     "data": {
      "application/vnd.jupyter.widget-view+json": {
       "model_id": "b68be97df51f49478e03addd8bd75b03",
       "version_major": 2,
       "version_minor": 0
      },
      "text/plain": [
       "FloatSlider(value=0.0, description='iiwa_joint_3', layout=Layout(width=\"'200'\"), max=2.96706, min=-2.96706, st…"
      ]
     },
     "metadata": {},
     "output_type": "display_data"
    },
    {
     "data": {
      "application/vnd.jupyter.widget-view+json": {
       "model_id": "a7919432c8bb46508f9db2bfb7d81b84",
       "version_major": 2,
       "version_minor": 0
      },
      "text/plain": [
       "FloatSlider(value=0.0, description='iiwa_joint_4', layout=Layout(width=\"'200'\"), max=2.0944, min=-2.0944, step…"
      ]
     },
     "metadata": {},
     "output_type": "display_data"
    },
    {
     "data": {
      "application/vnd.jupyter.widget-view+json": {
       "model_id": "c926108287694daab07c1fd128b71f92",
       "version_major": 2,
       "version_minor": 0
      },
      "text/plain": [
       "FloatSlider(value=0.0, description='iiwa_joint_5', layout=Layout(width=\"'200'\"), max=2.96706, min=-2.96706, st…"
      ]
     },
     "metadata": {},
     "output_type": "display_data"
    },
    {
     "data": {
      "application/vnd.jupyter.widget-view+json": {
       "model_id": "44559151bebf4c47b4e4cbb1bd2c49fb",
       "version_major": 2,
       "version_minor": 0
      },
      "text/plain": [
       "FloatSlider(value=0.0, description='iiwa_joint_6', layout=Layout(width=\"'200'\"), max=2.0944, min=-2.0944, step…"
      ]
     },
     "metadata": {},
     "output_type": "display_data"
    },
    {
     "data": {
      "application/vnd.jupyter.widget-view+json": {
       "model_id": "ad96c1066e3f49d789c8ab782b0a61df",
       "version_major": 2,
       "version_minor": 0
      },
      "text/plain": [
       "FloatSlider(value=0.0, description='iiwa_joint_7', layout=Layout(width=\"'200'\"), max=3.05433, min=-3.05433, st…"
      ]
     },
     "metadata": {},
     "output_type": "display_data"
    }
   ],
   "source": [
    "builder = DiagramBuilder()\n",
    "\n",
    "plant, scene_graph = AddMultibodyPlantSceneGraph(builder, time_step=1e-4)\n",
    "parser = Parser(plant, scene_graph)\n",
    "parser.AddModelFromFile(FindResourceOrThrow(\"drake/manipulation/models/iiwa_description/iiwa7/iiwa7_no_collision.sdf\"))\n",
    "o = parser.AddModelFromFile(\"paddle.sdf\")\n",
    "plant.WeldFrames(plant.GetFrameByName(\"iiwa_link_7\"), plant.GetFrameByName(\"base_link\", o))\n",
    "\n",
    "plant.Finalize()\n",
    "\n",
    "meshcat = ConnectMeshcatVisualizer(builder, scene_graph, zmq_url=zmq_url)\n",
    "diagram = builder.Build()\n",
    "context = diagram.CreateDefaultContext()\n",
    "\n",
    "\n",
    "# plant.SetPositions(context, [-1.57, 0.1, 0, -1.2, 0, 1.6, 0, 0])\n",
    "\n",
    "\n",
    "meshcat.load()\n",
    "MakeJointSlidersThatPublishOnCallback(plant, meshcat, context);"
   ]
  },
  {
   "cell_type": "markdown",
   "metadata": {
    "id": "nPy2VgSH1Dh5"
   },
   "source": [
    "# Simulation with block diagrams\n",
    "\n",
    "In this chapter, and throughout the notes, we will be building up our simulations and controllers using drake's block diagram modeling language (we call it the \"systems framework\").  [This tutorial](https://mybinder.org/v2/gh/RobotLocomotion/drake/nightly-release?filepath=tutorials/dynamical_systems.ipynb)  provides a brief introduction.  \n"
   ]
  },
  {
   "cell_type": "markdown",
   "metadata": {
    "id": "Dl9NDxDR1Dh6"
   },
   "source": [
    "# Simulating the (passive) iiwa\n",
    "\n",
    "Let's load our robot of choice (the Kuka iiwa) into the physics engine, which we call [MultibodyPlant](https://drake.mit.edu/doxygen_cxx/classdrake_1_1multibody_1_1_multibody_plant.html).\n"
   ]
  },
  {
   "cell_type": "code",
   "execution_count": 4,
   "metadata": {
    "id": "DyfpxsGR1Dh6"
   },
   "outputs": [],
   "source": [
    "plant = MultibodyPlant(time_step=1e-4)\n",
    "parser = Parser(plant)\n",
    "parser.AddModelFromFile(\n",
    "        FindResourceOrThrow(\"drake/manipulation/models/iiwa_description/sdf/iiwa14_no_collision.sdf\"))\n",
    "plant.WeldFrames(plant.world_frame(), plant.GetFrameByName(\"iiwa_link_0\"))\n",
    "o = parser.AddModelFromFile(\"paddle.sdf\")\n",
    "plant.WeldFrames(plant.GetFrameByName(\"iiwa_link_7\"), plant.GetFrameByName(\"base_link\", o))\n",
    "\n",
    "plant.Finalize()"
   ]
  },
  {
   "cell_type": "markdown",
   "metadata": {
    "id": "H3G-pTB5bit8"
   },
   "source": [
    "In Drake, we are very careful to separate the *state* of a system from the system itself.  For example, let's think of a dynamical system as given by the difference equation: $$x[n+1] = f(n, x[n], u[n]),$$ where $n$ is the \"time\", $x$ is the state, and $u$ is any inputs to the system.  The `System` describes $f()$, but we use a structure called the [`Context`](https://drake.mit.edu/doxygen_cxx/classdrake_1_1systems_1_1_context.html) to hold the runtime values: $n, x, u$.  We use a structure, because some systems have even more runtime values, that describe system parameters, random noise inputs, etc, and it is cleaner to pass a structure around than have each system accept a different list of possible inputs.  As a rule `System` is constant over the duration of a simulation, and you should be able to obtain repeatable, deterministic simulations given any value `Context`.\n",
    "\n",
    "Let's see what the `Context` looks like for the physics engine now that we've loaded the iiwa into it."
   ]
  },
  {
   "cell_type": "code",
   "execution_count": 5,
   "metadata": {
    "colab": {
     "base_uri": "https://localhost:8080/"
    },
    "id": "P8HoF2KPdXNL",
    "outputId": "5d0371aa-ed78-4a40-c7fa-9ebb05241c08",
    "scrolled": true
   },
   "outputs": [
    {
     "name": "stdout",
     "output_type": "stream",
     "text": [
      "::_ Context\n",
      "------------\n",
      "Time: 0\n",
      "States:\n",
      "  1 discrete state groups with\n",
      "     14 states\n",
      "       0 0 0 0 0 0 0 0 0 0 0 0 0 0\n",
      "\n",
      "Parameters:\n",
      "  26 numeric parameter groups with\n",
      "     10 parameters\n",
      "       nan nan nan nan nan nan nan nan nan nan\n",
      "     10 parameters\n",
      "            5   -0.1      0   0.07 0.0149 0.0269  0.016      0  0.007      0\n",
      "     10 parameters\n",
      "             5.76          0      -0.03       0.12  0.0210292  0.0201812 0.00303542          0          0     0.0036\n",
      "     10 parameters\n",
      "             6.35     0.0003      0.059      0.042  0.0100481 0.00655149 0.00521337  -1.77e-05  -1.26e-05  -0.002478\n",
      "     10 parameters\n",
      "              3.5          0       0.03       0.13  0.0249429     0.0237 0.00307143          0          0    -0.0039\n",
      "     10 parameters\n",
      "              3.5          0      0.067      0.034  0.0105021 0.00584171 0.00620329          0          0  -0.002278\n",
      "     10 parameters\n",
      "              3.5     0.0001      0.021      0.076 0.00907414 0.00826172 0.00172387   -2.1e-06   -7.6e-06  -0.001596\n",
      "     10 parameters\n",
      "              1.8          0     0.0006     0.0004 0.00272274 0.00261127 0.00200036          0          0   -2.4e-07\n",
      "     10 parameters\n",
      "               1.2           0           0        0.02  0.00123333  0.00123333 0.000833333           0           0           0\n",
      "     10 parameters\n",
      "       1 0 0 0 1 1 1 0 0 0\n",
      "     12 parameters\n",
      "        1  0  0  0  1  0  0  0  1 -0 -0 -0\n",
      "     12 parameters\n",
      "            1      0      0      0      1      0      0      0      1      0      0 0.1575\n",
      "     12 parameters\n",
      "       1 0 0 0 1 0 0 0 1 0 0 0\n",
      "     12 parameters\n",
      "                 -1  1.22465e-16            0  6.16298e-32  4.44089e-16            1  1.22465e-16            1 -4.44089e-16            0            0       0.2025\n",
      "     12 parameters\n",
      "                 1           0           0           0           1           0           0           0           1 7.70372e-34 2.77556e-17 2.77556e-17\n",
      "     12 parameters\n",
      "                 -1  1.22465e-16            0  6.16298e-32  4.44089e-16            1  1.22465e-16            1 -4.44089e-16            0       0.2045            0\n",
      "     12 parameters\n",
      "                  1  -1.2326e-32 -2.46519e-32   1.2326e-32            1 -1.51929e-64  2.46519e-32 -1.51929e-64            1            0            0 -5.55112e-17\n",
      "     12 parameters\n",
      "                  1            0            0            0 -4.44089e-16            1            0           -1 -4.44089e-16  -1.2326e-32            0       0.2155\n",
      "     12 parameters\n",
      "                  1  1.27639e-32 -1.27639e-32 -1.27639e-32            1  8.14591e-65  1.27639e-32  8.14591e-65            1 -2.75063e-33            0 -2.77556e-17\n",
      "     12 parameters\n",
      "                 -1            0 -1.22465e-16 -1.22465e-16 -4.44089e-16            1 -6.16298e-32            1  4.44089e-16  1.37389e-32       0.1845 -5.55112e-17\n",
      "     12 parameters\n",
      "                  1 -7.39557e-32  -1.2326e-32  7.39557e-32            1 -4.55787e-64   1.2326e-32 -4.55787e-64            1 -1.15556e-32 -5.81757e-17            0\n",
      "     12 parameters\n",
      "                  1            0            0            0 -4.44089e-16            1            0           -1 -4.44089e-16  -1.2326e-32            0       0.2155\n",
      "     12 parameters\n",
      "                  1 -8.21073e-48 -3.48631e-32  8.21073e-48            1 -1.43126e-79  3.48631e-32 -1.43126e-79            1  2.46519e-32            0 -2.77556e-17\n",
      "     12 parameters\n",
      "                 -1            0 -1.22465e-16 -1.22465e-16 -4.44089e-16            1 -6.16298e-32            1  4.44089e-16  3.69779e-32        0.081            0\n",
      "     12 parameters\n",
      "                  1 -2.46519e-32  3.69779e-32  2.46519e-32            1  4.55787e-64 -3.69779e-32  4.55787e-64            1  2.15704e-32  2.08167e-17  4.16334e-17\n",
      "     12 parameters\n",
      "        1  0  0  0  1  0  0  0  1 -0 -0 -0\n",
      "\n"
     ]
    }
   ],
   "source": [
    "context = plant.CreateDefaultContext()\n",
    "print(context)"
   ]
  },
  {
   "cell_type": "markdown",
   "metadata": {
    "id": "vr80vD3Be7uZ"
   },
   "source": [
    "The system has 14 state variables -- these are the 7 joint positions and 7 joint velocities for the iiwa.  Those states are discrete, because we passed a non-zero `time_step` to the constructor of the `MultibodyPlant`, which means the physics engine will be use a time-stepping simulation scheme (this will be the most performant when we start simulating contact).  Go ahead and try changing `time_step` to zero, and see what happens.\n",
    "\n",
    "You'll notice the context has lots of parameters (currently these include the mass, the center of mass, and the inertia of each body).  You won't need those any time soon, but it does enable some super cool advanced features.\n",
    "\n",
    "Because the `Context` for a `MultibodyPlant` can get quite complicated, `MultibodyPlant` offers some methods that help you get/set the values.  Let's set some non-zero initial positions."
   ]
  },
  {
   "cell_type": "code",
   "execution_count": 6,
   "metadata": {
    "colab": {
     "base_uri": "https://localhost:8080/"
    },
    "id": "73whw6YZf9PP",
    "outputId": "ad5b8b7e-8a8c-4c67-e2b0-645cf794fc13"
   },
   "outputs": [
    {
     "name": "stdout",
     "output_type": "stream",
     "text": [
      "::_ Context\n",
      "------------\n",
      "Time: 0\n",
      "States:\n",
      "  1 discrete state groups with\n",
      "     14 states\n",
      "       -1.57   0.1     0  -1.2     0   1.6     0     0     0     0     0     0     0     0\n",
      "\n",
      "Parameters:\n",
      "  26 numeric parameter groups with\n",
      "     10 parameters\n",
      "       nan nan nan nan nan nan nan nan nan nan\n",
      "     10 parameters\n",
      "            5   -0.1      0   0.07 0.0149 0.0269  0.016      0  0.007      0\n",
      "     10 parameters\n",
      "             5.76          0      -0.03       0.12  0.0210292  0.0201812 0.00303542          0          0     0.0036\n",
      "     10 parameters\n",
      "             6.35     0.0003      0.059      0.042  0.0100481 0.00655149 0.00521337  -1.77e-05  -1.26e-05  -0.002478\n",
      "     10 parameters\n",
      "              3.5          0       0.03       0.13  0.0249429     0.0237 0.00307143          0          0    -0.0039\n",
      "     10 parameters\n",
      "              3.5          0      0.067      0.034  0.0105021 0.00584171 0.00620329          0          0  -0.002278\n",
      "     10 parameters\n",
      "              3.5     0.0001      0.021      0.076 0.00907414 0.00826172 0.00172387   -2.1e-06   -7.6e-06  -0.001596\n",
      "     10 parameters\n",
      "              1.8          0     0.0006     0.0004 0.00272274 0.00261127 0.00200036          0          0   -2.4e-07\n",
      "     10 parameters\n",
      "               1.2           0           0        0.02  0.00123333  0.00123333 0.000833333           0           0           0\n",
      "     10 parameters\n",
      "       1 0 0 0 1 1 1 0 0 0\n",
      "     12 parameters\n",
      "        1  0  0  0  1  0  0  0  1 -0 -0 -0\n",
      "     12 parameters\n",
      "            1      0      0      0      1      0      0      0      1      0      0 0.1575\n",
      "     12 parameters\n",
      "       1 0 0 0 1 0 0 0 1 0 0 0\n",
      "     12 parameters\n",
      "                 -1  1.22465e-16            0  6.16298e-32  4.44089e-16            1  1.22465e-16            1 -4.44089e-16            0            0       0.2025\n",
      "     12 parameters\n",
      "                 1           0           0           0           1           0           0           0           1 7.70372e-34 2.77556e-17 2.77556e-17\n",
      "     12 parameters\n",
      "                 -1  1.22465e-16            0  6.16298e-32  4.44089e-16            1  1.22465e-16            1 -4.44089e-16            0       0.2045            0\n",
      "     12 parameters\n",
      "                  1  -1.2326e-32 -2.46519e-32   1.2326e-32            1 -1.51929e-64  2.46519e-32 -1.51929e-64            1            0            0 -5.55112e-17\n",
      "     12 parameters\n",
      "                  1            0            0            0 -4.44089e-16            1            0           -1 -4.44089e-16  -1.2326e-32            0       0.2155\n",
      "     12 parameters\n",
      "                  1  1.27639e-32 -1.27639e-32 -1.27639e-32            1  8.14591e-65  1.27639e-32  8.14591e-65            1 -2.75063e-33            0 -2.77556e-17\n",
      "     12 parameters\n",
      "                 -1            0 -1.22465e-16 -1.22465e-16 -4.44089e-16            1 -6.16298e-32            1  4.44089e-16  1.37389e-32       0.1845 -5.55112e-17\n",
      "     12 parameters\n",
      "                  1 -7.39557e-32  -1.2326e-32  7.39557e-32            1 -4.55787e-64   1.2326e-32 -4.55787e-64            1 -1.15556e-32 -5.81757e-17            0\n",
      "     12 parameters\n",
      "                  1            0            0            0 -4.44089e-16            1            0           -1 -4.44089e-16  -1.2326e-32            0       0.2155\n",
      "     12 parameters\n",
      "                  1 -8.21073e-48 -3.48631e-32  8.21073e-48            1 -1.43126e-79  3.48631e-32 -1.43126e-79            1  2.46519e-32            0 -2.77556e-17\n",
      "     12 parameters\n",
      "                 -1            0 -1.22465e-16 -1.22465e-16 -4.44089e-16            1 -6.16298e-32            1  4.44089e-16  3.69779e-32        0.081            0\n",
      "     12 parameters\n",
      "                  1 -2.46519e-32  3.69779e-32  2.46519e-32            1  4.55787e-64 -3.69779e-32  4.55787e-64            1  2.15704e-32  2.08167e-17  4.16334e-17\n",
      "     12 parameters\n",
      "        1  0  0  0  1  0  0  0  1 -0 -0 -0\n",
      "\n"
     ]
    }
   ],
   "source": [
    "# Set all of the joint positions at once in a single vector.\n",
    "plant.SetPositions(context, [-1.57, 0.1, 0, 0, 0, 1.6, 0])\n",
    "# You can also set them by referencing particular joints.\n",
    "plant.GetJointByName(\"iiwa_joint_4\").set_angle(context, -1.2)\n",
    "print(context)"
   ]
  },
  {
   "cell_type": "markdown",
   "metadata": {
    "id": "LpQlGh1Ai27g"
   },
   "source": [
    "The iiwa model also defined 7 actuators.  Before we can run a simulation, we need to provide some values for those inputs to the `MultibodyPlant` `actuation_input_port`.  For this warm-up, we'll just set them to zero."
   ]
  },
  {
   "cell_type": "code",
   "execution_count": 7,
   "metadata": {
    "id": "dJx-KrGUjR8x"
   },
   "outputs": [],
   "source": [
    "plant.get_actuation_input_port().FixValue(context, np.zeros(7));"
   ]
  },
  {
   "cell_type": "markdown",
   "metadata": {
    "id": "zqb66IBcierZ"
   },
   "source": [
    "Now we can set up and run a simulation."
   ]
  },
  {
   "cell_type": "code",
   "execution_count": 8,
   "metadata": {
    "colab": {
     "base_uri": "https://localhost:8080/"
    },
    "id": "6DYEtGbtimit",
    "outputId": "0e3c6354-0f4e-41bf-9c41-96422da6346c"
   },
   "outputs": [
    {
     "name": "stdout",
     "output_type": "stream",
     "text": [
      "::_ Context\n",
      "------------\n",
      "Time: 5\n",
      "States:\n",
      "  1 discrete state groups with\n",
      "     14 states\n",
      "            2.88681      2.09586     -2.96734     0.838911       2.2249     0.545279    -0.360448      1.71468 -0.000993183  0.000803674      -1.0084     -2.17564      1.10488      3.21533\n",
      "\n",
      "Parameters:\n",
      "  26 numeric parameter groups with\n",
      "     10 parameters\n",
      "       nan nan nan nan nan nan nan nan nan nan\n",
      "     10 parameters\n",
      "            5   -0.1      0   0.07 0.0149 0.0269  0.016      0  0.007      0\n",
      "     10 parameters\n",
      "             5.76          0      -0.03       0.12  0.0210292  0.0201812 0.00303542          0          0     0.0036\n",
      "     10 parameters\n",
      "             6.35     0.0003      0.059      0.042  0.0100481 0.00655149 0.00521337  -1.77e-05  -1.26e-05  -0.002478\n",
      "     10 parameters\n",
      "              3.5          0       0.03       0.13  0.0249429     0.0237 0.00307143          0          0    -0.0039\n",
      "     10 parameters\n",
      "              3.5          0      0.067      0.034  0.0105021 0.00584171 0.00620329          0          0  -0.002278\n",
      "     10 parameters\n",
      "              3.5     0.0001      0.021      0.076 0.00907414 0.00826172 0.00172387   -2.1e-06   -7.6e-06  -0.001596\n",
      "     10 parameters\n",
      "              1.8          0     0.0006     0.0004 0.00272274 0.00261127 0.00200036          0          0   -2.4e-07\n",
      "     10 parameters\n",
      "               1.2           0           0        0.02  0.00123333  0.00123333 0.000833333           0           0           0\n",
      "     10 parameters\n",
      "       1 0 0 0 1 1 1 0 0 0\n",
      "     12 parameters\n",
      "        1  0  0  0  1  0  0  0  1 -0 -0 -0\n",
      "     12 parameters\n",
      "            1      0      0      0      1      0      0      0      1      0      0 0.1575\n",
      "     12 parameters\n",
      "       1 0 0 0 1 0 0 0 1 0 0 0\n",
      "     12 parameters\n",
      "                 -1  1.22465e-16            0  6.16298e-32  4.44089e-16            1  1.22465e-16            1 -4.44089e-16            0            0       0.2025\n",
      "     12 parameters\n",
      "                 1           0           0           0           1           0           0           0           1 7.70372e-34 2.77556e-17 2.77556e-17\n",
      "     12 parameters\n",
      "                 -1  1.22465e-16            0  6.16298e-32  4.44089e-16            1  1.22465e-16            1 -4.44089e-16            0       0.2045            0\n",
      "     12 parameters\n",
      "                  1  -1.2326e-32 -2.46519e-32   1.2326e-32            1 -1.51929e-64  2.46519e-32 -1.51929e-64            1            0            0 -5.55112e-17\n",
      "     12 parameters\n",
      "                  1            0            0            0 -4.44089e-16            1            0           -1 -4.44089e-16  -1.2326e-32            0       0.2155\n",
      "     12 parameters\n",
      "                  1  1.27639e-32 -1.27639e-32 -1.27639e-32            1  8.14591e-65  1.27639e-32  8.14591e-65            1 -2.75063e-33            0 -2.77556e-17\n",
      "     12 parameters\n",
      "                 -1            0 -1.22465e-16 -1.22465e-16 -4.44089e-16            1 -6.16298e-32            1  4.44089e-16  1.37389e-32       0.1845 -5.55112e-17\n",
      "     12 parameters\n",
      "                  1 -7.39557e-32  -1.2326e-32  7.39557e-32            1 -4.55787e-64   1.2326e-32 -4.55787e-64            1 -1.15556e-32 -5.81757e-17            0\n",
      "     12 parameters\n",
      "                  1            0            0            0 -4.44089e-16            1            0           -1 -4.44089e-16  -1.2326e-32            0       0.2155\n",
      "     12 parameters\n",
      "                  1 -8.21073e-48 -3.48631e-32  8.21073e-48            1 -1.43126e-79  3.48631e-32 -1.43126e-79            1  2.46519e-32            0 -2.77556e-17\n",
      "     12 parameters\n",
      "                 -1            0 -1.22465e-16 -1.22465e-16 -4.44089e-16            1 -6.16298e-32            1  4.44089e-16  3.69779e-32        0.081            0\n",
      "     12 parameters\n",
      "                  1 -2.46519e-32  3.69779e-32  2.46519e-32            1  4.55787e-64 -3.69779e-32  4.55787e-64            1  2.15704e-32  2.08167e-17  4.16334e-17\n",
      "     12 parameters\n",
      "        1  0  0  0  1  0  0  0  1 -0 -0 -0\n",
      "\n"
     ]
    }
   ],
   "source": [
    "simulator = Simulator(plant, context)\n",
    "simulator.AdvanceTo(5.0)\n",
    "print(context)"
   ]
  },
  {
   "cell_type": "markdown",
   "metadata": {
    "id": "8ZKEl1QU1Dh9"
   },
   "source": [
    "# Visualizing the scene\n",
    "\n",
    "The best way to visualize the results of a physics engine is with a 2D or 3D visualizer. For that, we need to add the system which curates the geometry of a scene (the geometry engine); in Drake with call it the [`SceneGraph`](https://drake.mit.edu/doxygen_cxx/classdrake_1_1geometry_1_1_scene_graph.html). Once we have a `SceneGraph`, then there are a number of different visualizers and sensors that we can add to the system to actually render the scene.\n",
    "\n",
    "We support a number of visualizers in drake (we ship a simple VTK-based \"drake-visualizer\" with our binary releases, or you can use RViz).  But because we're working in a jupyter notebook, and want you to be able to run 3D graphics on any machine without any installation required, we'll use the [MeshCat](https://github.com/rdeits/meshcat) visualizer throughout these notes.  \n",
    "\n",
    "To use all three systems (`MultibodyPlant`, `SceneGraph`, and `MeshcatVisualizer`), we need to assemble them into a [`Diagram`](https://drake.mit.edu/doxygen_cxx/classdrake_1_1systems_1_1_diagram.html) using a [`DiagramBuilder`](https://drake.mit.edu/doxygen_cxx/classdrake_1_1systems_1_1_diagram_builder.html).  Often you would add each system and then connect the ports together, but for common cases like we have here, we provide helper methods to reduce the boilerplate."
   ]
  },
  {
   "cell_type": "code",
   "execution_count": 9,
   "metadata": {
    "colab": {
     "base_uri": "https://localhost:8080/"
    },
    "id": "WkfjAgrL1Dh-",
    "outputId": "3ea91f96-5b08-4514-d6dc-32872e66ff2d"
   },
   "outputs": [
    {
     "name": "stdout",
     "output_type": "stream",
     "text": [
      "Connecting to meshcat-server at zmq_url=tcp://127.0.0.1:6000...\n",
      "You can open the visualizer by visiting the following URL:\n",
      "http://127.0.0.1:7000/static/\n",
      "Connected to meshcat-server.\n"
     ]
    }
   ],
   "source": [
    "builder = DiagramBuilder()\n",
    "\n",
    "# Adds both MultibodyPlant and the SceneGraph, and wires them together.\n",
    "plant, scene_graph = AddMultibodyPlantSceneGraph(builder, time_step=1e-4)\n",
    "# Note that we parse into both the plant and the scene_graph here.\n",
    "parser = Parser(plant)\n",
    "parser.AddModelFromFile(\n",
    "        FindResourceOrThrow(\"drake/manipulation/models/iiwa_description/sdf/iiwa14_no_collision.sdf\"))\n",
    "plant.WeldFrames(plant.world_frame(), plant.GetFrameByName(\"iiwa_link_0\"))\n",
    "o = parser.AddModelFromFile(\"paddle.sdf\")\n",
    "plant.WeldFrames(plant.GetFrameByName(\"iiwa_link_7\"), plant.GetFrameByName(\"base_link\", o))\n",
    "plant.Finalize()\n",
    "\n",
    "# Adds the MeshcatVisualizer and wires it to the SceneGraph.\n",
    "meshcat = ConnectMeshcatVisualizer(builder, scene_graph, zmq_url=zmq_url)\n",
    "\n",
    "diagram = builder.Build()"
   ]
  },
  {
   "cell_type": "markdown",
   "metadata": {
    "id": "Rm4kVRMS1DiF"
   },
   "source": [
    "If you click on the link above, you can open a browser window to see the visualization.\n",
    "\n",
    "But the scene will be empty so far.  We need to actually construct the diagram and ask it to publish.  (You normally don't have to call these; MeshcatVisualizer will automatically load at initialization and publish on a fixed period during simulation)."
   ]
  },
  {
   "cell_type": "code",
   "execution_count": 10,
   "metadata": {
    "id": "2YMNZBi11DiN"
   },
   "outputs": [],
   "source": [
    "context = diagram.CreateDefaultContext()\n",
    "meshcat.load()\n",
    "diagram.Publish(context)"
   ]
  },
  {
   "cell_type": "markdown",
   "metadata": {
    "id": "kPcyp3zv1Dir"
   },
   "source": [
    "We've put together quite a complex system now.  A `Diagram` is just another `System`, so it has an associated context."
   ]
  },
  {
   "cell_type": "code",
   "execution_count": 11,
   "metadata": {
    "colab": {
     "base_uri": "https://localhost:8080/"
    },
    "id": "Kr9BgEkcCQaZ",
    "outputId": "f75e0f4d-1338-4ae1-ea3b-622f4a4acf8c"
   },
   "outputs": [
    {
     "name": "stdout",
     "output_type": "stream",
     "text": [
      "::_ Context (of a Diagram)\n",
      "---------------------------\n",
      "14 total discrete states in 1 groups\n",
      "292 total numeric parameters in 26 groups\n",
      "1 total abstract parameters\n",
      "\n",
      "::_::plant Context\n",
      "-------------------\n",
      "Time: 0\n",
      "States:\n",
      "  1 discrete state groups with\n",
      "     14 states\n",
      "       0 0 0 0 0 0 0 0 0 0 0 0 0 0\n",
      "\n",
      "Parameters:\n",
      "  26 numeric parameter groups with\n",
      "     10 parameters\n",
      "       nan nan nan nan nan nan nan nan nan nan\n",
      "     10 parameters\n",
      "            5   -0.1      0   0.07 0.0149 0.0269  0.016      0  0.007      0\n",
      "     10 parameters\n",
      "             5.76          0      -0.03       0.12  0.0210292  0.0201812 0.00303542          0          0     0.0036\n",
      "     10 parameters\n",
      "             6.35     0.0003      0.059      0.042  0.0100481 0.00655149 0.00521337  -1.77e-05  -1.26e-05  -0.002478\n",
      "     10 parameters\n",
      "              3.5          0       0.03       0.13  0.0249429     0.0237 0.00307143          0          0    -0.0039\n",
      "     10 parameters\n",
      "              3.5          0      0.067      0.034  0.0105021 0.00584171 0.00620329          0          0  -0.002278\n",
      "     10 parameters\n",
      "              3.5     0.0001      0.021      0.076 0.00907414 0.00826172 0.00172387   -2.1e-06   -7.6e-06  -0.001596\n",
      "     10 parameters\n",
      "              1.8          0     0.0006     0.0004 0.00272274 0.00261127 0.00200036          0          0   -2.4e-07\n",
      "     10 parameters\n",
      "               1.2           0           0        0.02  0.00123333  0.00123333 0.000833333           0           0           0\n",
      "     10 parameters\n",
      "       1 0 0 0 1 1 1 0 0 0\n",
      "     12 parameters\n",
      "        1  0  0  0  1  0  0  0  1 -0 -0 -0\n",
      "     12 parameters\n",
      "            1      0      0      0      1      0      0      0      1      0      0 0.1575\n",
      "     12 parameters\n",
      "       1 0 0 0 1 0 0 0 1 0 0 0\n",
      "     12 parameters\n",
      "                 -1  1.22465e-16            0  6.16298e-32  4.44089e-16            1  1.22465e-16            1 -4.44089e-16            0            0       0.2025\n",
      "     12 parameters\n",
      "                 1           0           0           0           1           0           0           0           1 7.70372e-34 2.77556e-17 2.77556e-17\n",
      "     12 parameters\n",
      "                 -1  1.22465e-16            0  6.16298e-32  4.44089e-16            1  1.22465e-16            1 -4.44089e-16            0       0.2045            0\n",
      "     12 parameters\n",
      "                  1  -1.2326e-32 -2.46519e-32   1.2326e-32            1 -1.51929e-64  2.46519e-32 -1.51929e-64            1            0            0 -5.55112e-17\n",
      "     12 parameters\n",
      "                  1            0            0            0 -4.44089e-16            1            0           -1 -4.44089e-16  -1.2326e-32            0       0.2155\n",
      "     12 parameters\n",
      "                  1  1.27639e-32 -1.27639e-32 -1.27639e-32            1  8.14591e-65  1.27639e-32  8.14591e-65            1 -2.75063e-33            0 -2.77556e-17\n",
      "     12 parameters\n",
      "                 -1            0 -1.22465e-16 -1.22465e-16 -4.44089e-16            1 -6.16298e-32            1  4.44089e-16  1.37389e-32       0.1845 -5.55112e-17\n",
      "     12 parameters\n",
      "                  1 -7.39557e-32  -1.2326e-32  7.39557e-32            1 -4.55787e-64   1.2326e-32 -4.55787e-64            1 -1.15556e-32 -5.81757e-17            0\n",
      "     12 parameters\n",
      "                  1            0            0            0 -4.44089e-16            1            0           -1 -4.44089e-16  -1.2326e-32            0       0.2155\n",
      "     12 parameters\n",
      "                  1 -8.21073e-48 -3.48631e-32  8.21073e-48            1 -1.43126e-79  3.48631e-32 -1.43126e-79            1  2.46519e-32            0 -2.77556e-17\n",
      "     12 parameters\n",
      "                 -1            0 -1.22465e-16 -1.22465e-16 -4.44089e-16            1 -6.16298e-32            1  4.44089e-16  3.69779e-32        0.081            0\n",
      "     12 parameters\n",
      "                  1 -2.46519e-32  3.69779e-32  2.46519e-32            1  4.55787e-64 -3.69779e-32  4.55787e-64            1  2.15704e-32  2.08167e-17  4.16334e-17\n",
      "     12 parameters\n",
      "        1  0  0  0  1  0  0  0  1 -0 -0 -0\n",
      "\n",
      "::_::scene_graph Context\n",
      "-------------------------\n",
      "Time: 0\n",
      "Parameters:\n",
      "  1 abstract parameters\n",
      "\n"
     ]
    }
   ],
   "source": [
    "print(context)"
   ]
  },
  {
   "cell_type": "markdown",
   "metadata": {
    "id": "gu6_NRm_Cl-O"
   },
   "source": [
    "You can see that there is one additional \"abstract state\" from the `SceneGraph`.  `MeshcatVisualizer` is stateless.  Actually `SceneGraph` should really be stateless for these simple examples, too [#9501](https://github.com/RobotLocomotion/drake/issues/9501).\n",
    "\n",
    "It's also very useful to draw the actual block diagram."
   ]
  },
  {
   "cell_type": "markdown",
   "metadata": {
    "id": "5OwrpdeGE5aa"
   },
   "source": [
    "There is one more important detail: **The `Context` for the `Diagram` is not the `Context` of the `MultibodyPlant`**.  But you can extract the plant `Context`; and we need to in order to set the initial conditions of the robot."
   ]
  },
  {
   "cell_type": "code",
   "execution_count": 12,
   "metadata": {
    "colab": {
     "base_uri": "https://localhost:8080/"
    },
    "id": "aA5dasXyFWXo",
    "outputId": "e9d6534c-81c6-43cd-b7fd-700c37523f7d"
   },
   "outputs": [
    {
     "name": "stdout",
     "output_type": "stream",
     "text": [
      "::_ Context (of a Diagram)\n",
      "---------------------------\n",
      "14 total discrete states in 1 groups\n",
      "292 total numeric parameters in 26 groups\n",
      "1 total abstract parameters\n",
      "\n",
      "::_::plant Context\n",
      "-------------------\n",
      "Time: 0\n",
      "States:\n",
      "  1 discrete state groups with\n",
      "     14 states\n",
      "       -1.57   0.1     0  -1.2     0   1.6     0     0     0     0     0     0     0     0\n",
      "\n",
      "Parameters:\n",
      "  26 numeric parameter groups with\n",
      "     10 parameters\n",
      "       nan nan nan nan nan nan nan nan nan nan\n",
      "     10 parameters\n",
      "            5   -0.1      0   0.07 0.0149 0.0269  0.016      0  0.007      0\n",
      "     10 parameters\n",
      "             5.76          0      -0.03       0.12  0.0210292  0.0201812 0.00303542          0          0     0.0036\n",
      "     10 parameters\n",
      "             6.35     0.0003      0.059      0.042  0.0100481 0.00655149 0.00521337  -1.77e-05  -1.26e-05  -0.002478\n",
      "     10 parameters\n",
      "              3.5          0       0.03       0.13  0.0249429     0.0237 0.00307143          0          0    -0.0039\n",
      "     10 parameters\n",
      "              3.5          0      0.067      0.034  0.0105021 0.00584171 0.00620329          0          0  -0.002278\n",
      "     10 parameters\n",
      "              3.5     0.0001      0.021      0.076 0.00907414 0.00826172 0.00172387   -2.1e-06   -7.6e-06  -0.001596\n",
      "     10 parameters\n",
      "              1.8          0     0.0006     0.0004 0.00272274 0.00261127 0.00200036          0          0   -2.4e-07\n",
      "     10 parameters\n",
      "               1.2           0           0        0.02  0.00123333  0.00123333 0.000833333           0           0           0\n",
      "     10 parameters\n",
      "       1 0 0 0 1 1 1 0 0 0\n",
      "     12 parameters\n",
      "        1  0  0  0  1  0  0  0  1 -0 -0 -0\n",
      "     12 parameters\n",
      "            1      0      0      0      1      0      0      0      1      0      0 0.1575\n",
      "     12 parameters\n",
      "       1 0 0 0 1 0 0 0 1 0 0 0\n",
      "     12 parameters\n",
      "                 -1  1.22465e-16            0  6.16298e-32  4.44089e-16            1  1.22465e-16            1 -4.44089e-16            0            0       0.2025\n",
      "     12 parameters\n",
      "                 1           0           0           0           1           0           0           0           1 7.70372e-34 2.77556e-17 2.77556e-17\n",
      "     12 parameters\n",
      "                 -1  1.22465e-16            0  6.16298e-32  4.44089e-16            1  1.22465e-16            1 -4.44089e-16            0       0.2045            0\n",
      "     12 parameters\n",
      "                  1  -1.2326e-32 -2.46519e-32   1.2326e-32            1 -1.51929e-64  2.46519e-32 -1.51929e-64            1            0            0 -5.55112e-17\n",
      "     12 parameters\n",
      "                  1            0            0            0 -4.44089e-16            1            0           -1 -4.44089e-16  -1.2326e-32            0       0.2155\n",
      "     12 parameters\n",
      "                  1  1.27639e-32 -1.27639e-32 -1.27639e-32            1  8.14591e-65  1.27639e-32  8.14591e-65            1 -2.75063e-33            0 -2.77556e-17\n",
      "     12 parameters\n",
      "                 -1            0 -1.22465e-16 -1.22465e-16 -4.44089e-16            1 -6.16298e-32            1  4.44089e-16  1.37389e-32       0.1845 -5.55112e-17\n",
      "     12 parameters\n",
      "                  1 -7.39557e-32  -1.2326e-32  7.39557e-32            1 -4.55787e-64   1.2326e-32 -4.55787e-64            1 -1.15556e-32 -5.81757e-17            0\n",
      "     12 parameters\n",
      "                  1            0            0            0 -4.44089e-16            1            0           -1 -4.44089e-16  -1.2326e-32            0       0.2155\n",
      "     12 parameters\n",
      "                  1 -8.21073e-48 -3.48631e-32  8.21073e-48            1 -1.43126e-79  3.48631e-32 -1.43126e-79            1  2.46519e-32            0 -2.77556e-17\n",
      "     12 parameters\n",
      "                 -1            0 -1.22465e-16 -1.22465e-16 -4.44089e-16            1 -6.16298e-32            1  4.44089e-16  3.69779e-32        0.081            0\n",
      "     12 parameters\n",
      "                  1 -2.46519e-32  3.69779e-32  2.46519e-32            1  4.55787e-64 -3.69779e-32  4.55787e-64            1  2.15704e-32  2.08167e-17  4.16334e-17\n",
      "     12 parameters\n",
      "        1  0  0  0  1  0  0  0  1 -0 -0 -0\n",
      "\n",
      "::_::scene_graph Context\n",
      "-------------------------\n",
      "Time: 0\n",
      "Parameters:\n",
      "  1 abstract parameters\n",
      "\n"
     ]
    }
   ],
   "source": [
    "plant_context = plant.GetMyMutableContextFromRoot(context)\n",
    "plant.SetPositions(plant_context, [-1.57, 0.1, 0, -1.2, 0, 1.6, 0])\n",
    "plant.get_actuation_input_port().FixValue(plant_context, np.zeros(7))\n",
    "print(context)"
   ]
  },
  {
   "cell_type": "markdown",
   "metadata": {
    "id": "Js2ulEaFF0yD"
   },
   "source": [
    "Accidentally using `context` instead of `plant_context` is a very common mistake!\n",
    "\n",
    "Ok, now we're ready to simulate.  Make sure your visualizer window is visible, then run the following cell."
   ]
  },
  {
   "cell_type": "code",
   "execution_count": 13,
   "metadata": {
    "colab": {
     "base_uri": "https://localhost:8080/",
     "height": 215
    },
    "id": "ZySlXAKSGLaS",
    "outputId": "a3daed35-2e84-47be-e961-3d9a8148d1ba"
   },
   "outputs": [
    {
     "data": {
      "text/plain": [
       "<pydrake.systems.analysis.SimulatorStatus at 0x7f6a7dc88df0>"
      ]
     },
     "execution_count": 13,
     "metadata": {},
     "output_type": "execute_result"
    }
   ],
   "source": [
    "simulator = Simulator(diagram, context)\n",
    "simulator.set_target_realtime_rate(1.0)\n",
    "simulator.AdvanceTo(5.0 if running_as_notebook else 0.1)"
   ]
  },
  {
   "cell_type": "markdown",
   "metadata": {
    "id": "Fdkx17YxGPSz"
   },
   "source": [
    "Glorious!\n",
    "\n",
    "Here's one more trick.  You can ask MeshCat to record the animation, and then review it in the visualizer.  I'll repeat the preamble here to make this cell stand-alone.  (Plus we cannot reuse a system in multiple diagrams; the ownership is restricted)."
   ]
  },
  {
   "cell_type": "code",
   "execution_count": 14,
   "metadata": {
    "colab": {
     "base_uri": "https://localhost:8080/"
    },
    "id": "HUeu3reLWw_H",
    "outputId": "7f1d5210-162e-4974-a49c-cd5b6c2d8046"
   },
   "outputs": [
    {
     "name": "stdout",
     "output_type": "stream",
     "text": [
      "Connecting to meshcat-server at zmq_url=tcp://127.0.0.1:6000...\n",
      "You can open the visualizer by visiting the following URL:\n",
      "http://127.0.0.1:7000/static/\n",
      "Connected to meshcat-server.\n"
     ]
    }
   ],
   "source": [
    "builder = DiagramBuilder()\n",
    "\n",
    "# Adds both MultibodyPlant and the SceneGraph, and wires them together.\n",
    "plant, scene_graph = AddMultibodyPlantSceneGraph(builder, time_step=1e-4)\n",
    "# Note that we parse into both the plant and the scene_graph here.\n",
    "parser = Parser(plant)\n",
    "parser.AddModelFromFile(\n",
    "        FindResourceOrThrow(\"drake/manipulation/models/iiwa_description/sdf/iiwa14_no_collision.sdf\"))\n",
    "plant.WeldFrames(plant.world_frame(), plant.GetFrameByName(\"iiwa_link_0\"))\n",
    "o = parser.AddModelFromFile(\"paddle.sdf\")\n",
    "plant.WeldFrames(plant.GetFrameByName(\"iiwa_link_7\"), plant.GetFrameByName(\"base_link\", o))\n",
    "plant.Finalize()\n",
    "\n",
    "# Adds the MeshcatVisualizer and wires it to the SceneGraph.\n",
    "meshcat = ConnectMeshcatVisualizer(builder, scene_graph, zmq_url=zmq_url, delete_prefix_on_load=False)\n",
    "\n",
    "diagram = builder.Build()\n",
    "context = diagram.CreateDefaultContext()\n",
    "plant_context = plant.GetMyMutableContextFromRoot(context)\n",
    "plant.SetPositions(plant_context, [-1.57, 0.1, 0, -1.2, 0, 1.6, 0])\n",
    "plant.get_actuation_input_port().FixValue(plant_context, np.zeros(7))\n",
    "\n",
    "simulator = Simulator(diagram, context)\n",
    "simulator.set_target_realtime_rate(1.0)\n",
    "\n",
    "meshcat.start_recording()\n",
    "simulator.AdvanceTo(5.0 if running_as_notebook else 0.1)\n",
    "meshcat.stop_recording()\n",
    "meshcat.publish_recording()"
   ]
  },
  {
   "cell_type": "markdown",
   "metadata": {
    "id": "8SPr8dXoY3IT"
   },
   "source": [
    "# Adding the iiwa controller\n",
    "\n",
    "The iiwa hardware interface runs through a control system provided by the manufacturer.  We can't turn it off.  The best we can do is add our approximation of it to our simulation.  I'll repeat everything we've set up before (to keep this example self-contained), but we'll add one more system for the controller."
   ]
  },
  {
   "cell_type": "code",
   "execution_count": 16,
   "metadata": {
    "colab": {
     "base_uri": "https://localhost:8080/"
    },
    "id": "Qd245P5kY666",
    "outputId": "2422f4e9-a091-4b99-8c5e-2778dff2c3f7"
   },
   "outputs": [
    {
     "name": "stdout",
     "output_type": "stream",
     "text": [
      "Connecting to meshcat-server at zmq_url=tcp://127.0.0.1:6000...\n",
      "You can open the visualizer by visiting the following URL:\n",
      "http://127.0.0.1:7000/static/\n",
      "Connected to meshcat-server.\n"
     ]
    },
    {
     "ename": "NameError",
     "evalue": "name 'InverseDynamicsController' is not defined",
     "output_type": "error",
     "traceback": [
      "\u001b[0;31m---------------------------------------------------------------------------\u001b[0m",
      "\u001b[0;31mNameError\u001b[0m                                 Traceback (most recent call last)",
      "\u001b[0;32m<ipython-input-16-98bc8974a614>\u001b[0m in \u001b[0;36m<module>\u001b[0;34m\u001b[0m\n\u001b[1;32m     17\u001b[0m \u001b[0mKi\u001b[0m \u001b[0;34m=\u001b[0m \u001b[0;36m2\u001b[0m \u001b[0;34m*\u001b[0m \u001b[0mnp\u001b[0m\u001b[0;34m.\u001b[0m\u001b[0msqrt\u001b[0m\u001b[0;34m(\u001b[0m\u001b[0mKp\u001b[0m\u001b[0;34m)\u001b[0m\u001b[0;34m\u001b[0m\u001b[0;34m\u001b[0m\u001b[0m\n\u001b[1;32m     18\u001b[0m \u001b[0mKd\u001b[0m \u001b[0;34m=\u001b[0m \u001b[0mnp\u001b[0m\u001b[0;34m.\u001b[0m\u001b[0mfull\u001b[0m\u001b[0;34m(\u001b[0m\u001b[0;36m7\u001b[0m\u001b[0;34m,\u001b[0m \u001b[0;36m1\u001b[0m\u001b[0;34m)\u001b[0m\u001b[0;34m\u001b[0m\u001b[0;34m\u001b[0m\u001b[0m\n\u001b[0;32m---> 19\u001b[0;31m \u001b[0miiwa_controller\u001b[0m \u001b[0;34m=\u001b[0m \u001b[0mbuilder\u001b[0m\u001b[0;34m.\u001b[0m\u001b[0mAddSystem\u001b[0m\u001b[0;34m(\u001b[0m\u001b[0mInverseDynamicsController\u001b[0m\u001b[0;34m(\u001b[0m\u001b[0mplant\u001b[0m\u001b[0;34m,\u001b[0m \u001b[0mKp\u001b[0m\u001b[0;34m,\u001b[0m \u001b[0mKi\u001b[0m\u001b[0;34m,\u001b[0m \u001b[0mKd\u001b[0m\u001b[0;34m,\u001b[0m \u001b[0;32mFalse\u001b[0m\u001b[0;34m)\u001b[0m\u001b[0;34m)\u001b[0m\u001b[0;34m\u001b[0m\u001b[0;34m\u001b[0m\u001b[0m\n\u001b[0m\u001b[1;32m     20\u001b[0m \u001b[0miiwa_controller\u001b[0m\u001b[0;34m.\u001b[0m\u001b[0mset_name\u001b[0m\u001b[0;34m(\u001b[0m\u001b[0;34m\"iiwa_controller\"\u001b[0m\u001b[0;34m)\u001b[0m\u001b[0;34m;\u001b[0m\u001b[0;34m\u001b[0m\u001b[0;34m\u001b[0m\u001b[0m\n\u001b[1;32m     21\u001b[0m builder.Connect(plant.get_state_output_port(iiwa_model),\n",
      "\u001b[0;31mNameError\u001b[0m: name 'InverseDynamicsController' is not defined"
     ]
    }
   ],
   "source": [
    "builder = DiagramBuilder()\n",
    "\n",
    "# Adds both MultibodyPlant and the SceneGraph, and wires them together.\n",
    "plant, scene_graph = AddMultibodyPlantSceneGraph(builder, time_step=1e-4)\n",
    "# Note that we parse into both the plant and the scene_graph here.\n",
    "iiwa_model = Parser(plant, scene_graph).AddModelFromFile(\n",
    "        FindResourceOrThrow(\"drake/manipulation/models/iiwa_description/sdf/iiwa14_no_collision.sdf\"))\n",
    "plant.WeldFrames(plant.world_frame(), plant.GetFrameByName(\"iiwa_link_0\"))\n",
    "plant.Finalize()\n",
    "\n",
    "# Adds the MeshcatVisualizer and wires it to the SceneGraph.\n",
    "meshcat = ConnectMeshcatVisualizer(builder, scene_graph, zmq_url=zmq_url, delete_prefix_on_load=False)\n",
    "\n",
    "# Adds an approximation of the iiwa controller.\n",
    "# TODO(russt): replace this with the joint impedance controller.\n",
    "Kp = np.full(7, 100)\n",
    "Ki = 2 * np.sqrt(Kp)\n",
    "Kd = np.full(7, 1)\n",
    "iiwa_controller = builder.AddSystem(InverseDynamicsController(plant, Kp, Ki, Kd, False))\n",
    "iiwa_controller.set_name(\"iiwa_controller\");\n",
    "builder.Connect(plant.get_state_output_port(iiwa_model),\n",
    "                iiwa_controller.get_input_port_estimated_state())\n",
    "builder.Connect(iiwa_controller.get_output_port_control(),\n",
    "                plant.get_actuation_input_port())\n",
    "diagram = builder.Build()"
   ]
  },
  {
   "cell_type": "markdown",
   "metadata": {
    "id": "SwmwcTcOX-pm"
   },
   "source": [
    "Let's see what our diagram looks like..."
   ]
  },
  {
   "cell_type": "code",
   "execution_count": 17,
   "metadata": {
    "colab": {
     "base_uri": "https://localhost:8080/",
     "height": 701
    },
    "id": "1SMxPMvdxk99",
    "outputId": "0194c805-d272-48ce-a7a1-4fa823bcaec0"
   },
   "outputs": [
    {
     "data": {
      "image/svg+xml": [
       "<svg height=\"563pt\" viewBox=\"0.00 0.00 1154.00 563.00\" width=\"1154pt\" xmlns=\"http://www.w3.org/2000/svg\" xmlns:xlink=\"http://www.w3.org/1999/xlink\">\n",
       "<g class=\"graph\" id=\"graph0\" transform=\"scale(1 1) rotate(0) translate(4 559)\">\n",
       "<title>_61111888</title>\n",
       "<polygon fill=\"#ffffff\" points=\"-4,4 -4,-559 1150,-559 1150,4 -4,4\" stroke=\"transparent\"/>\n",
       "<g class=\"cluster\" id=\"clust1\">\n",
       "<title>cluster61111888diagram</title>\n",
       "<polygon fill=\"none\" points=\"8,-8 8,-547 1138,-547 1138,-8 8,-8\" stroke=\"#000000\"/>\n",
       "<text fill=\"#000000\" font-family=\"Times,serif\" font-size=\"14.00\" text-anchor=\"middle\" x=\"573\" y=\"-531.8\">61111888</text>\n",
       "</g>\n",
       "<g class=\"cluster\" id=\"clust4\">\n",
       "<title>cluster61111888subsystems</title>\n",
       "<polygon fill=\"none\" points=\"16,-16 16,-516 1130,-516 1130,-16 16,-16\" stroke=\"#ffffff\"/>\n",
       "</g>\n",
       "<!-- 66988304 -->\n",
       "<g class=\"node\" id=\"node1\">\n",
       "<title>66988304</title>\n",
       "<polygon fill=\"none\" points=\"24,-24.5 24,-507.5 655,-507.5 655,-24.5 24,-24.5\" stroke=\"#000000\"/>\n",
       "<text fill=\"#000000\" font-family=\"Times,serif\" font-size=\"14.00\" text-anchor=\"middle\" x=\"339.5\" y=\"-492.3\">plant</text>\n",
       "<polyline fill=\"none\" points=\"24,-484.5 655,-484.5 \" stroke=\"#000000\"/>\n",
       "<text fill=\"#000000\" font-family=\"Times,serif\" font-size=\"14.00\" text-anchor=\"middle\" x=\"149.5\" y=\"-448.3\">geometry_query</text>\n",
       "<polyline fill=\"none\" points=\"24,-419.5 275,-419.5 \" stroke=\"#000000\"/>\n",
       "<text fill=\"#000000\" font-family=\"Times,serif\" font-size=\"14.00\" text-anchor=\"middle\" x=\"149.5\" y=\"-382.8\">WorldModelInstance_actuation</text>\n",
       "<polyline fill=\"none\" points=\"24,-353.5 275,-353.5 \" stroke=\"#000000\"/>\n",
       "<text fill=\"#000000\" font-family=\"Times,serif\" font-size=\"14.00\" text-anchor=\"middle\" x=\"149.5\" y=\"-316.8\">DefaultModelInstance_actuation</text>\n",
       "<polyline fill=\"none\" points=\"24,-287.5 275,-287.5 \" stroke=\"#000000\"/>\n",
       "<text fill=\"#000000\" font-family=\"Times,serif\" font-size=\"14.00\" text-anchor=\"middle\" x=\"149.5\" y=\"-251.3\">iiwa14_actuation</text>\n",
       "<polyline fill=\"none\" points=\"24,-222.5 275,-222.5 \" stroke=\"#000000\"/>\n",
       "<text fill=\"#000000\" font-family=\"Times,serif\" font-size=\"14.00\" text-anchor=\"middle\" x=\"149.5\" y=\"-185.8\">paddle_actuation</text>\n",
       "<polyline fill=\"none\" points=\"24,-156.5 275,-156.5 \" stroke=\"#000000\"/>\n",
       "<text fill=\"#000000\" font-family=\"Times,serif\" font-size=\"14.00\" text-anchor=\"middle\" x=\"149.5\" y=\"-119.8\">applied_generalized_force</text>\n",
       "<polyline fill=\"none\" points=\"24,-90.5 275,-90.5 \" stroke=\"#000000\"/>\n",
       "<text fill=\"#000000\" font-family=\"Times,serif\" font-size=\"14.00\" text-anchor=\"middle\" x=\"149.5\" y=\"-53.8\">applied_spatial_force</text>\n",
       "<polyline fill=\"none\" points=\"275,-24.5 275,-484.5 \" stroke=\"#000000\"/>\n",
       "<text fill=\"#000000\" font-family=\"Times,serif\" font-size=\"14.00\" text-anchor=\"middle\" x=\"465\" y=\"-469.3\">geometry_pose</text>\n",
       "<polyline fill=\"none\" points=\"275,-461.5 655,-461.5 \" stroke=\"#000000\"/>\n",
       "<text fill=\"#000000\" font-family=\"Times,serif\" font-size=\"14.00\" text-anchor=\"middle\" x=\"465\" y=\"-446.3\">continuous_state</text>\n",
       "<polyline fill=\"none\" points=\"275,-438.5 655,-438.5 \" stroke=\"#000000\"/>\n",
       "<text fill=\"#000000\" font-family=\"Times,serif\" font-size=\"14.00\" text-anchor=\"middle\" x=\"465\" y=\"-423.3\">body_poses</text>\n",
       "<polyline fill=\"none\" points=\"275,-415.5 655,-415.5 \" stroke=\"#000000\"/>\n",
       "<text fill=\"#000000\" font-family=\"Times,serif\" font-size=\"14.00\" text-anchor=\"middle\" x=\"465\" y=\"-400.3\">spatial_velocities</text>\n",
       "<polyline fill=\"none\" points=\"275,-392.5 655,-392.5 \" stroke=\"#000000\"/>\n",
       "<text fill=\"#000000\" font-family=\"Times,serif\" font-size=\"14.00\" text-anchor=\"middle\" x=\"465\" y=\"-377.3\">spatial_accelerations</text>\n",
       "<polyline fill=\"none\" points=\"275,-369.5 655,-369.5 \" stroke=\"#000000\"/>\n",
       "<text fill=\"#000000\" font-family=\"Times,serif\" font-size=\"14.00\" text-anchor=\"middle\" x=\"465\" y=\"-354.3\">generalized_acceleration</text>\n",
       "<polyline fill=\"none\" points=\"275,-346.5 655,-346.5 \" stroke=\"#000000\"/>\n",
       "<text fill=\"#000000\" font-family=\"Times,serif\" font-size=\"14.00\" text-anchor=\"middle\" x=\"465\" y=\"-331.3\">WorldModelInstance_continuous_state</text>\n",
       "<polyline fill=\"none\" points=\"275,-323.5 655,-323.5 \" stroke=\"#000000\"/>\n",
       "<text fill=\"#000000\" font-family=\"Times,serif\" font-size=\"14.00\" text-anchor=\"middle\" x=\"465\" y=\"-308.3\">WorldModelInstance_generalized_acceleration</text>\n",
       "<polyline fill=\"none\" points=\"275,-300.5 655,-300.5 \" stroke=\"#000000\"/>\n",
       "<text fill=\"#000000\" font-family=\"Times,serif\" font-size=\"14.00\" text-anchor=\"middle\" x=\"465\" y=\"-285.3\">DefaultModelInstance_continuous_state</text>\n",
       "<polyline fill=\"none\" points=\"275,-277.5 655,-277.5 \" stroke=\"#000000\"/>\n",
       "<text fill=\"#000000\" font-family=\"Times,serif\" font-size=\"14.00\" text-anchor=\"middle\" x=\"465\" y=\"-262.3\">DefaultModelInstance_generalized_acceleration</text>\n",
       "<polyline fill=\"none\" points=\"275,-254.5 655,-254.5 \" stroke=\"#000000\"/>\n",
       "<text fill=\"#000000\" font-family=\"Times,serif\" font-size=\"14.00\" text-anchor=\"middle\" x=\"465\" y=\"-239.3\">iiwa14_continuous_state</text>\n",
       "<polyline fill=\"none\" points=\"275,-231.5 655,-231.5 \" stroke=\"#000000\"/>\n",
       "<text fill=\"#000000\" font-family=\"Times,serif\" font-size=\"14.00\" text-anchor=\"middle\" x=\"465\" y=\"-216.3\">iiwa14_generalized_acceleration</text>\n",
       "<polyline fill=\"none\" points=\"275,-208.5 655,-208.5 \" stroke=\"#000000\"/>\n",
       "<text fill=\"#000000\" font-family=\"Times,serif\" font-size=\"14.00\" text-anchor=\"middle\" x=\"465\" y=\"-193.3\">paddle_continuous_state</text>\n",
       "<polyline fill=\"none\" points=\"275,-185.5 655,-185.5 \" stroke=\"#000000\"/>\n",
       "<text fill=\"#000000\" font-family=\"Times,serif\" font-size=\"14.00\" text-anchor=\"middle\" x=\"465\" y=\"-170.3\">paddle_generalized_acceleration</text>\n",
       "<polyline fill=\"none\" points=\"275,-162.5 655,-162.5 \" stroke=\"#000000\"/>\n",
       "<text fill=\"#000000\" font-family=\"Times,serif\" font-size=\"14.00\" text-anchor=\"middle\" x=\"465\" y=\"-147.3\">WorldModelInstance_generalized_contact_forces</text>\n",
       "<polyline fill=\"none\" points=\"275,-139.5 655,-139.5 \" stroke=\"#000000\"/>\n",
       "<text fill=\"#000000\" font-family=\"Times,serif\" font-size=\"14.00\" text-anchor=\"middle\" x=\"465\" y=\"-124.3\">DefaultModelInstance_generalized_contact_forces</text>\n",
       "<polyline fill=\"none\" points=\"275,-116.5 655,-116.5 \" stroke=\"#000000\"/>\n",
       "<text fill=\"#000000\" font-family=\"Times,serif\" font-size=\"14.00\" text-anchor=\"middle\" x=\"465\" y=\"-101.3\">iiwa14_generalized_contact_forces</text>\n",
       "<polyline fill=\"none\" points=\"275,-93.5 655,-93.5 \" stroke=\"#000000\"/>\n",
       "<text fill=\"#000000\" font-family=\"Times,serif\" font-size=\"14.00\" text-anchor=\"middle\" x=\"465\" y=\"-78.3\">paddle_generalized_contact_forces</text>\n",
       "<polyline fill=\"none\" points=\"275,-70.5 655,-70.5 \" stroke=\"#000000\"/>\n",
       "<text fill=\"#000000\" font-family=\"Times,serif\" font-size=\"14.00\" text-anchor=\"middle\" x=\"465\" y=\"-55.3\">reaction_forces</text>\n",
       "<polyline fill=\"none\" points=\"275,-47.5 655,-47.5 \" stroke=\"#000000\"/>\n",
       "<text fill=\"#000000\" font-family=\"Times,serif\" font-size=\"14.00\" text-anchor=\"middle\" x=\"465\" y=\"-32.3\">contact_results</text>\n",
       "</g>\n",
       "<!-- 66551920 -->\n",
       "<g class=\"node\" id=\"node2\">\n",
       "<title>66551920</title>\n",
       "<polygon fill=\"none\" points=\"691,-438.5 691,-507.5 925,-507.5 925,-438.5 691,-438.5\" stroke=\"#000000\"/>\n",
       "<text fill=\"#000000\" font-family=\"Times,serif\" font-size=\"14.00\" text-anchor=\"middle\" x=\"808\" y=\"-492.3\">scene_graph</text>\n",
       "<polyline fill=\"none\" points=\"691,-484.5 925,-484.5 \" stroke=\"#000000\"/>\n",
       "<text fill=\"#000000\" font-family=\"Times,serif\" font-size=\"14.00\" text-anchor=\"middle\" x=\"738\" y=\"-457.8\">plant_pose</text>\n",
       "<polyline fill=\"none\" points=\"785,-438.5 785,-484.5 \" stroke=\"#000000\"/>\n",
       "<text fill=\"#000000\" font-family=\"Times,serif\" font-size=\"14.00\" text-anchor=\"middle\" x=\"855\" y=\"-469.3\">lcm_visualization</text>\n",
       "<polyline fill=\"none\" points=\"785,-461.5 925,-461.5 \" stroke=\"#000000\"/>\n",
       "<text fill=\"#000000\" font-family=\"Times,serif\" font-size=\"14.00\" text-anchor=\"middle\" x=\"855\" y=\"-446.3\">query</text>\n",
       "</g>\n",
       "<!-- 66988304&#45;&gt;66551920 -->\n",
       "<g class=\"edge\" id=\"edge2\">\n",
       "<title>66988304:y0-&gt;66551920:u0</title>\n",
       "<path d=\"M655,-473C667.7809,-473 672.1793,-466.1086 680.8999,-462.7706\" fill=\"none\" stroke=\"#000000\"/>\n",
       "<polygon fill=\"#000000\" points=\"681.7546,-466.1743 691,-461 680.5458,-459.2794 681.7546,-466.1743\" stroke=\"#000000\"/>\n",
       "</g>\n",
       "<!-- 66551920&#45;&gt;66988304 -->\n",
       "<g class=\"edge\" id=\"edge3\">\n",
       "<title>66551920:y1-&gt;66988304:u0</title>\n",
       "<path d=\"M855,-438C855,-365.1111 753.2197,-400.0329 691,-438 661.1366,-456.223 684.8634,-489.777 655,-508 655,-508 114.901,-460.1052 33.6751,-452.9023\" fill=\"none\" stroke=\"#000000\"/>\n",
       "<polygon fill=\"#000000\" points=\"33.7701,-449.3971 23.5,-452 33.1517,-456.3697 33.7701,-449.3971\" stroke=\"#000000\"/>\n",
       "</g>\n",
       "<!-- 40716592 -->\n",
       "<g class=\"node\" id=\"node3\">\n",
       "<title>40716592</title>\n",
       "<polygon fill=\"none\" points=\"961,-462 961,-508 1122,-508 1122,-462 961,-462\" stroke=\"#000000\"/>\n",
       "<text fill=\"#000000\" font-family=\"Times,serif\" font-size=\"14.00\" text-anchor=\"middle\" x=\"1041.5\" y=\"-492.8\">meshcat_visualizer</text>\n",
       "<polyline fill=\"none\" points=\"961,-485 1122,-485 \" stroke=\"#000000\"/>\n",
       "<text fill=\"#000000\" font-family=\"Times,serif\" font-size=\"14.00\" text-anchor=\"middle\" x=\"1031\" y=\"-469.8\">lcm_visualization</text>\n",
       "<polyline fill=\"none\" points=\"1101,-462 1101,-485 \" stroke=\"#000000\"/>\n",
       "<text fill=\"#000000\" font-family=\"Times,serif\" font-size=\"14.00\" text-anchor=\"middle\" x=\"1111.5\" y=\"-469.8\"> </text>\n",
       "</g>\n",
       "<!-- 66551920&#45;&gt;40716592 -->\n",
       "<g class=\"edge\" id=\"edge1\">\n",
       "<title>66551920:y0-&gt;40716592:u0</title>\n",
       "<path d=\"M925,-473C937,-473 942.25,-473 950.875,-473\" fill=\"none\" stroke=\"#000000\"/>\n",
       "<polygon fill=\"#000000\" points=\"951,-476.5001 961,-473 951,-469.5001 951,-476.5001\" stroke=\"#000000\"/>\n",
       "</g>\n",
       "</g>\n",
       "</svg>"
      ],
      "text/plain": [
       "<IPython.core.display.SVG object>"
      ]
     },
     "execution_count": 17,
     "metadata": {},
     "output_type": "execute_result"
    }
   ],
   "source": [
    "SVG(pydot.graph_from_dot_data(diagram.GetGraphvizString())[0].create_svg())"
   ]
  },
  {
   "cell_type": "markdown",
   "metadata": {
    "id": "ZWoEJzsixwGj"
   },
   "source": [
    "As our diagrams get more complex, we're going to need a better approach to rendering the diagrams.  I've got a rough first pass (that it still suffering from some licensing issues) in javascript that I aim to improve.\n",
    "\n",
    "TODO(russt): Update the javascript rendering [#13874](https://github.com/RobotLocomotion/drake/issues/13874).  "
   ]
  },
  {
   "cell_type": "code",
   "execution_count": null,
   "metadata": {
    "colab": {
     "base_uri": "https://localhost:8080/",
     "height": 417
    },
    "id": "EjJzh5veYA6e",
    "outputId": "5ca4cf87-93cb-40b6-823e-81370cb02ef3"
   },
   "outputs": [],
   "source": [
    "diagram.set_name(\"diagram\")\n",
    "HTML('<script src=\"https://unpkg.com/gojs/release/go.js\"></script>' + GenerateHtml(diagram))"
   ]
  },
  {
   "cell_type": "markdown",
   "metadata": {
    "id": "wuo1q8PgXzrp"
   },
   "source": [
    "To set up the `Context` now, instead of setting the `actuation_input` to zero, we set the `desired_state` of the iiwa controller to be the current position of the arm.  But the desired *state* must also include desired velocities, so we set those to zero."
   ]
  },
  {
   "cell_type": "code",
   "execution_count": null,
   "metadata": {
    "colab": {
     "base_uri": "https://localhost:8080/"
    },
    "id": "GHrnvvpXXixB",
    "outputId": "0d4e96b8-5fc6-496d-dc81-ab4f2324654c"
   },
   "outputs": [],
   "source": [
    "context = diagram.CreateDefaultContext()\n",
    "plant_context = plant.GetMyMutableContextFromRoot(context)\n",
    "q0 = np.array([-1.57, 0.1, 0, -1.2, 0, 1.6, 0])\n",
    "x0 = np.hstack((q0, 0*q0))\n",
    "plant.SetPositions(plant_context, q0)\n",
    "iiwa_controller.GetInputPort('desired_state').FixValue(\n",
    "    iiwa_controller.GetMyMutableContextFromRoot(context), x0)\n",
    "print(context)"
   ]
  },
  {
   "cell_type": "markdown",
   "metadata": {
    "id": "kAWFX5H7atro"
   },
   "source": [
    "Now, if we simulate, the robot just stays put.  Just like the real robot would."
   ]
  },
  {
   "cell_type": "code",
   "execution_count": null,
   "metadata": {
    "id": "qvJ2PptyYuz2"
   },
   "outputs": [],
   "source": [
    "simulator = Simulator(diagram, context)\n",
    "simulator.set_target_realtime_rate(1.0);\n",
    "simulator.AdvanceTo(5.0 if running_as_notebook else 0.1);"
   ]
  },
  {
   "cell_type": "markdown",
   "metadata": {
    "id": "7q0A14bAilIX"
   },
   "source": [
    "# Robot hands\n",
    "[Allegro Hand](http://www.wonikrobotics.com/Allegro-Hand.htm).\n",
    "\n",
    "TODO: Consider porting Robotiq, Sandia, or IHY-hand from our [openhumanoids](https://github.com/openhumanoids/oh-distro/tree/master/software/models/common_components) project."
   ]
  },
  {
   "cell_type": "code",
   "execution_count": 30,
   "metadata": {
    "id": "ILYLouFTjv6e"
   },
   "outputs": [
    {
     "name": "stderr",
     "output_type": "stream",
     "text": [
      "[2020-11-11 15:15:41.556] [console] [warning] Currently MultibodyPlant does not handle joint limits for continuous models. However some joints do specify limits. Consider setting a non-zero time step in the MultibodyPlant constructor; this will put MultibodyPlant in discrete-time mode, which does support joint limits.\n",
      "[2020-11-11 15:15:41.561] [console] [warning] Joints that specify limits are: `joint_0`, `joint_1`, `joint_2`, `joint_3`, `joint_12`, `joint_13`, `joint_14`, `joint_15`, `joint_4`, `joint_5`, `joint_6`, `joint_7`, `joint_8`, `joint_9`, `joint_10`, `joint_11`.\n",
      "[2020-11-11 15:15:41.580] [console] [warning] Currently MultibodyPlant does not handle joint limits for continuous models. However some joints do specify limits. Consider setting a non-zero time step in the MultibodyPlant constructor; this will put MultibodyPlant in discrete-time mode, which does support joint limits.\n",
      "[2020-11-11 15:15:41.583] [console] [warning] Joints that specify limits are: `joint_0`, `joint_1`, `joint_2`, `joint_3`, `joint_12`, `joint_13`, `joint_14`, `joint_15`, `joint_4`, `joint_5`, `joint_6`, `joint_7`, `joint_8`, `joint_9`, `joint_10`, `joint_11`.\n"
     ]
    },
    {
     "name": "stdout",
     "output_type": "stream",
     "text": [
      "Connecting to meshcat-server at zmq_url=tcp://127.0.0.1:6000...\n",
      "You can open the visualizer by visiting the following URL:\n",
      "http://127.0.0.1:7000/static/\n",
      "Connected to meshcat-server.\n"
     ]
    },
    {
     "data": {
      "application/vnd.jupyter.widget-view+json": {
       "model_id": "5c952293df0c4adaa7cb2ef385be6296",
       "version_major": 2,
       "version_minor": 0
      },
      "text/plain": [
       "FloatSlider(value=0.0, description='joint_0', layout=Layout(width=\"'200'\"), max=0.47, min=-0.47, step=0.01, st…"
      ]
     },
     "metadata": {},
     "output_type": "display_data"
    },
    {
     "data": {
      "application/vnd.jupyter.widget-view+json": {
       "model_id": "d6686397aa2e45c694a5f8120eb81a20",
       "version_major": 2,
       "version_minor": 0
      },
      "text/plain": [
       "FloatSlider(value=0.0, description='joint_1', layout=Layout(width=\"'200'\"), max=1.61, min=-0.196, step=0.01, s…"
      ]
     },
     "metadata": {},
     "output_type": "display_data"
    },
    {
     "data": {
      "application/vnd.jupyter.widget-view+json": {
       "model_id": "0a3deba72450406589e671ffdc046dcc",
       "version_major": 2,
       "version_minor": 0
      },
      "text/plain": [
       "FloatSlider(value=0.0, description='joint_2', layout=Layout(width=\"'200'\"), max=1.709, min=-0.174, step=0.01, …"
      ]
     },
     "metadata": {},
     "output_type": "display_data"
    },
    {
     "data": {
      "application/vnd.jupyter.widget-view+json": {
       "model_id": "532a0fc70be84d3792d949304a1d109b",
       "version_major": 2,
       "version_minor": 0
      },
      "text/plain": [
       "FloatSlider(value=0.0, description='joint_3', layout=Layout(width=\"'200'\"), max=1.618, min=-0.227, step=0.01, …"
      ]
     },
     "metadata": {},
     "output_type": "display_data"
    },
    {
     "data": {
      "application/vnd.jupyter.widget-view+json": {
       "model_id": "4f3b7d23ae2f4f4c9a7a5dced2ad7fd8",
       "version_major": 2,
       "version_minor": 0
      },
      "text/plain": [
       "FloatSlider(value=0.263, description='joint_12', layout=Layout(width=\"'200'\"), max=1.396, min=0.263, step=0.01…"
      ]
     },
     "metadata": {},
     "output_type": "display_data"
    },
    {
     "data": {
      "application/vnd.jupyter.widget-view+json": {
       "model_id": "0bc195f9e78b43cdb13b0dab5b421363",
       "version_major": 2,
       "version_minor": 0
      },
      "text/plain": [
       "FloatSlider(value=0.0, description='joint_13', layout=Layout(width=\"'200'\"), max=1.163, min=-0.105, step=0.01,…"
      ]
     },
     "metadata": {},
     "output_type": "display_data"
    },
    {
     "data": {
      "application/vnd.jupyter.widget-view+json": {
       "model_id": "2002658293984453839f18591deb6e04",
       "version_major": 2,
       "version_minor": 0
      },
      "text/plain": [
       "FloatSlider(value=0.0, description='joint_14', layout=Layout(width=\"'200'\"), max=1.644, min=-0.189, step=0.01,…"
      ]
     },
     "metadata": {},
     "output_type": "display_data"
    },
    {
     "data": {
      "application/vnd.jupyter.widget-view+json": {
       "model_id": "99c7fc13dca643c2bcf08dc232e07efc",
       "version_major": 2,
       "version_minor": 0
      },
      "text/plain": [
       "FloatSlider(value=0.0, description='joint_15', layout=Layout(width=\"'200'\"), max=1.719, min=-0.162, step=0.01,…"
      ]
     },
     "metadata": {},
     "output_type": "display_data"
    },
    {
     "data": {
      "application/vnd.jupyter.widget-view+json": {
       "model_id": "91258ea708fe4eaab5e73d32ba803207",
       "version_major": 2,
       "version_minor": 0
      },
      "text/plain": [
       "FloatSlider(value=0.0, description='joint_4', layout=Layout(width=\"'200'\"), max=0.47, min=-0.47, step=0.01, st…"
      ]
     },
     "metadata": {},
     "output_type": "display_data"
    },
    {
     "data": {
      "application/vnd.jupyter.widget-view+json": {
       "model_id": "777a0488eb434c9fbd0740d8dd1398b3",
       "version_major": 2,
       "version_minor": 0
      },
      "text/plain": [
       "FloatSlider(value=0.0, description='joint_5', layout=Layout(width=\"'200'\"), max=1.61, min=-0.196, step=0.01, s…"
      ]
     },
     "metadata": {},
     "output_type": "display_data"
    },
    {
     "data": {
      "application/vnd.jupyter.widget-view+json": {
       "model_id": "cf1501dccf664b36a04ba23c7474c59a",
       "version_major": 2,
       "version_minor": 0
      },
      "text/plain": [
       "FloatSlider(value=0.0, description='joint_6', layout=Layout(width=\"'200'\"), max=1.709, min=-0.174, step=0.01, …"
      ]
     },
     "metadata": {},
     "output_type": "display_data"
    },
    {
     "data": {
      "application/vnd.jupyter.widget-view+json": {
       "model_id": "4fd5b9726f3c4700b92b3ba63417fcb5",
       "version_major": 2,
       "version_minor": 0
      },
      "text/plain": [
       "FloatSlider(value=0.0, description='joint_7', layout=Layout(width=\"'200'\"), max=1.618, min=-0.227, step=0.01, …"
      ]
     },
     "metadata": {},
     "output_type": "display_data"
    },
    {
     "data": {
      "application/vnd.jupyter.widget-view+json": {
       "model_id": "ab4e2aa2f6574e4580d7472fcfbfc00a",
       "version_major": 2,
       "version_minor": 0
      },
      "text/plain": [
       "FloatSlider(value=0.0, description='joint_8', layout=Layout(width=\"'200'\"), max=0.47, min=-0.47, step=0.01, st…"
      ]
     },
     "metadata": {},
     "output_type": "display_data"
    },
    {
     "data": {
      "application/vnd.jupyter.widget-view+json": {
       "model_id": "7bfecc19572f450a9a5b0ecb36a05707",
       "version_major": 2,
       "version_minor": 0
      },
      "text/plain": [
       "FloatSlider(value=0.0, description='joint_9', layout=Layout(width=\"'200'\"), max=1.61, min=-0.196, step=0.01, s…"
      ]
     },
     "metadata": {},
     "output_type": "display_data"
    },
    {
     "data": {
      "application/vnd.jupyter.widget-view+json": {
       "model_id": "57e31c7216174c5884719a440e4ed10f",
       "version_major": 2,
       "version_minor": 0
      },
      "text/plain": [
       "FloatSlider(value=0.0, description='joint_10', layout=Layout(width=\"'200'\"), max=1.709, min=-0.174, step=0.01,…"
      ]
     },
     "metadata": {},
     "output_type": "display_data"
    },
    {
     "data": {
      "application/vnd.jupyter.widget-view+json": {
       "model_id": "9757fd6886ea487da3401cfa94395388",
       "version_major": 2,
       "version_minor": 0
      },
      "text/plain": [
       "FloatSlider(value=0.0, description='joint_11', layout=Layout(width=\"'200'\"), max=1.618, min=-0.227, step=0.01,…"
      ]
     },
     "metadata": {},
     "output_type": "display_data"
    }
   ],
   "source": [
    "builder = DiagramBuilder()\n",
    "\n",
    "plant, scene_graph = AddMultibodyPlantSceneGraph(builder, time_step=0.0)\n",
    "allegro_file = FindResourceOrThrow(\"drake/manipulation/models/allegro_hand_description/sdf/allegro_hand_description_right.sdf\")\n",
    "Parser(plant, scene_graph).AddModelFromFile(allegro_file)\n",
    "plant.Finalize()\n",
    "\n",
    "meshcat = ConnectMeshcatVisualizer(builder, scene_graph, zmq_url=zmq_url)\n",
    "diagram = builder.Build()\n",
    "context = diagram.CreateDefaultContext()\n",
    "\n",
    "meshcat.load()\n",
    "MakeJointSlidersThatPublishOnCallback(plant, meshcat, context);"
   ]
  },
  {
   "cell_type": "code",
   "execution_count": null,
   "metadata": {
    "id": "5SjOClhTltPk"
   },
   "outputs": [],
   "source": []
  }
 ],
 "metadata": {
  "colab": {
   "collapsed_sections": [],
   "include_colab_link": true,
   "name": "Robot Juggling",
   "provenance": [],
   "toc_visible": true
  },
  "kernelspec": {
   "display_name": "Python 3",
   "language": "python",
   "name": "python3"
  },
  "language_info": {
   "codemirror_mode": {
    "name": "ipython",
    "version": 3
   },
   "file_extension": ".py",
   "mimetype": "text/x-python",
   "name": "python",
   "nbconvert_exporter": "python",
   "pygments_lexer": "ipython3",
   "version": "3.6.9"
  },
  "widgets": {
   "application/vnd.jupyter.widget-state+json": {
    "05c95631d38b41f298b0803fb3b65077": {
     "model_module": "@jupyter-widgets/controls",
     "model_name": "SliderStyleModel",
     "state": {
      "_model_module": "@jupyter-widgets/controls",
      "_model_module_version": "1.5.0",
      "_model_name": "SliderStyleModel",
      "_view_count": null,
      "_view_module": "@jupyter-widgets/base",
      "_view_module_version": "1.2.0",
      "_view_name": "StyleView",
      "description_width": "initial",
      "handle_color": null
     }
    },
    "12e8d743ffcf4f44a4f976983fe6de5a": {
     "model_module": "@jupyter-widgets/base",
     "model_name": "LayoutModel",
     "state": {
      "_model_module": "@jupyter-widgets/base",
      "_model_module_version": "1.2.0",
      "_model_name": "LayoutModel",
      "_view_count": null,
      "_view_module": "@jupyter-widgets/base",
      "_view_module_version": "1.2.0",
      "_view_name": "LayoutView",
      "align_content": null,
      "align_items": null,
      "align_self": null,
      "border": null,
      "bottom": null,
      "display": null,
      "flex": null,
      "flex_flow": null,
      "grid_area": null,
      "grid_auto_columns": null,
      "grid_auto_flow": null,
      "grid_auto_rows": null,
      "grid_column": null,
      "grid_gap": null,
      "grid_row": null,
      "grid_template_areas": null,
      "grid_template_columns": null,
      "grid_template_rows": null,
      "height": null,
      "justify_content": null,
      "justify_items": null,
      "left": null,
      "margin": null,
      "max_height": null,
      "max_width": null,
      "min_height": null,
      "min_width": null,
      "object_fit": null,
      "object_position": null,
      "order": null,
      "overflow": null,
      "overflow_x": null,
      "overflow_y": null,
      "padding": null,
      "right": null,
      "top": null,
      "visibility": null,
      "width": "'200'"
     }
    },
    "1f6fad3a989d41f396325e1c431a204d": {
     "model_module": "@jupyter-widgets/base",
     "model_name": "LayoutModel",
     "state": {
      "_model_module": "@jupyter-widgets/base",
      "_model_module_version": "1.2.0",
      "_model_name": "LayoutModel",
      "_view_count": null,
      "_view_module": "@jupyter-widgets/base",
      "_view_module_version": "1.2.0",
      "_view_name": "LayoutView",
      "align_content": null,
      "align_items": null,
      "align_self": null,
      "border": null,
      "bottom": null,
      "display": null,
      "flex": null,
      "flex_flow": null,
      "grid_area": null,
      "grid_auto_columns": null,
      "grid_auto_flow": null,
      "grid_auto_rows": null,
      "grid_column": null,
      "grid_gap": null,
      "grid_row": null,
      "grid_template_areas": null,
      "grid_template_columns": null,
      "grid_template_rows": null,
      "height": null,
      "justify_content": null,
      "justify_items": null,
      "left": null,
      "margin": null,
      "max_height": null,
      "max_width": null,
      "min_height": null,
      "min_width": null,
      "object_fit": null,
      "object_position": null,
      "order": null,
      "overflow": null,
      "overflow_x": null,
      "overflow_y": null,
      "padding": null,
      "right": null,
      "top": null,
      "visibility": null,
      "width": "'200'"
     }
    },
    "33abca8e141744779731a9ddf99c0a50": {
     "model_module": "@jupyter-widgets/controls",
     "model_name": "FloatSliderModel",
     "state": {
      "_dom_classes": [],
      "_model_module": "@jupyter-widgets/controls",
      "_model_module_version": "1.5.0",
      "_model_name": "FloatSliderModel",
      "_view_count": null,
      "_view_module": "@jupyter-widgets/controls",
      "_view_module_version": "1.5.0",
      "_view_name": "FloatSliderView",
      "continuous_update": true,
      "description": "iiwa_joint_3",
      "description_tooltip": null,
      "disabled": false,
      "layout": "IPY_MODEL_b6cc5d73058543a9ad957999b74a2fb8",
      "max": 2.96706,
      "min": -2.96706,
      "orientation": "horizontal",
      "readout": true,
      "readout_format": ".2f",
      "step": 0.01,
      "style": "IPY_MODEL_61fd458d42674ae7827e6342d159393d",
      "value": 0
     }
    },
    "42f57304ac414f8f97f581946441ca07": {
     "model_module": "@jupyter-widgets/controls",
     "model_name": "SliderStyleModel",
     "state": {
      "_model_module": "@jupyter-widgets/controls",
      "_model_module_version": "1.5.0",
      "_model_name": "SliderStyleModel",
      "_view_count": null,
      "_view_module": "@jupyter-widgets/base",
      "_view_module_version": "1.2.0",
      "_view_name": "StyleView",
      "description_width": "initial",
      "handle_color": null
     }
    },
    "469c98d12bbb4d7e86ec755f7be5dac2": {
     "model_module": "@jupyter-widgets/controls",
     "model_name": "SliderStyleModel",
     "state": {
      "_model_module": "@jupyter-widgets/controls",
      "_model_module_version": "1.5.0",
      "_model_name": "SliderStyleModel",
      "_view_count": null,
      "_view_module": "@jupyter-widgets/base",
      "_view_module_version": "1.2.0",
      "_view_name": "StyleView",
      "description_width": "initial",
      "handle_color": null
     }
    },
    "4f0598c97843413baadcc98ffc24e156": {
     "model_module": "@jupyter-widgets/controls",
     "model_name": "SliderStyleModel",
     "state": {
      "_model_module": "@jupyter-widgets/controls",
      "_model_module_version": "1.5.0",
      "_model_name": "SliderStyleModel",
      "_view_count": null,
      "_view_module": "@jupyter-widgets/base",
      "_view_module_version": "1.2.0",
      "_view_name": "StyleView",
      "description_width": "initial",
      "handle_color": null
     }
    },
    "4f42949306534c46b4df20dc9ac2bf1c": {
     "model_module": "@jupyter-widgets/controls",
     "model_name": "SliderStyleModel",
     "state": {
      "_model_module": "@jupyter-widgets/controls",
      "_model_module_version": "1.5.0",
      "_model_name": "SliderStyleModel",
      "_view_count": null,
      "_view_module": "@jupyter-widgets/base",
      "_view_module_version": "1.2.0",
      "_view_name": "StyleView",
      "description_width": "initial",
      "handle_color": null
     }
    },
    "54560eb6c0f94cceb762fbee4f25cc61": {
     "model_module": "@jupyter-widgets/controls",
     "model_name": "FloatSliderModel",
     "state": {
      "_dom_classes": [],
      "_model_module": "@jupyter-widgets/controls",
      "_model_module_version": "1.5.0",
      "_model_name": "FloatSliderModel",
      "_view_count": null,
      "_view_module": "@jupyter-widgets/controls",
      "_view_module_version": "1.5.0",
      "_view_name": "FloatSliderView",
      "continuous_update": true,
      "description": "iiwa_joint_7",
      "description_tooltip": null,
      "disabled": false,
      "layout": "IPY_MODEL_1f6fad3a989d41f396325e1c431a204d",
      "max": 3.05433,
      "min": -3.05433,
      "orientation": "horizontal",
      "readout": true,
      "readout_format": ".2f",
      "step": 0.01,
      "style": "IPY_MODEL_4f42949306534c46b4df20dc9ac2bf1c",
      "value": 0
     }
    },
    "61fd458d42674ae7827e6342d159393d": {
     "model_module": "@jupyter-widgets/controls",
     "model_name": "SliderStyleModel",
     "state": {
      "_model_module": "@jupyter-widgets/controls",
      "_model_module_version": "1.5.0",
      "_model_name": "SliderStyleModel",
      "_view_count": null,
      "_view_module": "@jupyter-widgets/base",
      "_view_module_version": "1.2.0",
      "_view_name": "StyleView",
      "description_width": "initial",
      "handle_color": null
     }
    },
    "6558525754fc482a9e977d80f84418c4": {
     "model_module": "@jupyter-widgets/controls",
     "model_name": "FloatSliderModel",
     "state": {
      "_dom_classes": [],
      "_model_module": "@jupyter-widgets/controls",
      "_model_module_version": "1.5.0",
      "_model_name": "FloatSliderModel",
      "_view_count": null,
      "_view_module": "@jupyter-widgets/controls",
      "_view_module_version": "1.5.0",
      "_view_name": "FloatSliderView",
      "continuous_update": true,
      "description": "iiwa_joint_5",
      "description_tooltip": null,
      "disabled": false,
      "layout": "IPY_MODEL_836ff441c8fe493183c630e07beca9b0",
      "max": 2.96706,
      "min": -2.96706,
      "orientation": "horizontal",
      "readout": true,
      "readout_format": ".2f",
      "step": 0.01,
      "style": "IPY_MODEL_05c95631d38b41f298b0803fb3b65077",
      "value": 0
     }
    },
    "6cf2f2c2f3c346169914dbf93a7a97f6": {
     "model_module": "@jupyter-widgets/controls",
     "model_name": "SliderStyleModel",
     "state": {
      "_model_module": "@jupyter-widgets/controls",
      "_model_module_version": "1.5.0",
      "_model_name": "SliderStyleModel",
      "_view_count": null,
      "_view_module": "@jupyter-widgets/base",
      "_view_module_version": "1.2.0",
      "_view_name": "StyleView",
      "description_width": "initial",
      "handle_color": null
     }
    },
    "70491e6644bf47b7804271cc54de2094": {
     "model_module": "@jupyter-widgets/base",
     "model_name": "LayoutModel",
     "state": {
      "_model_module": "@jupyter-widgets/base",
      "_model_module_version": "1.2.0",
      "_model_name": "LayoutModel",
      "_view_count": null,
      "_view_module": "@jupyter-widgets/base",
      "_view_module_version": "1.2.0",
      "_view_name": "LayoutView",
      "align_content": null,
      "align_items": null,
      "align_self": null,
      "border": null,
      "bottom": null,
      "display": null,
      "flex": null,
      "flex_flow": null,
      "grid_area": null,
      "grid_auto_columns": null,
      "grid_auto_flow": null,
      "grid_auto_rows": null,
      "grid_column": null,
      "grid_gap": null,
      "grid_row": null,
      "grid_template_areas": null,
      "grid_template_columns": null,
      "grid_template_rows": null,
      "height": null,
      "justify_content": null,
      "justify_items": null,
      "left": null,
      "margin": null,
      "max_height": null,
      "max_width": null,
      "min_height": null,
      "min_width": null,
      "object_fit": null,
      "object_position": null,
      "order": null,
      "overflow": null,
      "overflow_x": null,
      "overflow_y": null,
      "padding": null,
      "right": null,
      "top": null,
      "visibility": null,
      "width": "'200'"
     }
    },
    "751a9175d0d34174b8ad3194662e9125": {
     "model_module": "@jupyter-widgets/base",
     "model_name": "LayoutModel",
     "state": {
      "_model_module": "@jupyter-widgets/base",
      "_model_module_version": "1.2.0",
      "_model_name": "LayoutModel",
      "_view_count": null,
      "_view_module": "@jupyter-widgets/base",
      "_view_module_version": "1.2.0",
      "_view_name": "LayoutView",
      "align_content": null,
      "align_items": null,
      "align_self": null,
      "border": null,
      "bottom": null,
      "display": null,
      "flex": null,
      "flex_flow": null,
      "grid_area": null,
      "grid_auto_columns": null,
      "grid_auto_flow": null,
      "grid_auto_rows": null,
      "grid_column": null,
      "grid_gap": null,
      "grid_row": null,
      "grid_template_areas": null,
      "grid_template_columns": null,
      "grid_template_rows": null,
      "height": null,
      "justify_content": null,
      "justify_items": null,
      "left": null,
      "margin": null,
      "max_height": null,
      "max_width": null,
      "min_height": null,
      "min_width": null,
      "object_fit": null,
      "object_position": null,
      "order": null,
      "overflow": null,
      "overflow_x": null,
      "overflow_y": null,
      "padding": null,
      "right": null,
      "top": null,
      "visibility": null,
      "width": "'200'"
     }
    },
    "7af7cd7485564731a3d1b4d92f367cd4": {
     "model_module": "@jupyter-widgets/controls",
     "model_name": "FloatSliderModel",
     "state": {
      "_dom_classes": [],
      "_model_module": "@jupyter-widgets/controls",
      "_model_module_version": "1.5.0",
      "_model_name": "FloatSliderModel",
      "_view_count": null,
      "_view_module": "@jupyter-widgets/controls",
      "_view_module_version": "1.5.0",
      "_view_name": "FloatSliderView",
      "continuous_update": true,
      "description": "iiwa_joint_4",
      "description_tooltip": null,
      "disabled": false,
      "layout": "IPY_MODEL_ce2045dff04545fdba931e0f6a304da6",
      "max": 2.0944,
      "min": -2.0944,
      "orientation": "horizontal",
      "readout": true,
      "readout_format": ".2f",
      "step": 0.01,
      "style": "IPY_MODEL_6cf2f2c2f3c346169914dbf93a7a97f6",
      "value": 0
     }
    },
    "836ff441c8fe493183c630e07beca9b0": {
     "model_module": "@jupyter-widgets/base",
     "model_name": "LayoutModel",
     "state": {
      "_model_module": "@jupyter-widgets/base",
      "_model_module_version": "1.2.0",
      "_model_name": "LayoutModel",
      "_view_count": null,
      "_view_module": "@jupyter-widgets/base",
      "_view_module_version": "1.2.0",
      "_view_name": "LayoutView",
      "align_content": null,
      "align_items": null,
      "align_self": null,
      "border": null,
      "bottom": null,
      "display": null,
      "flex": null,
      "flex_flow": null,
      "grid_area": null,
      "grid_auto_columns": null,
      "grid_auto_flow": null,
      "grid_auto_rows": null,
      "grid_column": null,
      "grid_gap": null,
      "grid_row": null,
      "grid_template_areas": null,
      "grid_template_columns": null,
      "grid_template_rows": null,
      "height": null,
      "justify_content": null,
      "justify_items": null,
      "left": null,
      "margin": null,
      "max_height": null,
      "max_width": null,
      "min_height": null,
      "min_width": null,
      "object_fit": null,
      "object_position": null,
      "order": null,
      "overflow": null,
      "overflow_x": null,
      "overflow_y": null,
      "padding": null,
      "right": null,
      "top": null,
      "visibility": null,
      "width": "'200'"
     }
    },
    "84fdefe571044dd9be613389bec109d0": {
     "model_module": "@jupyter-widgets/controls",
     "model_name": "FloatSliderModel",
     "state": {
      "_dom_classes": [],
      "_model_module": "@jupyter-widgets/controls",
      "_model_module_version": "1.5.0",
      "_model_name": "FloatSliderModel",
      "_view_count": null,
      "_view_module": "@jupyter-widgets/controls",
      "_view_module_version": "1.5.0",
      "_view_name": "FloatSliderView",
      "continuous_update": true,
      "description": "iiwa_joint_2",
      "description_tooltip": null,
      "disabled": false,
      "layout": "IPY_MODEL_12e8d743ffcf4f44a4f976983fe6de5a",
      "max": 2.0944,
      "min": -2.0944,
      "orientation": "horizontal",
      "readout": true,
      "readout_format": ".2f",
      "step": 0.01,
      "style": "IPY_MODEL_469c98d12bbb4d7e86ec755f7be5dac2",
      "value": 0
     }
    },
    "b6cc5d73058543a9ad957999b74a2fb8": {
     "model_module": "@jupyter-widgets/base",
     "model_name": "LayoutModel",
     "state": {
      "_model_module": "@jupyter-widgets/base",
      "_model_module_version": "1.2.0",
      "_model_name": "LayoutModel",
      "_view_count": null,
      "_view_module": "@jupyter-widgets/base",
      "_view_module_version": "1.2.0",
      "_view_name": "LayoutView",
      "align_content": null,
      "align_items": null,
      "align_self": null,
      "border": null,
      "bottom": null,
      "display": null,
      "flex": null,
      "flex_flow": null,
      "grid_area": null,
      "grid_auto_columns": null,
      "grid_auto_flow": null,
      "grid_auto_rows": null,
      "grid_column": null,
      "grid_gap": null,
      "grid_row": null,
      "grid_template_areas": null,
      "grid_template_columns": null,
      "grid_template_rows": null,
      "height": null,
      "justify_content": null,
      "justify_items": null,
      "left": null,
      "margin": null,
      "max_height": null,
      "max_width": null,
      "min_height": null,
      "min_width": null,
      "object_fit": null,
      "object_position": null,
      "order": null,
      "overflow": null,
      "overflow_x": null,
      "overflow_y": null,
      "padding": null,
      "right": null,
      "top": null,
      "visibility": null,
      "width": "'200'"
     }
    },
    "beec2b614e2d4455b5cbab39e7c40a86": {
     "model_module": "@jupyter-widgets/controls",
     "model_name": "FloatSliderModel",
     "state": {
      "_dom_classes": [],
      "_model_module": "@jupyter-widgets/controls",
      "_model_module_version": "1.5.0",
      "_model_name": "FloatSliderModel",
      "_view_count": null,
      "_view_module": "@jupyter-widgets/controls",
      "_view_module_version": "1.5.0",
      "_view_name": "FloatSliderView",
      "continuous_update": true,
      "description": "iiwa_joint_1",
      "description_tooltip": null,
      "disabled": false,
      "layout": "IPY_MODEL_70491e6644bf47b7804271cc54de2094",
      "max": 2.96706,
      "min": -2.96706,
      "orientation": "horizontal",
      "readout": true,
      "readout_format": ".2f",
      "step": 0.01,
      "style": "IPY_MODEL_42f57304ac414f8f97f581946441ca07",
      "value": 2.96294
     }
    },
    "c7a5f9db397641199c9580d74b13eeac": {
     "model_module": "@jupyter-widgets/controls",
     "model_name": "FloatSliderModel",
     "state": {
      "_dom_classes": [],
      "_model_module": "@jupyter-widgets/controls",
      "_model_module_version": "1.5.0",
      "_model_name": "FloatSliderModel",
      "_view_count": null,
      "_view_module": "@jupyter-widgets/controls",
      "_view_module_version": "1.5.0",
      "_view_name": "FloatSliderView",
      "continuous_update": true,
      "description": "iiwa_joint_6",
      "description_tooltip": null,
      "disabled": false,
      "layout": "IPY_MODEL_751a9175d0d34174b8ad3194662e9125",
      "max": 2.0944,
      "min": -2.0944,
      "orientation": "horizontal",
      "readout": true,
      "readout_format": ".2f",
      "step": 0.01,
      "style": "IPY_MODEL_4f0598c97843413baadcc98ffc24e156",
      "value": 0
     }
    },
    "ce2045dff04545fdba931e0f6a304da6": {
     "model_module": "@jupyter-widgets/base",
     "model_name": "LayoutModel",
     "state": {
      "_model_module": "@jupyter-widgets/base",
      "_model_module_version": "1.2.0",
      "_model_name": "LayoutModel",
      "_view_count": null,
      "_view_module": "@jupyter-widgets/base",
      "_view_module_version": "1.2.0",
      "_view_name": "LayoutView",
      "align_content": null,
      "align_items": null,
      "align_self": null,
      "border": null,
      "bottom": null,
      "display": null,
      "flex": null,
      "flex_flow": null,
      "grid_area": null,
      "grid_auto_columns": null,
      "grid_auto_flow": null,
      "grid_auto_rows": null,
      "grid_column": null,
      "grid_gap": null,
      "grid_row": null,
      "grid_template_areas": null,
      "grid_template_columns": null,
      "grid_template_rows": null,
      "height": null,
      "justify_content": null,
      "justify_items": null,
      "left": null,
      "margin": null,
      "max_height": null,
      "max_width": null,
      "min_height": null,
      "min_width": null,
      "object_fit": null,
      "object_position": null,
      "order": null,
      "overflow": null,
      "overflow_x": null,
      "overflow_y": null,
      "padding": null,
      "right": null,
      "top": null,
      "visibility": null,
      "width": "'200'"
     }
    }
   }
  }
 },
 "nbformat": 4,
 "nbformat_minor": 4
}
